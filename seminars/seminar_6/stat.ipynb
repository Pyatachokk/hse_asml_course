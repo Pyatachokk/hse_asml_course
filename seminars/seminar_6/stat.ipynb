{
 "cells": [
  {
   "cell_type": "markdown",
   "metadata": {},
   "source": [
    "## Описание данных"
   ]
  },
  {
   "cell_type": "markdown",
   "metadata": {},
   "source": [
    "В качестве примера рассмотрим потребительские расходы на здравоохранение по регионам России за 2022 и 2023 годы. Они представлены в руб./мес. в среднем на члена \n",
    "домашнего хозяйств.\n",
    "\n",
    "Источник данных: Росстат, Приложение 1. \"Доходы, расходы и потребление домашних хозяйств по субъектам \n",
    "Российской Федераци\", лист 1.4и\n",
    "https://rosstat.gov.ru/storage/mediabank/Dohod_rashod_potreblen_3k-2023.htm"
   ]
  },
  {
   "cell_type": "markdown",
   "metadata": {},
   "source": [
    "### Гистограммы"
   ]
  },
  {
   "cell_type": "code",
   "execution_count": 51,
   "metadata": {},
   "outputs": [
    {
     "data": {
      "text/html": [
       "<div>\n",
       "<style scoped>\n",
       "    .dataframe tbody tr th:only-of-type {\n",
       "        vertical-align: middle;\n",
       "    }\n",
       "\n",
       "    .dataframe tbody tr th {\n",
       "        vertical-align: top;\n",
       "    }\n",
       "\n",
       "    .dataframe thead th {\n",
       "        text-align: right;\n",
       "    }\n",
       "</style>\n",
       "<table border=\"1\" class=\"dataframe\">\n",
       "  <thead>\n",
       "    <tr style=\"text-align: right;\">\n",
       "      <th></th>\n",
       "      <th>expense_3q2022</th>\n",
       "      <th>expense_3q2023</th>\n",
       "      <th>healthP_3q2022</th>\n",
       "      <th>healthP_3q2023</th>\n",
       "      <th>health_3q2022</th>\n",
       "      <th>health_3q2023</th>\n",
       "    </tr>\n",
       "    <tr>\n",
       "      <th>region</th>\n",
       "      <th></th>\n",
       "      <th></th>\n",
       "      <th></th>\n",
       "      <th></th>\n",
       "      <th></th>\n",
       "      <th></th>\n",
       "    </tr>\n",
       "  </thead>\n",
       "  <tbody>\n",
       "    <tr>\n",
       "      <th>Белгородская область</th>\n",
       "      <td>21914.398</td>\n",
       "      <td>25241.122</td>\n",
       "      <td>2.568850</td>\n",
       "      <td>2.994974</td>\n",
       "      <td>562.948</td>\n",
       "      <td>755.965</td>\n",
       "    </tr>\n",
       "    <tr>\n",
       "      <th>Брянская область</th>\n",
       "      <td>18265.001</td>\n",
       "      <td>19635.899</td>\n",
       "      <td>2.933966</td>\n",
       "      <td>3.079054</td>\n",
       "      <td>535.889</td>\n",
       "      <td>604.600</td>\n",
       "    </tr>\n",
       "    <tr>\n",
       "      <th>Владимирская область</th>\n",
       "      <td>19813.828</td>\n",
       "      <td>23137.913</td>\n",
       "      <td>3.588756</td>\n",
       "      <td>3.879473</td>\n",
       "      <td>711.070</td>\n",
       "      <td>897.629</td>\n",
       "    </tr>\n",
       "    <tr>\n",
       "      <th>Воронежская область</th>\n",
       "      <td>17621.889</td>\n",
       "      <td>19502.166</td>\n",
       "      <td>4.558280</td>\n",
       "      <td>4.991471</td>\n",
       "      <td>803.255</td>\n",
       "      <td>973.445</td>\n",
       "    </tr>\n",
       "    <tr>\n",
       "      <th>Ивановская область</th>\n",
       "      <td>21681.452</td>\n",
       "      <td>23090.981</td>\n",
       "      <td>4.420234</td>\n",
       "      <td>5.235269</td>\n",
       "      <td>958.371</td>\n",
       "      <td>1208.875</td>\n",
       "    </tr>\n",
       "    <tr>\n",
       "      <th>...</th>\n",
       "      <td>...</td>\n",
       "      <td>...</td>\n",
       "      <td>...</td>\n",
       "      <td>...</td>\n",
       "      <td>...</td>\n",
       "      <td>...</td>\n",
       "    </tr>\n",
       "    <tr>\n",
       "      <th>Амурская область</th>\n",
       "      <td>19586.108</td>\n",
       "      <td>21720.673</td>\n",
       "      <td>5.966755</td>\n",
       "      <td>3.962138</td>\n",
       "      <td>1168.655</td>\n",
       "      <td>860.603</td>\n",
       "    </tr>\n",
       "    <tr>\n",
       "      <th>Магаданская область</th>\n",
       "      <td>36153.698</td>\n",
       "      <td>64866.434</td>\n",
       "      <td>3.411275</td>\n",
       "      <td>1.548055</td>\n",
       "      <td>1233.302</td>\n",
       "      <td>1004.168</td>\n",
       "    </tr>\n",
       "    <tr>\n",
       "      <th>Сахалинская область</th>\n",
       "      <td>32652.890</td>\n",
       "      <td>32761.952</td>\n",
       "      <td>3.462753</td>\n",
       "      <td>4.333130</td>\n",
       "      <td>1130.689</td>\n",
       "      <td>1419.618</td>\n",
       "    </tr>\n",
       "    <tr>\n",
       "      <th>Еврейская автономная область</th>\n",
       "      <td>21690.199</td>\n",
       "      <td>25686.048</td>\n",
       "      <td>4.416723</td>\n",
       "      <td>3.795769</td>\n",
       "      <td>957.996</td>\n",
       "      <td>974.983</td>\n",
       "    </tr>\n",
       "    <tr>\n",
       "      <th>Чукотский автономный округ</th>\n",
       "      <td>34444.050</td>\n",
       "      <td>29854.794</td>\n",
       "      <td>3.193692</td>\n",
       "      <td>2.547809</td>\n",
       "      <td>1100.037</td>\n",
       "      <td>760.643</td>\n",
       "    </tr>\n",
       "  </tbody>\n",
       "</table>\n",
       "<p>82 rows × 6 columns</p>\n",
       "</div>"
      ],
      "text/plain": [
       "                              expense_3q2022  expense_3q2023  healthP_3q2022  \\\n",
       "region                                                                         \n",
       "Белгородская область               21914.398       25241.122        2.568850   \n",
       "Брянская область                   18265.001       19635.899        2.933966   \n",
       "Владимирская область               19813.828       23137.913        3.588756   \n",
       "Воронежская область                17621.889       19502.166        4.558280   \n",
       "Ивановская область                 21681.452       23090.981        4.420234   \n",
       "...                                      ...             ...             ...   \n",
       "Амурская область                   19586.108       21720.673        5.966755   \n",
       "Магаданская область                36153.698       64866.434        3.411275   \n",
       "Сахалинская область                32652.890       32761.952        3.462753   \n",
       "Еврейская автономная область       21690.199       25686.048        4.416723   \n",
       "Чукотский автономный округ         34444.050       29854.794        3.193692   \n",
       "\n",
       "                              healthP_3q2023  health_3q2022  health_3q2023  \n",
       "region                                                                      \n",
       "Белгородская область                2.994974        562.948        755.965  \n",
       "Брянская область                    3.079054        535.889        604.600  \n",
       "Владимирская область                3.879473        711.070        897.629  \n",
       "Воронежская область                 4.991471        803.255        973.445  \n",
       "Ивановская область                  5.235269        958.371       1208.875  \n",
       "...                                      ...            ...            ...  \n",
       "Амурская область                    3.962138       1168.655        860.603  \n",
       "Магаданская область                 1.548055       1233.302       1004.168  \n",
       "Сахалинская область                 4.333130       1130.689       1419.618  \n",
       "Еврейская автономная область        3.795769        957.996        974.983  \n",
       "Чукотский автономный округ          2.547809       1100.037        760.643  \n",
       "\n",
       "[82 rows x 6 columns]"
      ]
     },
     "execution_count": 51,
     "metadata": {},
     "output_type": "execute_result"
    }
   ],
   "source": [
    "import pandas as pd\n",
    "\n",
    "data = pd.read_excel(\"data.xlsx\", sheet_name = \"Data\", index_col=0)\n",
    "data.index.name = \"region\"\n",
    "\n",
    "data"
   ]
  },
  {
   "cell_type": "code",
   "execution_count": 52,
   "metadata": {},
   "outputs": [
    {
     "data": {
      "text/html": [
       "<div>\n",
       "<style scoped>\n",
       "    .dataframe tbody tr th:only-of-type {\n",
       "        vertical-align: middle;\n",
       "    }\n",
       "\n",
       "    .dataframe tbody tr th {\n",
       "        vertical-align: top;\n",
       "    }\n",
       "\n",
       "    .dataframe thead th {\n",
       "        text-align: right;\n",
       "    }\n",
       "</style>\n",
       "<table border=\"1\" class=\"dataframe\">\n",
       "  <thead>\n",
       "    <tr style=\"text-align: right;\">\n",
       "      <th></th>\n",
       "      <th>expense_3q2022</th>\n",
       "      <th>expense_3q2023</th>\n",
       "      <th>healthP_3q2022</th>\n",
       "      <th>healthP_3q2023</th>\n",
       "      <th>health_3q2022</th>\n",
       "      <th>health_3q2023</th>\n",
       "    </tr>\n",
       "  </thead>\n",
       "  <tbody>\n",
       "    <tr>\n",
       "      <th>count</th>\n",
       "      <td>82.000000</td>\n",
       "      <td>82.000000</td>\n",
       "      <td>82.000000</td>\n",
       "      <td>82.000000</td>\n",
       "      <td>82.000000</td>\n",
       "      <td>82.000000</td>\n",
       "    </tr>\n",
       "    <tr>\n",
       "      <th>mean</th>\n",
       "      <td>21252.736085</td>\n",
       "      <td>23967.866829</td>\n",
       "      <td>4.115228</td>\n",
       "      <td>3.833511</td>\n",
       "      <td>862.433720</td>\n",
       "      <td>896.120622</td>\n",
       "    </tr>\n",
       "    <tr>\n",
       "      <th>std</th>\n",
       "      <td>5595.837863</td>\n",
       "      <td>7545.254090</td>\n",
       "      <td>1.249560</td>\n",
       "      <td>1.433418</td>\n",
       "      <td>276.716227</td>\n",
       "      <td>348.509391</td>\n",
       "    </tr>\n",
       "    <tr>\n",
       "      <th>min</th>\n",
       "      <td>11811.853000</td>\n",
       "      <td>12740.119000</td>\n",
       "      <td>1.336844</td>\n",
       "      <td>1.548055</td>\n",
       "      <td>157.906000</td>\n",
       "      <td>205.330000</td>\n",
       "    </tr>\n",
       "    <tr>\n",
       "      <th>25%</th>\n",
       "      <td>17519.260500</td>\n",
       "      <td>19409.430000</td>\n",
       "      <td>3.273287</td>\n",
       "      <td>2.903333</td>\n",
       "      <td>720.323500</td>\n",
       "      <td>712.986500</td>\n",
       "    </tr>\n",
       "    <tr>\n",
       "      <th>50%</th>\n",
       "      <td>20394.350500</td>\n",
       "      <td>23282.251000</td>\n",
       "      <td>3.990225</td>\n",
       "      <td>3.787105</td>\n",
       "      <td>867.351500</td>\n",
       "      <td>891.469000</td>\n",
       "    </tr>\n",
       "    <tr>\n",
       "      <th>75%</th>\n",
       "      <td>23346.558000</td>\n",
       "      <td>26285.469750</td>\n",
       "      <td>4.703184</td>\n",
       "      <td>4.498421</td>\n",
       "      <td>1013.985750</td>\n",
       "      <td>997.344250</td>\n",
       "    </tr>\n",
       "    <tr>\n",
       "      <th>max</th>\n",
       "      <td>40514.427000</td>\n",
       "      <td>64866.434000</td>\n",
       "      <td>8.702164</td>\n",
       "      <td>9.337385</td>\n",
       "      <td>1651.409000</td>\n",
       "      <td>2249.667000</td>\n",
       "    </tr>\n",
       "  </tbody>\n",
       "</table>\n",
       "</div>"
      ],
      "text/plain": [
       "       expense_3q2022  expense_3q2023  healthP_3q2022  healthP_3q2023  \\\n",
       "count       82.000000       82.000000       82.000000       82.000000   \n",
       "mean     21252.736085    23967.866829        4.115228        3.833511   \n",
       "std       5595.837863     7545.254090        1.249560        1.433418   \n",
       "min      11811.853000    12740.119000        1.336844        1.548055   \n",
       "25%      17519.260500    19409.430000        3.273287        2.903333   \n",
       "50%      20394.350500    23282.251000        3.990225        3.787105   \n",
       "75%      23346.558000    26285.469750        4.703184        4.498421   \n",
       "max      40514.427000    64866.434000        8.702164        9.337385   \n",
       "\n",
       "       health_3q2022  health_3q2023  \n",
       "count      82.000000      82.000000  \n",
       "mean      862.433720     896.120622  \n",
       "std       276.716227     348.509391  \n",
       "min       157.906000     205.330000  \n",
       "25%       720.323500     712.986500  \n",
       "50%       867.351500     891.469000  \n",
       "75%      1013.985750     997.344250  \n",
       "max      1651.409000    2249.667000  "
      ]
     },
     "execution_count": 52,
     "metadata": {},
     "output_type": "execute_result"
    }
   ],
   "source": [
    "data.health_3q2023.describe()"
   ]
  },
  {
   "cell_type": "code",
   "execution_count": 53,
   "metadata": {},
   "outputs": [
    {
     "data": {
      "application/vnd.plotly.v1+json": {
       "config": {
        "plotlyServerURL": "https://plot.ly"
       },
       "data": [
        {
         "autobinx": true,
         "type": "histogram",
         "x": [
          562.948,
          535.889,
          711.07,
          803.2550000000001,
          958.3710000000001,
          919.117,
          1067.161,
          748.586,
          984.5880000000001,
          894.521,
          751.809,
          1085.888,
          842.887,
          924.7239999999999,
          1033.8990000000001,
          1200.144,
          974.5350000000002,
          1081.617,
          832.4630000000001,
          926.805,
          944.943,
          1148.1419999999998,
          719.811,
          795.4439999999998,
          1443.069,
          1211.929,
          1499.2149999999997,
          1023.329,
          913.8000000000002,
          400.465,
          761.87,
          1404.451,
          812.7500000000001,
          890.1530000000001,
          745.2580000000002,
          944.7589999999999,
          408.69599999999997,
          157.906,
          310.809,
          976.737,
          532.691,
          621.7269999999999,
          855.6239999999998,
          742.97,
          547.1869999999999,
          817.7389999999999,
          849.762,
          936.8969999999999,
          427.93699999999995,
          943.311,
          879.079,
          880.844,
          549.95,
          623.2759999999998,
          561.4899999999999,
          594.48,
          1225.721,
          700.862,
          1245.9880000000003,
          854.045,
          784.4910000000001,
          627.3430000000001,
          314.798,
          706.36,
          722.3160000000003,
          733.956,
          985.956,
          846.911,
          740.42,
          936.087,
          1146.274,
          324.823,
          1081.654,
          721.8610000000001,
          979.275,
          1079.5589999999997,
          1651.4090000000003,
          1168.6549999999997,
          1233.302,
          1130.6889999999999,
          957.9960000000001,
          1100.037
         ],
         "xaxis": "x",
         "yaxis": "y"
        },
        {
         "autobinx": true,
         "type": "histogram",
         "x": [
          755.9650000000001,
          604.5999999999999,
          897.6289999999999,
          973.445,
          1208.8749999999998,
          1163.452,
          873.8889999999999,
          740.3620000000001,
          996.763,
          1342.089,
          997.538,
          813.3960000000001,
          897.816,
          737.808,
          795.4770000000001,
          769.802,
          995.285,
          1109.656,
          980.905,
          950.1510000000001,
          844.8370000000001,
          984.5290000000001,
          549.223,
          980.0219999999999,
          1294.2959999999998,
          1057.2910000000002,
          1316.3339999999998,
          697.7719999999999,
          708.2829999999999,
          621.1669999999999,
          578.254,
          2249.667,
          607.5880000000001,
          1144.9510000000002,
          941.1230000000002,
          578.474,
          261.08,
          205.33,
          327.17800000000005,
          988.2769999999999,
          524.955,
          229.365,
          851.4420000000001,
          896.7660000000001,
          720.248,
          896.039,
          1191.815,
          1230.586,
          739.4879999999998,
          1099.476,
          933.5070000000001,
          1033.768,
          857.1290000000001,
          853.3530000000002,
          594.941,
          779.607,
          886.8989999999999,
          773.7530000000002,
          1222.0240000000001,
          1200.955,
          902.572,
          604.191,
          277.08599999999996,
          710.566,
          664.169,
          691.048,
          1175.192,
          825.7189999999998,
          940.927,
          693.85,
          2194.495,
          303.9,
          987.878,
          740.8179999999999,
          929.2739999999999,
          965.1179999999999,
          1798.378,
          860.6030000000001,
          1004.168,
          1419.618,
          974.9830000000001,
          760.643
         ],
         "xaxis": "x2",
         "yaxis": "y2"
        }
       ],
       "layout": {
        "annotations": [
         {
          "font": {
           "size": 16
          },
          "showarrow": false,
          "text": "Health expenses in 3Q2022 per h/h member",
          "x": 0.225,
          "xanchor": "center",
          "xref": "paper",
          "y": 1,
          "yanchor": "bottom",
          "yref": "paper"
         },
         {
          "font": {
           "size": 16
          },
          "showarrow": false,
          "text": "Health expenses in 3Q2023 per h/h member",
          "x": 0.775,
          "xanchor": "center",
          "xref": "paper",
          "y": 1,
          "yanchor": "bottom",
          "yref": "paper"
         }
        ],
        "height": 500,
        "showlegend": false,
        "template": {
         "data": {
          "bar": [
           {
            "error_x": {
             "color": "#2a3f5f"
            },
            "error_y": {
             "color": "#2a3f5f"
            },
            "marker": {
             "line": {
              "color": "#E5ECF6",
              "width": 0.5
             },
             "pattern": {
              "fillmode": "overlay",
              "size": 10,
              "solidity": 0.2
             }
            },
            "type": "bar"
           }
          ],
          "barpolar": [
           {
            "marker": {
             "line": {
              "color": "#E5ECF6",
              "width": 0.5
             },
             "pattern": {
              "fillmode": "overlay",
              "size": 10,
              "solidity": 0.2
             }
            },
            "type": "barpolar"
           }
          ],
          "carpet": [
           {
            "aaxis": {
             "endlinecolor": "#2a3f5f",
             "gridcolor": "white",
             "linecolor": "white",
             "minorgridcolor": "white",
             "startlinecolor": "#2a3f5f"
            },
            "baxis": {
             "endlinecolor": "#2a3f5f",
             "gridcolor": "white",
             "linecolor": "white",
             "minorgridcolor": "white",
             "startlinecolor": "#2a3f5f"
            },
            "type": "carpet"
           }
          ],
          "choropleth": [
           {
            "colorbar": {
             "outlinewidth": 0,
             "ticks": ""
            },
            "type": "choropleth"
           }
          ],
          "contour": [
           {
            "colorbar": {
             "outlinewidth": 0,
             "ticks": ""
            },
            "colorscale": [
             [
              0,
              "#0d0887"
             ],
             [
              0.1111111111111111,
              "#46039f"
             ],
             [
              0.2222222222222222,
              "#7201a8"
             ],
             [
              0.3333333333333333,
              "#9c179e"
             ],
             [
              0.4444444444444444,
              "#bd3786"
             ],
             [
              0.5555555555555556,
              "#d8576b"
             ],
             [
              0.6666666666666666,
              "#ed7953"
             ],
             [
              0.7777777777777778,
              "#fb9f3a"
             ],
             [
              0.8888888888888888,
              "#fdca26"
             ],
             [
              1,
              "#f0f921"
             ]
            ],
            "type": "contour"
           }
          ],
          "contourcarpet": [
           {
            "colorbar": {
             "outlinewidth": 0,
             "ticks": ""
            },
            "type": "contourcarpet"
           }
          ],
          "heatmap": [
           {
            "colorbar": {
             "outlinewidth": 0,
             "ticks": ""
            },
            "colorscale": [
             [
              0,
              "#0d0887"
             ],
             [
              0.1111111111111111,
              "#46039f"
             ],
             [
              0.2222222222222222,
              "#7201a8"
             ],
             [
              0.3333333333333333,
              "#9c179e"
             ],
             [
              0.4444444444444444,
              "#bd3786"
             ],
             [
              0.5555555555555556,
              "#d8576b"
             ],
             [
              0.6666666666666666,
              "#ed7953"
             ],
             [
              0.7777777777777778,
              "#fb9f3a"
             ],
             [
              0.8888888888888888,
              "#fdca26"
             ],
             [
              1,
              "#f0f921"
             ]
            ],
            "type": "heatmap"
           }
          ],
          "heatmapgl": [
           {
            "colorbar": {
             "outlinewidth": 0,
             "ticks": ""
            },
            "colorscale": [
             [
              0,
              "#0d0887"
             ],
             [
              0.1111111111111111,
              "#46039f"
             ],
             [
              0.2222222222222222,
              "#7201a8"
             ],
             [
              0.3333333333333333,
              "#9c179e"
             ],
             [
              0.4444444444444444,
              "#bd3786"
             ],
             [
              0.5555555555555556,
              "#d8576b"
             ],
             [
              0.6666666666666666,
              "#ed7953"
             ],
             [
              0.7777777777777778,
              "#fb9f3a"
             ],
             [
              0.8888888888888888,
              "#fdca26"
             ],
             [
              1,
              "#f0f921"
             ]
            ],
            "type": "heatmapgl"
           }
          ],
          "histogram": [
           {
            "marker": {
             "pattern": {
              "fillmode": "overlay",
              "size": 10,
              "solidity": 0.2
             }
            },
            "type": "histogram"
           }
          ],
          "histogram2d": [
           {
            "colorbar": {
             "outlinewidth": 0,
             "ticks": ""
            },
            "colorscale": [
             [
              0,
              "#0d0887"
             ],
             [
              0.1111111111111111,
              "#46039f"
             ],
             [
              0.2222222222222222,
              "#7201a8"
             ],
             [
              0.3333333333333333,
              "#9c179e"
             ],
             [
              0.4444444444444444,
              "#bd3786"
             ],
             [
              0.5555555555555556,
              "#d8576b"
             ],
             [
              0.6666666666666666,
              "#ed7953"
             ],
             [
              0.7777777777777778,
              "#fb9f3a"
             ],
             [
              0.8888888888888888,
              "#fdca26"
             ],
             [
              1,
              "#f0f921"
             ]
            ],
            "type": "histogram2d"
           }
          ],
          "histogram2dcontour": [
           {
            "colorbar": {
             "outlinewidth": 0,
             "ticks": ""
            },
            "colorscale": [
             [
              0,
              "#0d0887"
             ],
             [
              0.1111111111111111,
              "#46039f"
             ],
             [
              0.2222222222222222,
              "#7201a8"
             ],
             [
              0.3333333333333333,
              "#9c179e"
             ],
             [
              0.4444444444444444,
              "#bd3786"
             ],
             [
              0.5555555555555556,
              "#d8576b"
             ],
             [
              0.6666666666666666,
              "#ed7953"
             ],
             [
              0.7777777777777778,
              "#fb9f3a"
             ],
             [
              0.8888888888888888,
              "#fdca26"
             ],
             [
              1,
              "#f0f921"
             ]
            ],
            "type": "histogram2dcontour"
           }
          ],
          "mesh3d": [
           {
            "colorbar": {
             "outlinewidth": 0,
             "ticks": ""
            },
            "type": "mesh3d"
           }
          ],
          "parcoords": [
           {
            "line": {
             "colorbar": {
              "outlinewidth": 0,
              "ticks": ""
             }
            },
            "type": "parcoords"
           }
          ],
          "pie": [
           {
            "automargin": true,
            "type": "pie"
           }
          ],
          "scatter": [
           {
            "fillpattern": {
             "fillmode": "overlay",
             "size": 10,
             "solidity": 0.2
            },
            "type": "scatter"
           }
          ],
          "scatter3d": [
           {
            "line": {
             "colorbar": {
              "outlinewidth": 0,
              "ticks": ""
             }
            },
            "marker": {
             "colorbar": {
              "outlinewidth": 0,
              "ticks": ""
             }
            },
            "type": "scatter3d"
           }
          ],
          "scattercarpet": [
           {
            "marker": {
             "colorbar": {
              "outlinewidth": 0,
              "ticks": ""
             }
            },
            "type": "scattercarpet"
           }
          ],
          "scattergeo": [
           {
            "marker": {
             "colorbar": {
              "outlinewidth": 0,
              "ticks": ""
             }
            },
            "type": "scattergeo"
           }
          ],
          "scattergl": [
           {
            "marker": {
             "colorbar": {
              "outlinewidth": 0,
              "ticks": ""
             }
            },
            "type": "scattergl"
           }
          ],
          "scattermapbox": [
           {
            "marker": {
             "colorbar": {
              "outlinewidth": 0,
              "ticks": ""
             }
            },
            "type": "scattermapbox"
           }
          ],
          "scatterpolar": [
           {
            "marker": {
             "colorbar": {
              "outlinewidth": 0,
              "ticks": ""
             }
            },
            "type": "scatterpolar"
           }
          ],
          "scatterpolargl": [
           {
            "marker": {
             "colorbar": {
              "outlinewidth": 0,
              "ticks": ""
             }
            },
            "type": "scatterpolargl"
           }
          ],
          "scatterternary": [
           {
            "marker": {
             "colorbar": {
              "outlinewidth": 0,
              "ticks": ""
             }
            },
            "type": "scatterternary"
           }
          ],
          "surface": [
           {
            "colorbar": {
             "outlinewidth": 0,
             "ticks": ""
            },
            "colorscale": [
             [
              0,
              "#0d0887"
             ],
             [
              0.1111111111111111,
              "#46039f"
             ],
             [
              0.2222222222222222,
              "#7201a8"
             ],
             [
              0.3333333333333333,
              "#9c179e"
             ],
             [
              0.4444444444444444,
              "#bd3786"
             ],
             [
              0.5555555555555556,
              "#d8576b"
             ],
             [
              0.6666666666666666,
              "#ed7953"
             ],
             [
              0.7777777777777778,
              "#fb9f3a"
             ],
             [
              0.8888888888888888,
              "#fdca26"
             ],
             [
              1,
              "#f0f921"
             ]
            ],
            "type": "surface"
           }
          ],
          "table": [
           {
            "cells": {
             "fill": {
              "color": "#EBF0F8"
             },
             "line": {
              "color": "white"
             }
            },
            "header": {
             "fill": {
              "color": "#C8D4E3"
             },
             "line": {
              "color": "white"
             }
            },
            "type": "table"
           }
          ]
         },
         "layout": {
          "annotationdefaults": {
           "arrowcolor": "#2a3f5f",
           "arrowhead": 0,
           "arrowwidth": 1
          },
          "autotypenumbers": "strict",
          "coloraxis": {
           "colorbar": {
            "outlinewidth": 0,
            "ticks": ""
           }
          },
          "colorscale": {
           "diverging": [
            [
             0,
             "#8e0152"
            ],
            [
             0.1,
             "#c51b7d"
            ],
            [
             0.2,
             "#de77ae"
            ],
            [
             0.3,
             "#f1b6da"
            ],
            [
             0.4,
             "#fde0ef"
            ],
            [
             0.5,
             "#f7f7f7"
            ],
            [
             0.6,
             "#e6f5d0"
            ],
            [
             0.7,
             "#b8e186"
            ],
            [
             0.8,
             "#7fbc41"
            ],
            [
             0.9,
             "#4d9221"
            ],
            [
             1,
             "#276419"
            ]
           ],
           "sequential": [
            [
             0,
             "#0d0887"
            ],
            [
             0.1111111111111111,
             "#46039f"
            ],
            [
             0.2222222222222222,
             "#7201a8"
            ],
            [
             0.3333333333333333,
             "#9c179e"
            ],
            [
             0.4444444444444444,
             "#bd3786"
            ],
            [
             0.5555555555555556,
             "#d8576b"
            ],
            [
             0.6666666666666666,
             "#ed7953"
            ],
            [
             0.7777777777777778,
             "#fb9f3a"
            ],
            [
             0.8888888888888888,
             "#fdca26"
            ],
            [
             1,
             "#f0f921"
            ]
           ],
           "sequentialminus": [
            [
             0,
             "#0d0887"
            ],
            [
             0.1111111111111111,
             "#46039f"
            ],
            [
             0.2222222222222222,
             "#7201a8"
            ],
            [
             0.3333333333333333,
             "#9c179e"
            ],
            [
             0.4444444444444444,
             "#bd3786"
            ],
            [
             0.5555555555555556,
             "#d8576b"
            ],
            [
             0.6666666666666666,
             "#ed7953"
            ],
            [
             0.7777777777777778,
             "#fb9f3a"
            ],
            [
             0.8888888888888888,
             "#fdca26"
            ],
            [
             1,
             "#f0f921"
            ]
           ]
          },
          "colorway": [
           "#636efa",
           "#EF553B",
           "#00cc96",
           "#ab63fa",
           "#FFA15A",
           "#19d3f3",
           "#FF6692",
           "#B6E880",
           "#FF97FF",
           "#FECB52"
          ],
          "font": {
           "color": "#2a3f5f"
          },
          "geo": {
           "bgcolor": "white",
           "lakecolor": "white",
           "landcolor": "#E5ECF6",
           "showlakes": true,
           "showland": true,
           "subunitcolor": "white"
          },
          "hoverlabel": {
           "align": "left"
          },
          "hovermode": "closest",
          "mapbox": {
           "style": "light"
          },
          "paper_bgcolor": "white",
          "plot_bgcolor": "#E5ECF6",
          "polar": {
           "angularaxis": {
            "gridcolor": "white",
            "linecolor": "white",
            "ticks": ""
           },
           "bgcolor": "#E5ECF6",
           "radialaxis": {
            "gridcolor": "white",
            "linecolor": "white",
            "ticks": ""
           }
          },
          "scene": {
           "xaxis": {
            "backgroundcolor": "#E5ECF6",
            "gridcolor": "white",
            "gridwidth": 2,
            "linecolor": "white",
            "showbackground": true,
            "ticks": "",
            "zerolinecolor": "white"
           },
           "yaxis": {
            "backgroundcolor": "#E5ECF6",
            "gridcolor": "white",
            "gridwidth": 2,
            "linecolor": "white",
            "showbackground": true,
            "ticks": "",
            "zerolinecolor": "white"
           },
           "zaxis": {
            "backgroundcolor": "#E5ECF6",
            "gridcolor": "white",
            "gridwidth": 2,
            "linecolor": "white",
            "showbackground": true,
            "ticks": "",
            "zerolinecolor": "white"
           }
          },
          "shapedefaults": {
           "line": {
            "color": "#2a3f5f"
           }
          },
          "ternary": {
           "aaxis": {
            "gridcolor": "white",
            "linecolor": "white",
            "ticks": ""
           },
           "baxis": {
            "gridcolor": "white",
            "linecolor": "white",
            "ticks": ""
           },
           "bgcolor": "#E5ECF6",
           "caxis": {
            "gridcolor": "white",
            "linecolor": "white",
            "ticks": ""
           }
          },
          "title": {
           "x": 0.05
          },
          "xaxis": {
           "automargin": true,
           "gridcolor": "white",
           "linecolor": "white",
           "ticks": "",
           "title": {
            "standoff": 15
           },
           "zerolinecolor": "white",
           "zerolinewidth": 2
          },
          "yaxis": {
           "automargin": true,
           "gridcolor": "white",
           "linecolor": "white",
           "ticks": "",
           "title": {
            "standoff": 15
           },
           "zerolinecolor": "white",
           "zerolinewidth": 2
          }
         }
        },
        "width": 1000,
        "xaxis": {
         "anchor": "y",
         "domain": [
          0,
          0.45
         ]
        },
        "xaxis2": {
         "anchor": "y2",
         "domain": [
          0.55,
          1
         ]
        },
        "yaxis": {
         "anchor": "x",
         "domain": [
          0,
          1
         ]
        },
        "yaxis2": {
         "anchor": "x2",
         "domain": [
          0,
          1
         ]
        }
       }
      }
     },
     "metadata": {},
     "output_type": "display_data"
    }
   ],
   "source": [
    "import plotly.graph_objects as go\n",
    "from plotly.subplots import make_subplots\n",
    "\n",
    "# Create a 1x2 subplot grid\n",
    "fig = make_subplots(rows=1, cols=2, subplot_titles=[\n",
    "    'Health expenses in 3Q2022 per h/h member',\n",
    "    'Health expenses in 3Q2023 per h/h member'])\n",
    "\n",
    "# First subplot: histogram for 3Q2022\n",
    "fig.add_trace(go.Histogram(x=data.health_3q2022, autobinx=True), row=1, col=1)\n",
    "\n",
    "# Second subplot: histogram for 3Q2023\n",
    "fig.add_trace(go.Histogram(x=data.health_3q2023, autobinx=True), row=1, col=2)\n",
    "\n",
    "# Update layout for the figure\n",
    "fig.update_layout(height=500, width=1000, showlegend=False)\n",
    "\n",
    "# Display the plot\n",
    "fig.show()"
   ]
  },
  {
   "cell_type": "code",
   "execution_count": 54,
   "metadata": {},
   "outputs": [
    {
     "data": {
      "application/vnd.plotly.v1+json": {
       "config": {
        "plotlyServerURL": "https://plot.ly"
       },
       "data": [
        {
         "nbinsx": 10,
         "type": "histogram",
         "x": [
          755.9650000000001,
          604.5999999999999,
          897.6289999999999,
          973.445,
          1208.8749999999998,
          1163.452,
          873.8889999999999,
          740.3620000000001,
          996.763,
          1342.089,
          997.538,
          813.3960000000001,
          897.816,
          737.808,
          795.4770000000001,
          769.802,
          995.285,
          1109.656,
          980.905,
          950.1510000000001,
          844.8370000000001,
          984.5290000000001,
          549.223,
          980.0219999999999,
          1294.2959999999998,
          1057.2910000000002,
          1316.3339999999998,
          697.7719999999999,
          708.2829999999999,
          621.1669999999999,
          578.254,
          2249.667,
          607.5880000000001,
          1144.9510000000002,
          941.1230000000002,
          578.474,
          261.08,
          205.33,
          327.17800000000005,
          988.2769999999999,
          524.955,
          229.365,
          851.4420000000001,
          896.7660000000001,
          720.248,
          896.039,
          1191.815,
          1230.586,
          739.4879999999998,
          1099.476,
          933.5070000000001,
          1033.768,
          857.1290000000001,
          853.3530000000002,
          594.941,
          779.607,
          886.8989999999999,
          773.7530000000002,
          1222.0240000000001,
          1200.955,
          902.572,
          604.191,
          277.08599999999996,
          710.566,
          664.169,
          691.048,
          1175.192,
          825.7189999999998,
          940.927,
          693.85,
          2194.495,
          303.9,
          987.878,
          740.8179999999999,
          929.2739999999999,
          965.1179999999999,
          1798.378,
          860.6030000000001,
          1004.168,
          1419.618,
          974.9830000000001,
          760.643
         ]
        }
       ],
       "layout": {
        "height": 600,
        "sliders": [
         {
          "active": 9,
          "currentvalue": {
           "prefix": "Number of bins: "
          },
          "pad": {
           "t": 50
          },
          "steps": [
           {
            "args": [
             {
              "nbinsx": [
               1
              ]
             }
            ],
            "label": "1 bins",
            "method": "update"
           },
           {
            "args": [
             {
              "nbinsx": [
               2
              ]
             }
            ],
            "label": "2 bins",
            "method": "update"
           },
           {
            "args": [
             {
              "nbinsx": [
               3
              ]
             }
            ],
            "label": "3 bins",
            "method": "update"
           },
           {
            "args": [
             {
              "nbinsx": [
               4
              ]
             }
            ],
            "label": "4 bins",
            "method": "update"
           },
           {
            "args": [
             {
              "nbinsx": [
               5
              ]
             }
            ],
            "label": "5 bins",
            "method": "update"
           },
           {
            "args": [
             {
              "nbinsx": [
               6
              ]
             }
            ],
            "label": "6 bins",
            "method": "update"
           },
           {
            "args": [
             {
              "nbinsx": [
               7
              ]
             }
            ],
            "label": "7 bins",
            "method": "update"
           },
           {
            "args": [
             {
              "nbinsx": [
               8
              ]
             }
            ],
            "label": "8 bins",
            "method": "update"
           },
           {
            "args": [
             {
              "nbinsx": [
               9
              ]
             }
            ],
            "label": "9 bins",
            "method": "update"
           },
           {
            "args": [
             {
              "nbinsx": [
               10
              ]
             }
            ],
            "label": "10 bins",
            "method": "update"
           },
           {
            "args": [
             {
              "nbinsx": [
               11
              ]
             }
            ],
            "label": "11 bins",
            "method": "update"
           },
           {
            "args": [
             {
              "nbinsx": [
               12
              ]
             }
            ],
            "label": "12 bins",
            "method": "update"
           },
           {
            "args": [
             {
              "nbinsx": [
               13
              ]
             }
            ],
            "label": "13 bins",
            "method": "update"
           },
           {
            "args": [
             {
              "nbinsx": [
               14
              ]
             }
            ],
            "label": "14 bins",
            "method": "update"
           },
           {
            "args": [
             {
              "nbinsx": [
               15
              ]
             }
            ],
            "label": "15 bins",
            "method": "update"
           },
           {
            "args": [
             {
              "nbinsx": [
               16
              ]
             }
            ],
            "label": "16 bins",
            "method": "update"
           },
           {
            "args": [
             {
              "nbinsx": [
               17
              ]
             }
            ],
            "label": "17 bins",
            "method": "update"
           },
           {
            "args": [
             {
              "nbinsx": [
               18
              ]
             }
            ],
            "label": "18 bins",
            "method": "update"
           },
           {
            "args": [
             {
              "nbinsx": [
               19
              ]
             }
            ],
            "label": "19 bins",
            "method": "update"
           },
           {
            "args": [
             {
              "nbinsx": [
               20
              ]
             }
            ],
            "label": "20 bins",
            "method": "update"
           },
           {
            "args": [
             {
              "nbinsx": [
               21
              ]
             }
            ],
            "label": "21 bins",
            "method": "update"
           },
           {
            "args": [
             {
              "nbinsx": [
               22
              ]
             }
            ],
            "label": "22 bins",
            "method": "update"
           },
           {
            "args": [
             {
              "nbinsx": [
               23
              ]
             }
            ],
            "label": "23 bins",
            "method": "update"
           },
           {
            "args": [
             {
              "nbinsx": [
               24
              ]
             }
            ],
            "label": "24 bins",
            "method": "update"
           },
           {
            "args": [
             {
              "nbinsx": [
               25
              ]
             }
            ],
            "label": "25 bins",
            "method": "update"
           },
           {
            "args": [
             {
              "nbinsx": [
               26
              ]
             }
            ],
            "label": "26 bins",
            "method": "update"
           },
           {
            "args": [
             {
              "nbinsx": [
               27
              ]
             }
            ],
            "label": "27 bins",
            "method": "update"
           },
           {
            "args": [
             {
              "nbinsx": [
               28
              ]
             }
            ],
            "label": "28 bins",
            "method": "update"
           },
           {
            "args": [
             {
              "nbinsx": [
               29
              ]
             }
            ],
            "label": "29 bins",
            "method": "update"
           },
           {
            "args": [
             {
              "nbinsx": [
               30
              ]
             }
            ],
            "label": "30 bins",
            "method": "update"
           },
           {
            "args": [
             {
              "nbinsx": [
               31
              ]
             }
            ],
            "label": "31 bins",
            "method": "update"
           },
           {
            "args": [
             {
              "nbinsx": [
               32
              ]
             }
            ],
            "label": "32 bins",
            "method": "update"
           },
           {
            "args": [
             {
              "nbinsx": [
               33
              ]
             }
            ],
            "label": "33 bins",
            "method": "update"
           },
           {
            "args": [
             {
              "nbinsx": [
               34
              ]
             }
            ],
            "label": "34 bins",
            "method": "update"
           },
           {
            "args": [
             {
              "nbinsx": [
               35
              ]
             }
            ],
            "label": "35 bins",
            "method": "update"
           },
           {
            "args": [
             {
              "nbinsx": [
               36
              ]
             }
            ],
            "label": "36 bins",
            "method": "update"
           },
           {
            "args": [
             {
              "nbinsx": [
               37
              ]
             }
            ],
            "label": "37 bins",
            "method": "update"
           },
           {
            "args": [
             {
              "nbinsx": [
               38
              ]
             }
            ],
            "label": "38 bins",
            "method": "update"
           },
           {
            "args": [
             {
              "nbinsx": [
               39
              ]
             }
            ],
            "label": "39 bins",
            "method": "update"
           },
           {
            "args": [
             {
              "nbinsx": [
               40
              ]
             }
            ],
            "label": "40 bins",
            "method": "update"
           },
           {
            "args": [
             {
              "nbinsx": [
               41
              ]
             }
            ],
            "label": "41 bins",
            "method": "update"
           },
           {
            "args": [
             {
              "nbinsx": [
               42
              ]
             }
            ],
            "label": "42 bins",
            "method": "update"
           },
           {
            "args": [
             {
              "nbinsx": [
               43
              ]
             }
            ],
            "label": "43 bins",
            "method": "update"
           },
           {
            "args": [
             {
              "nbinsx": [
               44
              ]
             }
            ],
            "label": "44 bins",
            "method": "update"
           },
           {
            "args": [
             {
              "nbinsx": [
               45
              ]
             }
            ],
            "label": "45 bins",
            "method": "update"
           },
           {
            "args": [
             {
              "nbinsx": [
               46
              ]
             }
            ],
            "label": "46 bins",
            "method": "update"
           },
           {
            "args": [
             {
              "nbinsx": [
               47
              ]
             }
            ],
            "label": "47 bins",
            "method": "update"
           },
           {
            "args": [
             {
              "nbinsx": [
               48
              ]
             }
            ],
            "label": "48 bins",
            "method": "update"
           },
           {
            "args": [
             {
              "nbinsx": [
               49
              ]
             }
            ],
            "label": "49 bins",
            "method": "update"
           },
           {
            "args": [
             {
              "nbinsx": [
               50
              ]
             }
            ],
            "label": "50 bins",
            "method": "update"
           },
           {
            "args": [
             {
              "nbinsx": [
               51
              ]
             }
            ],
            "label": "51 bins",
            "method": "update"
           },
           {
            "args": [
             {
              "nbinsx": [
               52
              ]
             }
            ],
            "label": "52 bins",
            "method": "update"
           },
           {
            "args": [
             {
              "nbinsx": [
               53
              ]
             }
            ],
            "label": "53 bins",
            "method": "update"
           },
           {
            "args": [
             {
              "nbinsx": [
               54
              ]
             }
            ],
            "label": "54 bins",
            "method": "update"
           },
           {
            "args": [
             {
              "nbinsx": [
               55
              ]
             }
            ],
            "label": "55 bins",
            "method": "update"
           },
           {
            "args": [
             {
              "nbinsx": [
               56
              ]
             }
            ],
            "label": "56 bins",
            "method": "update"
           },
           {
            "args": [
             {
              "nbinsx": [
               57
              ]
             }
            ],
            "label": "57 bins",
            "method": "update"
           },
           {
            "args": [
             {
              "nbinsx": [
               58
              ]
             }
            ],
            "label": "58 bins",
            "method": "update"
           },
           {
            "args": [
             {
              "nbinsx": [
               59
              ]
             }
            ],
            "label": "59 bins",
            "method": "update"
           },
           {
            "args": [
             {
              "nbinsx": [
               60
              ]
             }
            ],
            "label": "60 bins",
            "method": "update"
           },
           {
            "args": [
             {
              "nbinsx": [
               61
              ]
             }
            ],
            "label": "61 bins",
            "method": "update"
           },
           {
            "args": [
             {
              "nbinsx": [
               62
              ]
             }
            ],
            "label": "62 bins",
            "method": "update"
           },
           {
            "args": [
             {
              "nbinsx": [
               63
              ]
             }
            ],
            "label": "63 bins",
            "method": "update"
           },
           {
            "args": [
             {
              "nbinsx": [
               64
              ]
             }
            ],
            "label": "64 bins",
            "method": "update"
           },
           {
            "args": [
             {
              "nbinsx": [
               65
              ]
             }
            ],
            "label": "65 bins",
            "method": "update"
           },
           {
            "args": [
             {
              "nbinsx": [
               66
              ]
             }
            ],
            "label": "66 bins",
            "method": "update"
           },
           {
            "args": [
             {
              "nbinsx": [
               67
              ]
             }
            ],
            "label": "67 bins",
            "method": "update"
           },
           {
            "args": [
             {
              "nbinsx": [
               68
              ]
             }
            ],
            "label": "68 bins",
            "method": "update"
           },
           {
            "args": [
             {
              "nbinsx": [
               69
              ]
             }
            ],
            "label": "69 bins",
            "method": "update"
           },
           {
            "args": [
             {
              "nbinsx": [
               70
              ]
             }
            ],
            "label": "70 bins",
            "method": "update"
           },
           {
            "args": [
             {
              "nbinsx": [
               71
              ]
             }
            ],
            "label": "71 bins",
            "method": "update"
           },
           {
            "args": [
             {
              "nbinsx": [
               72
              ]
             }
            ],
            "label": "72 bins",
            "method": "update"
           },
           {
            "args": [
             {
              "nbinsx": [
               73
              ]
             }
            ],
            "label": "73 bins",
            "method": "update"
           },
           {
            "args": [
             {
              "nbinsx": [
               74
              ]
             }
            ],
            "label": "74 bins",
            "method": "update"
           },
           {
            "args": [
             {
              "nbinsx": [
               75
              ]
             }
            ],
            "label": "75 bins",
            "method": "update"
           },
           {
            "args": [
             {
              "nbinsx": [
               76
              ]
             }
            ],
            "label": "76 bins",
            "method": "update"
           },
           {
            "args": [
             {
              "nbinsx": [
               77
              ]
             }
            ],
            "label": "77 bins",
            "method": "update"
           },
           {
            "args": [
             {
              "nbinsx": [
               78
              ]
             }
            ],
            "label": "78 bins",
            "method": "update"
           },
           {
            "args": [
             {
              "nbinsx": [
               79
              ]
             }
            ],
            "label": "79 bins",
            "method": "update"
           },
           {
            "args": [
             {
              "nbinsx": [
               80
              ]
             }
            ],
            "label": "80 bins",
            "method": "update"
           },
           {
            "args": [
             {
              "nbinsx": [
               81
              ]
             }
            ],
            "label": "81 bins",
            "method": "update"
           },
           {
            "args": [
             {
              "nbinsx": [
               82
              ]
             }
            ],
            "label": "82 bins",
            "method": "update"
           }
          ]
         }
        ],
        "template": {
         "data": {
          "bar": [
           {
            "error_x": {
             "color": "#2a3f5f"
            },
            "error_y": {
             "color": "#2a3f5f"
            },
            "marker": {
             "line": {
              "color": "#E5ECF6",
              "width": 0.5
             },
             "pattern": {
              "fillmode": "overlay",
              "size": 10,
              "solidity": 0.2
             }
            },
            "type": "bar"
           }
          ],
          "barpolar": [
           {
            "marker": {
             "line": {
              "color": "#E5ECF6",
              "width": 0.5
             },
             "pattern": {
              "fillmode": "overlay",
              "size": 10,
              "solidity": 0.2
             }
            },
            "type": "barpolar"
           }
          ],
          "carpet": [
           {
            "aaxis": {
             "endlinecolor": "#2a3f5f",
             "gridcolor": "white",
             "linecolor": "white",
             "minorgridcolor": "white",
             "startlinecolor": "#2a3f5f"
            },
            "baxis": {
             "endlinecolor": "#2a3f5f",
             "gridcolor": "white",
             "linecolor": "white",
             "minorgridcolor": "white",
             "startlinecolor": "#2a3f5f"
            },
            "type": "carpet"
           }
          ],
          "choropleth": [
           {
            "colorbar": {
             "outlinewidth": 0,
             "ticks": ""
            },
            "type": "choropleth"
           }
          ],
          "contour": [
           {
            "colorbar": {
             "outlinewidth": 0,
             "ticks": ""
            },
            "colorscale": [
             [
              0,
              "#0d0887"
             ],
             [
              0.1111111111111111,
              "#46039f"
             ],
             [
              0.2222222222222222,
              "#7201a8"
             ],
             [
              0.3333333333333333,
              "#9c179e"
             ],
             [
              0.4444444444444444,
              "#bd3786"
             ],
             [
              0.5555555555555556,
              "#d8576b"
             ],
             [
              0.6666666666666666,
              "#ed7953"
             ],
             [
              0.7777777777777778,
              "#fb9f3a"
             ],
             [
              0.8888888888888888,
              "#fdca26"
             ],
             [
              1,
              "#f0f921"
             ]
            ],
            "type": "contour"
           }
          ],
          "contourcarpet": [
           {
            "colorbar": {
             "outlinewidth": 0,
             "ticks": ""
            },
            "type": "contourcarpet"
           }
          ],
          "heatmap": [
           {
            "colorbar": {
             "outlinewidth": 0,
             "ticks": ""
            },
            "colorscale": [
             [
              0,
              "#0d0887"
             ],
             [
              0.1111111111111111,
              "#46039f"
             ],
             [
              0.2222222222222222,
              "#7201a8"
             ],
             [
              0.3333333333333333,
              "#9c179e"
             ],
             [
              0.4444444444444444,
              "#bd3786"
             ],
             [
              0.5555555555555556,
              "#d8576b"
             ],
             [
              0.6666666666666666,
              "#ed7953"
             ],
             [
              0.7777777777777778,
              "#fb9f3a"
             ],
             [
              0.8888888888888888,
              "#fdca26"
             ],
             [
              1,
              "#f0f921"
             ]
            ],
            "type": "heatmap"
           }
          ],
          "heatmapgl": [
           {
            "colorbar": {
             "outlinewidth": 0,
             "ticks": ""
            },
            "colorscale": [
             [
              0,
              "#0d0887"
             ],
             [
              0.1111111111111111,
              "#46039f"
             ],
             [
              0.2222222222222222,
              "#7201a8"
             ],
             [
              0.3333333333333333,
              "#9c179e"
             ],
             [
              0.4444444444444444,
              "#bd3786"
             ],
             [
              0.5555555555555556,
              "#d8576b"
             ],
             [
              0.6666666666666666,
              "#ed7953"
             ],
             [
              0.7777777777777778,
              "#fb9f3a"
             ],
             [
              0.8888888888888888,
              "#fdca26"
             ],
             [
              1,
              "#f0f921"
             ]
            ],
            "type": "heatmapgl"
           }
          ],
          "histogram": [
           {
            "marker": {
             "pattern": {
              "fillmode": "overlay",
              "size": 10,
              "solidity": 0.2
             }
            },
            "type": "histogram"
           }
          ],
          "histogram2d": [
           {
            "colorbar": {
             "outlinewidth": 0,
             "ticks": ""
            },
            "colorscale": [
             [
              0,
              "#0d0887"
             ],
             [
              0.1111111111111111,
              "#46039f"
             ],
             [
              0.2222222222222222,
              "#7201a8"
             ],
             [
              0.3333333333333333,
              "#9c179e"
             ],
             [
              0.4444444444444444,
              "#bd3786"
             ],
             [
              0.5555555555555556,
              "#d8576b"
             ],
             [
              0.6666666666666666,
              "#ed7953"
             ],
             [
              0.7777777777777778,
              "#fb9f3a"
             ],
             [
              0.8888888888888888,
              "#fdca26"
             ],
             [
              1,
              "#f0f921"
             ]
            ],
            "type": "histogram2d"
           }
          ],
          "histogram2dcontour": [
           {
            "colorbar": {
             "outlinewidth": 0,
             "ticks": ""
            },
            "colorscale": [
             [
              0,
              "#0d0887"
             ],
             [
              0.1111111111111111,
              "#46039f"
             ],
             [
              0.2222222222222222,
              "#7201a8"
             ],
             [
              0.3333333333333333,
              "#9c179e"
             ],
             [
              0.4444444444444444,
              "#bd3786"
             ],
             [
              0.5555555555555556,
              "#d8576b"
             ],
             [
              0.6666666666666666,
              "#ed7953"
             ],
             [
              0.7777777777777778,
              "#fb9f3a"
             ],
             [
              0.8888888888888888,
              "#fdca26"
             ],
             [
              1,
              "#f0f921"
             ]
            ],
            "type": "histogram2dcontour"
           }
          ],
          "mesh3d": [
           {
            "colorbar": {
             "outlinewidth": 0,
             "ticks": ""
            },
            "type": "mesh3d"
           }
          ],
          "parcoords": [
           {
            "line": {
             "colorbar": {
              "outlinewidth": 0,
              "ticks": ""
             }
            },
            "type": "parcoords"
           }
          ],
          "pie": [
           {
            "automargin": true,
            "type": "pie"
           }
          ],
          "scatter": [
           {
            "fillpattern": {
             "fillmode": "overlay",
             "size": 10,
             "solidity": 0.2
            },
            "type": "scatter"
           }
          ],
          "scatter3d": [
           {
            "line": {
             "colorbar": {
              "outlinewidth": 0,
              "ticks": ""
             }
            },
            "marker": {
             "colorbar": {
              "outlinewidth": 0,
              "ticks": ""
             }
            },
            "type": "scatter3d"
           }
          ],
          "scattercarpet": [
           {
            "marker": {
             "colorbar": {
              "outlinewidth": 0,
              "ticks": ""
             }
            },
            "type": "scattercarpet"
           }
          ],
          "scattergeo": [
           {
            "marker": {
             "colorbar": {
              "outlinewidth": 0,
              "ticks": ""
             }
            },
            "type": "scattergeo"
           }
          ],
          "scattergl": [
           {
            "marker": {
             "colorbar": {
              "outlinewidth": 0,
              "ticks": ""
             }
            },
            "type": "scattergl"
           }
          ],
          "scattermapbox": [
           {
            "marker": {
             "colorbar": {
              "outlinewidth": 0,
              "ticks": ""
             }
            },
            "type": "scattermapbox"
           }
          ],
          "scatterpolar": [
           {
            "marker": {
             "colorbar": {
              "outlinewidth": 0,
              "ticks": ""
             }
            },
            "type": "scatterpolar"
           }
          ],
          "scatterpolargl": [
           {
            "marker": {
             "colorbar": {
              "outlinewidth": 0,
              "ticks": ""
             }
            },
            "type": "scatterpolargl"
           }
          ],
          "scatterternary": [
           {
            "marker": {
             "colorbar": {
              "outlinewidth": 0,
              "ticks": ""
             }
            },
            "type": "scatterternary"
           }
          ],
          "surface": [
           {
            "colorbar": {
             "outlinewidth": 0,
             "ticks": ""
            },
            "colorscale": [
             [
              0,
              "#0d0887"
             ],
             [
              0.1111111111111111,
              "#46039f"
             ],
             [
              0.2222222222222222,
              "#7201a8"
             ],
             [
              0.3333333333333333,
              "#9c179e"
             ],
             [
              0.4444444444444444,
              "#bd3786"
             ],
             [
              0.5555555555555556,
              "#d8576b"
             ],
             [
              0.6666666666666666,
              "#ed7953"
             ],
             [
              0.7777777777777778,
              "#fb9f3a"
             ],
             [
              0.8888888888888888,
              "#fdca26"
             ],
             [
              1,
              "#f0f921"
             ]
            ],
            "type": "surface"
           }
          ],
          "table": [
           {
            "cells": {
             "fill": {
              "color": "#EBF0F8"
             },
             "line": {
              "color": "white"
             }
            },
            "header": {
             "fill": {
              "color": "#C8D4E3"
             },
             "line": {
              "color": "white"
             }
            },
            "type": "table"
           }
          ]
         },
         "layout": {
          "annotationdefaults": {
           "arrowcolor": "#2a3f5f",
           "arrowhead": 0,
           "arrowwidth": 1
          },
          "autotypenumbers": "strict",
          "coloraxis": {
           "colorbar": {
            "outlinewidth": 0,
            "ticks": ""
           }
          },
          "colorscale": {
           "diverging": [
            [
             0,
             "#8e0152"
            ],
            [
             0.1,
             "#c51b7d"
            ],
            [
             0.2,
             "#de77ae"
            ],
            [
             0.3,
             "#f1b6da"
            ],
            [
             0.4,
             "#fde0ef"
            ],
            [
             0.5,
             "#f7f7f7"
            ],
            [
             0.6,
             "#e6f5d0"
            ],
            [
             0.7,
             "#b8e186"
            ],
            [
             0.8,
             "#7fbc41"
            ],
            [
             0.9,
             "#4d9221"
            ],
            [
             1,
             "#276419"
            ]
           ],
           "sequential": [
            [
             0,
             "#0d0887"
            ],
            [
             0.1111111111111111,
             "#46039f"
            ],
            [
             0.2222222222222222,
             "#7201a8"
            ],
            [
             0.3333333333333333,
             "#9c179e"
            ],
            [
             0.4444444444444444,
             "#bd3786"
            ],
            [
             0.5555555555555556,
             "#d8576b"
            ],
            [
             0.6666666666666666,
             "#ed7953"
            ],
            [
             0.7777777777777778,
             "#fb9f3a"
            ],
            [
             0.8888888888888888,
             "#fdca26"
            ],
            [
             1,
             "#f0f921"
            ]
           ],
           "sequentialminus": [
            [
             0,
             "#0d0887"
            ],
            [
             0.1111111111111111,
             "#46039f"
            ],
            [
             0.2222222222222222,
             "#7201a8"
            ],
            [
             0.3333333333333333,
             "#9c179e"
            ],
            [
             0.4444444444444444,
             "#bd3786"
            ],
            [
             0.5555555555555556,
             "#d8576b"
            ],
            [
             0.6666666666666666,
             "#ed7953"
            ],
            [
             0.7777777777777778,
             "#fb9f3a"
            ],
            [
             0.8888888888888888,
             "#fdca26"
            ],
            [
             1,
             "#f0f921"
            ]
           ]
          },
          "colorway": [
           "#636efa",
           "#EF553B",
           "#00cc96",
           "#ab63fa",
           "#FFA15A",
           "#19d3f3",
           "#FF6692",
           "#B6E880",
           "#FF97FF",
           "#FECB52"
          ],
          "font": {
           "color": "#2a3f5f"
          },
          "geo": {
           "bgcolor": "white",
           "lakecolor": "white",
           "landcolor": "#E5ECF6",
           "showlakes": true,
           "showland": true,
           "subunitcolor": "white"
          },
          "hoverlabel": {
           "align": "left"
          },
          "hovermode": "closest",
          "mapbox": {
           "style": "light"
          },
          "paper_bgcolor": "white",
          "plot_bgcolor": "#E5ECF6",
          "polar": {
           "angularaxis": {
            "gridcolor": "white",
            "linecolor": "white",
            "ticks": ""
           },
           "bgcolor": "#E5ECF6",
           "radialaxis": {
            "gridcolor": "white",
            "linecolor": "white",
            "ticks": ""
           }
          },
          "scene": {
           "xaxis": {
            "backgroundcolor": "#E5ECF6",
            "gridcolor": "white",
            "gridwidth": 2,
            "linecolor": "white",
            "showbackground": true,
            "ticks": "",
            "zerolinecolor": "white"
           },
           "yaxis": {
            "backgroundcolor": "#E5ECF6",
            "gridcolor": "white",
            "gridwidth": 2,
            "linecolor": "white",
            "showbackground": true,
            "ticks": "",
            "zerolinecolor": "white"
           },
           "zaxis": {
            "backgroundcolor": "#E5ECF6",
            "gridcolor": "white",
            "gridwidth": 2,
            "linecolor": "white",
            "showbackground": true,
            "ticks": "",
            "zerolinecolor": "white"
           }
          },
          "shapedefaults": {
           "line": {
            "color": "#2a3f5f"
           }
          },
          "ternary": {
           "aaxis": {
            "gridcolor": "white",
            "linecolor": "white",
            "ticks": ""
           },
           "baxis": {
            "gridcolor": "white",
            "linecolor": "white",
            "ticks": ""
           },
           "bgcolor": "#E5ECF6",
           "caxis": {
            "gridcolor": "white",
            "linecolor": "white",
            "ticks": ""
           }
          },
          "title": {
           "x": 0.05
          },
          "xaxis": {
           "automargin": true,
           "gridcolor": "white",
           "linecolor": "white",
           "ticks": "",
           "title": {
            "standoff": 15
           },
           "zerolinecolor": "white",
           "zerolinewidth": 2
          },
          "yaxis": {
           "automargin": true,
           "gridcolor": "white",
           "linecolor": "white",
           "ticks": "",
           "title": {
            "standoff": 15
           },
           "zerolinecolor": "white",
           "zerolinewidth": 2
          }
         }
        },
        "title": {
         "text": "Health expenses in 3Q2023 per h/h member"
        },
        "width": 1000,
        "xaxis": {
         "title": {
          "text": "Expenses"
         }
        },
        "yaxis": {
         "title": {
          "text": "Count"
         }
        }
       }
      }
     },
     "metadata": {},
     "output_type": "display_data"
    }
   ],
   "source": [
    "import plotly.graph_objects as go\n",
    "import numpy as np\n",
    "import plotly.express as px\n",
    "\n",
    "def plot_hist(data=pd.Series):\n",
    "\n",
    "    # Sample data (replace this with your actual data)\n",
    "\n",
    "    # Define the start number of bins\n",
    "    start_bins = 10\n",
    "\n",
    "    # Create the histogram with a starting number of bins\n",
    "    fig = go.Figure()\n",
    "\n",
    "    # Add histogram trace\n",
    "    fig.add_trace(go.Histogram(x=data, nbinsx=start_bins))\n",
    "\n",
    "    # Define the slider steps\n",
    "    slider_steps = [\n",
    "        dict(\n",
    "            method=\"update\",\n",
    "            args=[{\"nbinsx\": [bins]}],\n",
    "            label=f\"{bins} bins\"\n",
    "        )\n",
    "        for bins in range(1, 83)\n",
    "    ]\n",
    "\n",
    "    # Update the layout to include a slider\n",
    "    fig.update_layout(\n",
    "        title_text='Health expenses in 3Q2023 per h/h member',\n",
    "        xaxis_title_text='Expenses',\n",
    "        yaxis_title_text='Count',\n",
    "        sliders=[{\n",
    "            \"active\": start_bins - 1,\n",
    "            \"currentvalue\": {\"prefix\": \"Number of bins: \"},\n",
    "            \"pad\": {\"t\": 50},\n",
    "            \"steps\": slider_steps\n",
    "        }],\n",
    "        height=600,\n",
    "        width=1000\n",
    "    )\n",
    "\n",
    "    # Display the plot\n",
    "    fig.show()\n",
    "\n",
    "\n",
    "plot_hist(data.health_3q2023)"
   ]
  },
  {
   "cell_type": "code",
   "execution_count": 55,
   "metadata": {},
   "outputs": [
    {
     "data": {
      "application/vnd.plotly.v1+json": {
       "config": {
        "plotlyServerURL": "https://plot.ly"
       },
       "data": [
        {
         "nbinsx": 10,
         "type": "histogram",
         "x": [
          6.62799507881153,
          6.404567082345357,
          6.799756842624424,
          6.880841326041088,
          7.0974454540371275,
          7.059146727056792,
          6.772953365301732,
          6.607139255773381,
          6.904513028564174,
          7.201982634259599,
          6.905290243276508,
          6.7012180758313304,
          6.79996514753009,
          6.603683628150686,
          6.6789419347263,
          6.646133338923693,
          6.903029128305537,
          7.0118053363644695,
          6.888475614916846,
          6.856620919332213,
          6.739143709341406,
          6.892163354222286,
          6.308504552113779,
          6.887575020392235,
          7.165722196970002,
          6.963465255454072,
          7.1826058790757425,
          6.547892401836966,
          6.56284373134208,
          6.43159996687569,
          6.3600132185108835,
          7.718537484245385,
          6.40949702069117,
          7.043117120312793,
          6.847073843051811,
          6.360393601803503,
          5.564826873767017,
          5.3246184409674076,
          5.790504365304258,
          6.895963022825591,
          6.26331254463223,
          5.435314621128224,
          6.746931382691789,
          6.798794958461195,
          6.5795955971471765,
          6.797983938813382,
          7.083232634238039,
          7.115245757677399,
          6.6059580548386645,
          7.002588981652896,
          6.838948461614616,
          6.940965658520045,
          6.75358843235753,
          6.7491732954149235,
          6.3884622409651195,
          6.6587899465566665,
          6.787731108858939,
          6.651252701212615,
          7.108263779473213,
          7.090872352601991,
          6.805248465418261,
          6.4038903731117385,
          5.624327927315793,
          6.566061835552276,
          6.498536635164493,
          6.538209285899259,
          7.069186817484558,
          6.716254521937372,
          6.846865559530429,
          6.54225579881702,
          7.693707230702362,
          5.716698699922747,
          6.8955592083419885,
          6.607754981092932,
          6.834403636123907,
          6.8722503736561675,
          7.494640426528462,
          6.757633306338465,
          6.9119146169307495,
          7.258143100320019,
          6.882420034948404,
          6.63416412821117
         ]
        }
       ],
       "layout": {
        "height": 600,
        "sliders": [
         {
          "active": 9,
          "currentvalue": {
           "prefix": "Number of bins: "
          },
          "pad": {
           "t": 50
          },
          "steps": [
           {
            "args": [
             {
              "nbinsx": [
               1
              ]
             }
            ],
            "label": "1 bins",
            "method": "update"
           },
           {
            "args": [
             {
              "nbinsx": [
               2
              ]
             }
            ],
            "label": "2 bins",
            "method": "update"
           },
           {
            "args": [
             {
              "nbinsx": [
               3
              ]
             }
            ],
            "label": "3 bins",
            "method": "update"
           },
           {
            "args": [
             {
              "nbinsx": [
               4
              ]
             }
            ],
            "label": "4 bins",
            "method": "update"
           },
           {
            "args": [
             {
              "nbinsx": [
               5
              ]
             }
            ],
            "label": "5 bins",
            "method": "update"
           },
           {
            "args": [
             {
              "nbinsx": [
               6
              ]
             }
            ],
            "label": "6 bins",
            "method": "update"
           },
           {
            "args": [
             {
              "nbinsx": [
               7
              ]
             }
            ],
            "label": "7 bins",
            "method": "update"
           },
           {
            "args": [
             {
              "nbinsx": [
               8
              ]
             }
            ],
            "label": "8 bins",
            "method": "update"
           },
           {
            "args": [
             {
              "nbinsx": [
               9
              ]
             }
            ],
            "label": "9 bins",
            "method": "update"
           },
           {
            "args": [
             {
              "nbinsx": [
               10
              ]
             }
            ],
            "label": "10 bins",
            "method": "update"
           },
           {
            "args": [
             {
              "nbinsx": [
               11
              ]
             }
            ],
            "label": "11 bins",
            "method": "update"
           },
           {
            "args": [
             {
              "nbinsx": [
               12
              ]
             }
            ],
            "label": "12 bins",
            "method": "update"
           },
           {
            "args": [
             {
              "nbinsx": [
               13
              ]
             }
            ],
            "label": "13 bins",
            "method": "update"
           },
           {
            "args": [
             {
              "nbinsx": [
               14
              ]
             }
            ],
            "label": "14 bins",
            "method": "update"
           },
           {
            "args": [
             {
              "nbinsx": [
               15
              ]
             }
            ],
            "label": "15 bins",
            "method": "update"
           },
           {
            "args": [
             {
              "nbinsx": [
               16
              ]
             }
            ],
            "label": "16 bins",
            "method": "update"
           },
           {
            "args": [
             {
              "nbinsx": [
               17
              ]
             }
            ],
            "label": "17 bins",
            "method": "update"
           },
           {
            "args": [
             {
              "nbinsx": [
               18
              ]
             }
            ],
            "label": "18 bins",
            "method": "update"
           },
           {
            "args": [
             {
              "nbinsx": [
               19
              ]
             }
            ],
            "label": "19 bins",
            "method": "update"
           },
           {
            "args": [
             {
              "nbinsx": [
               20
              ]
             }
            ],
            "label": "20 bins",
            "method": "update"
           },
           {
            "args": [
             {
              "nbinsx": [
               21
              ]
             }
            ],
            "label": "21 bins",
            "method": "update"
           },
           {
            "args": [
             {
              "nbinsx": [
               22
              ]
             }
            ],
            "label": "22 bins",
            "method": "update"
           },
           {
            "args": [
             {
              "nbinsx": [
               23
              ]
             }
            ],
            "label": "23 bins",
            "method": "update"
           },
           {
            "args": [
             {
              "nbinsx": [
               24
              ]
             }
            ],
            "label": "24 bins",
            "method": "update"
           },
           {
            "args": [
             {
              "nbinsx": [
               25
              ]
             }
            ],
            "label": "25 bins",
            "method": "update"
           },
           {
            "args": [
             {
              "nbinsx": [
               26
              ]
             }
            ],
            "label": "26 bins",
            "method": "update"
           },
           {
            "args": [
             {
              "nbinsx": [
               27
              ]
             }
            ],
            "label": "27 bins",
            "method": "update"
           },
           {
            "args": [
             {
              "nbinsx": [
               28
              ]
             }
            ],
            "label": "28 bins",
            "method": "update"
           },
           {
            "args": [
             {
              "nbinsx": [
               29
              ]
             }
            ],
            "label": "29 bins",
            "method": "update"
           },
           {
            "args": [
             {
              "nbinsx": [
               30
              ]
             }
            ],
            "label": "30 bins",
            "method": "update"
           },
           {
            "args": [
             {
              "nbinsx": [
               31
              ]
             }
            ],
            "label": "31 bins",
            "method": "update"
           },
           {
            "args": [
             {
              "nbinsx": [
               32
              ]
             }
            ],
            "label": "32 bins",
            "method": "update"
           },
           {
            "args": [
             {
              "nbinsx": [
               33
              ]
             }
            ],
            "label": "33 bins",
            "method": "update"
           },
           {
            "args": [
             {
              "nbinsx": [
               34
              ]
             }
            ],
            "label": "34 bins",
            "method": "update"
           },
           {
            "args": [
             {
              "nbinsx": [
               35
              ]
             }
            ],
            "label": "35 bins",
            "method": "update"
           },
           {
            "args": [
             {
              "nbinsx": [
               36
              ]
             }
            ],
            "label": "36 bins",
            "method": "update"
           },
           {
            "args": [
             {
              "nbinsx": [
               37
              ]
             }
            ],
            "label": "37 bins",
            "method": "update"
           },
           {
            "args": [
             {
              "nbinsx": [
               38
              ]
             }
            ],
            "label": "38 bins",
            "method": "update"
           },
           {
            "args": [
             {
              "nbinsx": [
               39
              ]
             }
            ],
            "label": "39 bins",
            "method": "update"
           },
           {
            "args": [
             {
              "nbinsx": [
               40
              ]
             }
            ],
            "label": "40 bins",
            "method": "update"
           },
           {
            "args": [
             {
              "nbinsx": [
               41
              ]
             }
            ],
            "label": "41 bins",
            "method": "update"
           },
           {
            "args": [
             {
              "nbinsx": [
               42
              ]
             }
            ],
            "label": "42 bins",
            "method": "update"
           },
           {
            "args": [
             {
              "nbinsx": [
               43
              ]
             }
            ],
            "label": "43 bins",
            "method": "update"
           },
           {
            "args": [
             {
              "nbinsx": [
               44
              ]
             }
            ],
            "label": "44 bins",
            "method": "update"
           },
           {
            "args": [
             {
              "nbinsx": [
               45
              ]
             }
            ],
            "label": "45 bins",
            "method": "update"
           },
           {
            "args": [
             {
              "nbinsx": [
               46
              ]
             }
            ],
            "label": "46 bins",
            "method": "update"
           },
           {
            "args": [
             {
              "nbinsx": [
               47
              ]
             }
            ],
            "label": "47 bins",
            "method": "update"
           },
           {
            "args": [
             {
              "nbinsx": [
               48
              ]
             }
            ],
            "label": "48 bins",
            "method": "update"
           },
           {
            "args": [
             {
              "nbinsx": [
               49
              ]
             }
            ],
            "label": "49 bins",
            "method": "update"
           },
           {
            "args": [
             {
              "nbinsx": [
               50
              ]
             }
            ],
            "label": "50 bins",
            "method": "update"
           },
           {
            "args": [
             {
              "nbinsx": [
               51
              ]
             }
            ],
            "label": "51 bins",
            "method": "update"
           },
           {
            "args": [
             {
              "nbinsx": [
               52
              ]
             }
            ],
            "label": "52 bins",
            "method": "update"
           },
           {
            "args": [
             {
              "nbinsx": [
               53
              ]
             }
            ],
            "label": "53 bins",
            "method": "update"
           },
           {
            "args": [
             {
              "nbinsx": [
               54
              ]
             }
            ],
            "label": "54 bins",
            "method": "update"
           },
           {
            "args": [
             {
              "nbinsx": [
               55
              ]
             }
            ],
            "label": "55 bins",
            "method": "update"
           },
           {
            "args": [
             {
              "nbinsx": [
               56
              ]
             }
            ],
            "label": "56 bins",
            "method": "update"
           },
           {
            "args": [
             {
              "nbinsx": [
               57
              ]
             }
            ],
            "label": "57 bins",
            "method": "update"
           },
           {
            "args": [
             {
              "nbinsx": [
               58
              ]
             }
            ],
            "label": "58 bins",
            "method": "update"
           },
           {
            "args": [
             {
              "nbinsx": [
               59
              ]
             }
            ],
            "label": "59 bins",
            "method": "update"
           },
           {
            "args": [
             {
              "nbinsx": [
               60
              ]
             }
            ],
            "label": "60 bins",
            "method": "update"
           },
           {
            "args": [
             {
              "nbinsx": [
               61
              ]
             }
            ],
            "label": "61 bins",
            "method": "update"
           },
           {
            "args": [
             {
              "nbinsx": [
               62
              ]
             }
            ],
            "label": "62 bins",
            "method": "update"
           },
           {
            "args": [
             {
              "nbinsx": [
               63
              ]
             }
            ],
            "label": "63 bins",
            "method": "update"
           },
           {
            "args": [
             {
              "nbinsx": [
               64
              ]
             }
            ],
            "label": "64 bins",
            "method": "update"
           },
           {
            "args": [
             {
              "nbinsx": [
               65
              ]
             }
            ],
            "label": "65 bins",
            "method": "update"
           },
           {
            "args": [
             {
              "nbinsx": [
               66
              ]
             }
            ],
            "label": "66 bins",
            "method": "update"
           },
           {
            "args": [
             {
              "nbinsx": [
               67
              ]
             }
            ],
            "label": "67 bins",
            "method": "update"
           },
           {
            "args": [
             {
              "nbinsx": [
               68
              ]
             }
            ],
            "label": "68 bins",
            "method": "update"
           },
           {
            "args": [
             {
              "nbinsx": [
               69
              ]
             }
            ],
            "label": "69 bins",
            "method": "update"
           },
           {
            "args": [
             {
              "nbinsx": [
               70
              ]
             }
            ],
            "label": "70 bins",
            "method": "update"
           },
           {
            "args": [
             {
              "nbinsx": [
               71
              ]
             }
            ],
            "label": "71 bins",
            "method": "update"
           },
           {
            "args": [
             {
              "nbinsx": [
               72
              ]
             }
            ],
            "label": "72 bins",
            "method": "update"
           },
           {
            "args": [
             {
              "nbinsx": [
               73
              ]
             }
            ],
            "label": "73 bins",
            "method": "update"
           },
           {
            "args": [
             {
              "nbinsx": [
               74
              ]
             }
            ],
            "label": "74 bins",
            "method": "update"
           },
           {
            "args": [
             {
              "nbinsx": [
               75
              ]
             }
            ],
            "label": "75 bins",
            "method": "update"
           },
           {
            "args": [
             {
              "nbinsx": [
               76
              ]
             }
            ],
            "label": "76 bins",
            "method": "update"
           },
           {
            "args": [
             {
              "nbinsx": [
               77
              ]
             }
            ],
            "label": "77 bins",
            "method": "update"
           },
           {
            "args": [
             {
              "nbinsx": [
               78
              ]
             }
            ],
            "label": "78 bins",
            "method": "update"
           },
           {
            "args": [
             {
              "nbinsx": [
               79
              ]
             }
            ],
            "label": "79 bins",
            "method": "update"
           },
           {
            "args": [
             {
              "nbinsx": [
               80
              ]
             }
            ],
            "label": "80 bins",
            "method": "update"
           },
           {
            "args": [
             {
              "nbinsx": [
               81
              ]
             }
            ],
            "label": "81 bins",
            "method": "update"
           },
           {
            "args": [
             {
              "nbinsx": [
               82
              ]
             }
            ],
            "label": "82 bins",
            "method": "update"
           }
          ]
         }
        ],
        "template": {
         "data": {
          "bar": [
           {
            "error_x": {
             "color": "#2a3f5f"
            },
            "error_y": {
             "color": "#2a3f5f"
            },
            "marker": {
             "line": {
              "color": "#E5ECF6",
              "width": 0.5
             },
             "pattern": {
              "fillmode": "overlay",
              "size": 10,
              "solidity": 0.2
             }
            },
            "type": "bar"
           }
          ],
          "barpolar": [
           {
            "marker": {
             "line": {
              "color": "#E5ECF6",
              "width": 0.5
             },
             "pattern": {
              "fillmode": "overlay",
              "size": 10,
              "solidity": 0.2
             }
            },
            "type": "barpolar"
           }
          ],
          "carpet": [
           {
            "aaxis": {
             "endlinecolor": "#2a3f5f",
             "gridcolor": "white",
             "linecolor": "white",
             "minorgridcolor": "white",
             "startlinecolor": "#2a3f5f"
            },
            "baxis": {
             "endlinecolor": "#2a3f5f",
             "gridcolor": "white",
             "linecolor": "white",
             "minorgridcolor": "white",
             "startlinecolor": "#2a3f5f"
            },
            "type": "carpet"
           }
          ],
          "choropleth": [
           {
            "colorbar": {
             "outlinewidth": 0,
             "ticks": ""
            },
            "type": "choropleth"
           }
          ],
          "contour": [
           {
            "colorbar": {
             "outlinewidth": 0,
             "ticks": ""
            },
            "colorscale": [
             [
              0,
              "#0d0887"
             ],
             [
              0.1111111111111111,
              "#46039f"
             ],
             [
              0.2222222222222222,
              "#7201a8"
             ],
             [
              0.3333333333333333,
              "#9c179e"
             ],
             [
              0.4444444444444444,
              "#bd3786"
             ],
             [
              0.5555555555555556,
              "#d8576b"
             ],
             [
              0.6666666666666666,
              "#ed7953"
             ],
             [
              0.7777777777777778,
              "#fb9f3a"
             ],
             [
              0.8888888888888888,
              "#fdca26"
             ],
             [
              1,
              "#f0f921"
             ]
            ],
            "type": "contour"
           }
          ],
          "contourcarpet": [
           {
            "colorbar": {
             "outlinewidth": 0,
             "ticks": ""
            },
            "type": "contourcarpet"
           }
          ],
          "heatmap": [
           {
            "colorbar": {
             "outlinewidth": 0,
             "ticks": ""
            },
            "colorscale": [
             [
              0,
              "#0d0887"
             ],
             [
              0.1111111111111111,
              "#46039f"
             ],
             [
              0.2222222222222222,
              "#7201a8"
             ],
             [
              0.3333333333333333,
              "#9c179e"
             ],
             [
              0.4444444444444444,
              "#bd3786"
             ],
             [
              0.5555555555555556,
              "#d8576b"
             ],
             [
              0.6666666666666666,
              "#ed7953"
             ],
             [
              0.7777777777777778,
              "#fb9f3a"
             ],
             [
              0.8888888888888888,
              "#fdca26"
             ],
             [
              1,
              "#f0f921"
             ]
            ],
            "type": "heatmap"
           }
          ],
          "heatmapgl": [
           {
            "colorbar": {
             "outlinewidth": 0,
             "ticks": ""
            },
            "colorscale": [
             [
              0,
              "#0d0887"
             ],
             [
              0.1111111111111111,
              "#46039f"
             ],
             [
              0.2222222222222222,
              "#7201a8"
             ],
             [
              0.3333333333333333,
              "#9c179e"
             ],
             [
              0.4444444444444444,
              "#bd3786"
             ],
             [
              0.5555555555555556,
              "#d8576b"
             ],
             [
              0.6666666666666666,
              "#ed7953"
             ],
             [
              0.7777777777777778,
              "#fb9f3a"
             ],
             [
              0.8888888888888888,
              "#fdca26"
             ],
             [
              1,
              "#f0f921"
             ]
            ],
            "type": "heatmapgl"
           }
          ],
          "histogram": [
           {
            "marker": {
             "pattern": {
              "fillmode": "overlay",
              "size": 10,
              "solidity": 0.2
             }
            },
            "type": "histogram"
           }
          ],
          "histogram2d": [
           {
            "colorbar": {
             "outlinewidth": 0,
             "ticks": ""
            },
            "colorscale": [
             [
              0,
              "#0d0887"
             ],
             [
              0.1111111111111111,
              "#46039f"
             ],
             [
              0.2222222222222222,
              "#7201a8"
             ],
             [
              0.3333333333333333,
              "#9c179e"
             ],
             [
              0.4444444444444444,
              "#bd3786"
             ],
             [
              0.5555555555555556,
              "#d8576b"
             ],
             [
              0.6666666666666666,
              "#ed7953"
             ],
             [
              0.7777777777777778,
              "#fb9f3a"
             ],
             [
              0.8888888888888888,
              "#fdca26"
             ],
             [
              1,
              "#f0f921"
             ]
            ],
            "type": "histogram2d"
           }
          ],
          "histogram2dcontour": [
           {
            "colorbar": {
             "outlinewidth": 0,
             "ticks": ""
            },
            "colorscale": [
             [
              0,
              "#0d0887"
             ],
             [
              0.1111111111111111,
              "#46039f"
             ],
             [
              0.2222222222222222,
              "#7201a8"
             ],
             [
              0.3333333333333333,
              "#9c179e"
             ],
             [
              0.4444444444444444,
              "#bd3786"
             ],
             [
              0.5555555555555556,
              "#d8576b"
             ],
             [
              0.6666666666666666,
              "#ed7953"
             ],
             [
              0.7777777777777778,
              "#fb9f3a"
             ],
             [
              0.8888888888888888,
              "#fdca26"
             ],
             [
              1,
              "#f0f921"
             ]
            ],
            "type": "histogram2dcontour"
           }
          ],
          "mesh3d": [
           {
            "colorbar": {
             "outlinewidth": 0,
             "ticks": ""
            },
            "type": "mesh3d"
           }
          ],
          "parcoords": [
           {
            "line": {
             "colorbar": {
              "outlinewidth": 0,
              "ticks": ""
             }
            },
            "type": "parcoords"
           }
          ],
          "pie": [
           {
            "automargin": true,
            "type": "pie"
           }
          ],
          "scatter": [
           {
            "fillpattern": {
             "fillmode": "overlay",
             "size": 10,
             "solidity": 0.2
            },
            "type": "scatter"
           }
          ],
          "scatter3d": [
           {
            "line": {
             "colorbar": {
              "outlinewidth": 0,
              "ticks": ""
             }
            },
            "marker": {
             "colorbar": {
              "outlinewidth": 0,
              "ticks": ""
             }
            },
            "type": "scatter3d"
           }
          ],
          "scattercarpet": [
           {
            "marker": {
             "colorbar": {
              "outlinewidth": 0,
              "ticks": ""
             }
            },
            "type": "scattercarpet"
           }
          ],
          "scattergeo": [
           {
            "marker": {
             "colorbar": {
              "outlinewidth": 0,
              "ticks": ""
             }
            },
            "type": "scattergeo"
           }
          ],
          "scattergl": [
           {
            "marker": {
             "colorbar": {
              "outlinewidth": 0,
              "ticks": ""
             }
            },
            "type": "scattergl"
           }
          ],
          "scattermapbox": [
           {
            "marker": {
             "colorbar": {
              "outlinewidth": 0,
              "ticks": ""
             }
            },
            "type": "scattermapbox"
           }
          ],
          "scatterpolar": [
           {
            "marker": {
             "colorbar": {
              "outlinewidth": 0,
              "ticks": ""
             }
            },
            "type": "scatterpolar"
           }
          ],
          "scatterpolargl": [
           {
            "marker": {
             "colorbar": {
              "outlinewidth": 0,
              "ticks": ""
             }
            },
            "type": "scatterpolargl"
           }
          ],
          "scatterternary": [
           {
            "marker": {
             "colorbar": {
              "outlinewidth": 0,
              "ticks": ""
             }
            },
            "type": "scatterternary"
           }
          ],
          "surface": [
           {
            "colorbar": {
             "outlinewidth": 0,
             "ticks": ""
            },
            "colorscale": [
             [
              0,
              "#0d0887"
             ],
             [
              0.1111111111111111,
              "#46039f"
             ],
             [
              0.2222222222222222,
              "#7201a8"
             ],
             [
              0.3333333333333333,
              "#9c179e"
             ],
             [
              0.4444444444444444,
              "#bd3786"
             ],
             [
              0.5555555555555556,
              "#d8576b"
             ],
             [
              0.6666666666666666,
              "#ed7953"
             ],
             [
              0.7777777777777778,
              "#fb9f3a"
             ],
             [
              0.8888888888888888,
              "#fdca26"
             ],
             [
              1,
              "#f0f921"
             ]
            ],
            "type": "surface"
           }
          ],
          "table": [
           {
            "cells": {
             "fill": {
              "color": "#EBF0F8"
             },
             "line": {
              "color": "white"
             }
            },
            "header": {
             "fill": {
              "color": "#C8D4E3"
             },
             "line": {
              "color": "white"
             }
            },
            "type": "table"
           }
          ]
         },
         "layout": {
          "annotationdefaults": {
           "arrowcolor": "#2a3f5f",
           "arrowhead": 0,
           "arrowwidth": 1
          },
          "autotypenumbers": "strict",
          "coloraxis": {
           "colorbar": {
            "outlinewidth": 0,
            "ticks": ""
           }
          },
          "colorscale": {
           "diverging": [
            [
             0,
             "#8e0152"
            ],
            [
             0.1,
             "#c51b7d"
            ],
            [
             0.2,
             "#de77ae"
            ],
            [
             0.3,
             "#f1b6da"
            ],
            [
             0.4,
             "#fde0ef"
            ],
            [
             0.5,
             "#f7f7f7"
            ],
            [
             0.6,
             "#e6f5d0"
            ],
            [
             0.7,
             "#b8e186"
            ],
            [
             0.8,
             "#7fbc41"
            ],
            [
             0.9,
             "#4d9221"
            ],
            [
             1,
             "#276419"
            ]
           ],
           "sequential": [
            [
             0,
             "#0d0887"
            ],
            [
             0.1111111111111111,
             "#46039f"
            ],
            [
             0.2222222222222222,
             "#7201a8"
            ],
            [
             0.3333333333333333,
             "#9c179e"
            ],
            [
             0.4444444444444444,
             "#bd3786"
            ],
            [
             0.5555555555555556,
             "#d8576b"
            ],
            [
             0.6666666666666666,
             "#ed7953"
            ],
            [
             0.7777777777777778,
             "#fb9f3a"
            ],
            [
             0.8888888888888888,
             "#fdca26"
            ],
            [
             1,
             "#f0f921"
            ]
           ],
           "sequentialminus": [
            [
             0,
             "#0d0887"
            ],
            [
             0.1111111111111111,
             "#46039f"
            ],
            [
             0.2222222222222222,
             "#7201a8"
            ],
            [
             0.3333333333333333,
             "#9c179e"
            ],
            [
             0.4444444444444444,
             "#bd3786"
            ],
            [
             0.5555555555555556,
             "#d8576b"
            ],
            [
             0.6666666666666666,
             "#ed7953"
            ],
            [
             0.7777777777777778,
             "#fb9f3a"
            ],
            [
             0.8888888888888888,
             "#fdca26"
            ],
            [
             1,
             "#f0f921"
            ]
           ]
          },
          "colorway": [
           "#636efa",
           "#EF553B",
           "#00cc96",
           "#ab63fa",
           "#FFA15A",
           "#19d3f3",
           "#FF6692",
           "#B6E880",
           "#FF97FF",
           "#FECB52"
          ],
          "font": {
           "color": "#2a3f5f"
          },
          "geo": {
           "bgcolor": "white",
           "lakecolor": "white",
           "landcolor": "#E5ECF6",
           "showlakes": true,
           "showland": true,
           "subunitcolor": "white"
          },
          "hoverlabel": {
           "align": "left"
          },
          "hovermode": "closest",
          "mapbox": {
           "style": "light"
          },
          "paper_bgcolor": "white",
          "plot_bgcolor": "#E5ECF6",
          "polar": {
           "angularaxis": {
            "gridcolor": "white",
            "linecolor": "white",
            "ticks": ""
           },
           "bgcolor": "#E5ECF6",
           "radialaxis": {
            "gridcolor": "white",
            "linecolor": "white",
            "ticks": ""
           }
          },
          "scene": {
           "xaxis": {
            "backgroundcolor": "#E5ECF6",
            "gridcolor": "white",
            "gridwidth": 2,
            "linecolor": "white",
            "showbackground": true,
            "ticks": "",
            "zerolinecolor": "white"
           },
           "yaxis": {
            "backgroundcolor": "#E5ECF6",
            "gridcolor": "white",
            "gridwidth": 2,
            "linecolor": "white",
            "showbackground": true,
            "ticks": "",
            "zerolinecolor": "white"
           },
           "zaxis": {
            "backgroundcolor": "#E5ECF6",
            "gridcolor": "white",
            "gridwidth": 2,
            "linecolor": "white",
            "showbackground": true,
            "ticks": "",
            "zerolinecolor": "white"
           }
          },
          "shapedefaults": {
           "line": {
            "color": "#2a3f5f"
           }
          },
          "ternary": {
           "aaxis": {
            "gridcolor": "white",
            "linecolor": "white",
            "ticks": ""
           },
           "baxis": {
            "gridcolor": "white",
            "linecolor": "white",
            "ticks": ""
           },
           "bgcolor": "#E5ECF6",
           "caxis": {
            "gridcolor": "white",
            "linecolor": "white",
            "ticks": ""
           }
          },
          "title": {
           "x": 0.05
          },
          "xaxis": {
           "automargin": true,
           "gridcolor": "white",
           "linecolor": "white",
           "ticks": "",
           "title": {
            "standoff": 15
           },
           "zerolinecolor": "white",
           "zerolinewidth": 2
          },
          "yaxis": {
           "automargin": true,
           "gridcolor": "white",
           "linecolor": "white",
           "ticks": "",
           "title": {
            "standoff": 15
           },
           "zerolinecolor": "white",
           "zerolinewidth": 2
          }
         }
        },
        "title": {
         "text": "Health expenses in 3Q2023 per h/h member"
        },
        "width": 1000,
        "xaxis": {
         "title": {
          "text": "Expenses"
         }
        },
        "yaxis": {
         "title": {
          "text": "Count"
         }
        }
       }
      }
     },
     "metadata": {},
     "output_type": "display_data"
    }
   ],
   "source": [
    "plot_hist(np.log(data.health_3q2023))"
   ]
  },
  {
   "cell_type": "code",
   "execution_count": 62,
   "metadata": {},
   "outputs": [
    {
     "data": {
      "application/vnd.plotly.v1+json": {
       "config": {
        "plotlyServerURL": "https://plot.ly"
       },
       "data": [
        {
         "histnorm": "probability density",
         "name": "Histogram",
         "nbinsx": 30,
         "type": "histogram",
         "x": [
          755.9650000000001,
          604.5999999999999,
          897.6289999999999,
          973.445,
          1208.8749999999998,
          1163.452,
          873.8889999999999,
          740.3620000000001,
          996.763,
          1342.089,
          997.538,
          813.3960000000001,
          897.816,
          737.808,
          795.4770000000001,
          769.802,
          995.285,
          1109.656,
          980.905,
          950.1510000000001,
          844.8370000000001,
          984.5290000000001,
          549.223,
          980.0219999999999,
          1294.2959999999998,
          1057.2910000000002,
          1316.3339999999998,
          697.7719999999999,
          708.2829999999999,
          621.1669999999999,
          578.254,
          2249.667,
          607.5880000000001,
          1144.9510000000002,
          941.1230000000002,
          578.474,
          261.08,
          205.33,
          327.17800000000005,
          988.2769999999999,
          524.955,
          229.365,
          851.4420000000001,
          896.7660000000001,
          720.248,
          896.039,
          1191.815,
          1230.586,
          739.4879999999998,
          1099.476,
          933.5070000000001,
          1033.768,
          857.1290000000001,
          853.3530000000002,
          594.941,
          779.607,
          886.8989999999999,
          773.7530000000002,
          1222.0240000000001,
          1200.955,
          902.572,
          604.191,
          277.08599999999996,
          710.566,
          664.169,
          691.048,
          1175.192,
          825.7189999999998,
          940.927,
          693.85,
          2194.495,
          303.9,
          987.878,
          740.8179999999999,
          929.2739999999999,
          965.1179999999999,
          1798.378,
          860.6030000000001,
          1004.168,
          1419.618,
          974.9830000000001,
          760.643
         ]
        },
        {
         "line": {
          "dash": "dash"
         },
         "mode": "lines",
         "name": "Normal Distribution",
         "type": "scatter",
         "x": [
          205.33,
          207.3763833833834,
          209.42276676676678,
          211.46915015015017,
          213.51553353353356,
          215.5619169169169,
          217.6083003003003,
          219.6546836836837,
          221.70106706706707,
          223.74745045045046,
          225.79383383383384,
          227.84021721721723,
          229.88660060060062,
          231.932983983984,
          233.9793673673674,
          236.02575075075077,
          238.07213413413416,
          240.11851751751755,
          242.1649009009009,
          244.2112842842843,
          246.25766766766768,
          248.30405105105106,
          250.35043443443445,
          252.39681781781783,
          254.44320120120122,
          256.4895845845846,
          258.53596796796796,
          260.58235135135135,
          262.62873473473473,
          264.6751181181181,
          266.7215015015015,
          268.7678848848849,
          270.8142682682683,
          272.86065165165166,
          274.90703503503505,
          276.95341841841844,
          278.9998018018018,
          281.0461851851852,
          283.0925685685686,
          285.138951951952,
          287.18533533533537,
          289.23171871871875,
          291.27810210210214,
          293.3244854854855,
          295.3708688688689,
          297.4172522522523,
          299.4636356356356,
          301.510019019019,
          303.5564024024024,
          305.6027857857858,
          307.64916916916917,
          309.69555255255256,
          311.74193593593594,
          313.7883193193193,
          315.8347027027027,
          317.8810860860861,
          319.9274694694695,
          321.9738528528529,
          324.02023623623626,
          326.06661961961964,
          328.11300300300303,
          330.1593863863864,
          332.20576976976974,
          334.25215315315313,
          336.2985365365365,
          338.3449199199199,
          340.3913033033033,
          342.4376866866867,
          344.48407007007006,
          346.53045345345345,
          348.57683683683683,
          350.6232202202202,
          352.6696036036036,
          354.715986986987,
          356.7623703703704,
          358.80875375375376,
          360.85513713713715,
          362.90152052052053,
          364.9479039039039,
          366.9942872872873,
          369.0406706706707,
          371.0870540540541,
          373.13343743743746,
          375.17982082082085,
          377.22620420420424,
          379.2725875875876,
          381.318970970971,
          383.3653543543544,
          385.4117377377378,
          387.45812112112117,
          389.50450450450455,
          391.5508878878879,
          393.59727127127127,
          395.64365465465465,
          397.69003803803804,
          399.7364214214214,
          401.7828048048048,
          403.8291881881882,
          405.8755715715716,
          407.92195495495497,
          409.96833833833836,
          412.01472172172174,
          414.06110510510507,
          416.10748848848846,
          418.15387187187184,
          420.20025525525523,
          422.2466386386386,
          424.293022022022,
          426.3394054054054,
          428.3857887887888,
          430.43217217217216,
          432.47855555555554,
          434.52493893893893,
          436.5713223223223,
          438.6177057057057,
          440.6640890890891,
          442.7104724724725,
          444.75685585585586,
          446.80323923923925,
          448.84962262262263,
          450.896006006006,
          452.9423893893894,
          454.9887727727728,
          457.0351561561562,
          459.08153953953956,
          461.12792292292295,
          463.17430630630633,
          465.2206896896897,
          467.2670730730731,
          469.3134564564565,
          471.3598398398399,
          473.40622322322326,
          475.45260660660665,
          477.49898998999004,
          479.5453733733734,
          481.5917567567568,
          483.6381401401402,
          485.6845235235236,
          487.73090690690697,
          489.77729029029024,
          491.8236736736736,
          493.870057057057,
          495.9164404404404,
          497.9628238238238,
          500.00920720720717,
          502.05559059059055,
          504.10197397397394,
          506.1483573573573,
          508.1947407407407,
          510.2411241241241,
          512.2875075075075,
          514.3338908908909,
          516.3802742742743,
          518.4266576576576,
          520.473041041041,
          522.5194244244244,
          524.5658078078078,
          526.6121911911912,
          528.6585745745746,
          530.704957957958,
          532.7513413413413,
          534.7977247247247,
          536.8441081081081,
          538.8904914914915,
          540.9368748748749,
          542.9832582582583,
          545.0296416416417,
          547.076025025025,
          549.1224084084084,
          551.1687917917918,
          553.2151751751752,
          555.2615585585586,
          557.307941941942,
          559.3543253253254,
          561.4007087087087,
          563.4470920920921,
          565.4934754754755,
          567.5398588588589,
          569.5862422422423,
          571.6326256256257,
          573.6790090090091,
          575.7253923923925,
          577.7717757757757,
          579.8181591591591,
          581.8645425425425,
          583.9109259259259,
          585.9573093093093,
          588.0036926926927,
          590.050076076076,
          592.0964594594594,
          594.1428428428428,
          596.1892262262262,
          598.2356096096096,
          600.281992992993,
          602.3283763763764,
          604.3747597597597,
          606.4211431431431,
          608.4675265265265,
          610.5139099099099,
          612.5602932932933,
          614.6066766766767,
          616.65306006006,
          618.6994434434434,
          620.7458268268268,
          622.7922102102102,
          624.8385935935936,
          626.884976976977,
          628.9313603603604,
          630.9777437437438,
          633.0241271271271,
          635.0705105105105,
          637.1168938938939,
          639.1632772772773,
          641.2096606606607,
          643.2560440440441,
          645.3024274274275,
          647.3488108108108,
          649.3951941941942,
          651.4415775775776,
          653.487960960961,
          655.5343443443444,
          657.5807277277278,
          659.6271111111112,
          661.6734944944945,
          663.7198778778779,
          665.7662612612612,
          667.8126446446446,
          669.859028028028,
          671.9054114114114,
          673.9517947947948,
          675.9981781781781,
          678.0445615615615,
          680.0909449449449,
          682.1373283283283,
          684.1837117117117,
          686.2300950950951,
          688.2764784784785,
          690.3228618618618,
          692.3692452452452,
          694.4156286286286,
          696.462012012012,
          698.5083953953954,
          700.5547787787788,
          702.6011621621622,
          704.6475455455455,
          706.6939289289289,
          708.7403123123123,
          710.7866956956957,
          712.8330790790791,
          714.8794624624625,
          716.9258458458459,
          718.9722292292292,
          721.0186126126126,
          723.064995995996,
          725.1113793793794,
          727.1577627627628,
          729.2041461461462,
          731.2505295295296,
          733.296912912913,
          735.3432962962963,
          737.3896796796797,
          739.4360630630631,
          741.4824464464465,
          743.5288298298299,
          745.5752132132133,
          747.6215965965966,
          749.66797997998,
          751.7143633633634,
          753.7607467467468,
          755.8071301301302,
          757.8535135135136,
          759.899896896897,
          761.9462802802803,
          763.9926636636637,
          766.0390470470471,
          768.0854304304305,
          770.1318138138139,
          772.1781971971973,
          774.2245805805806,
          776.2709639639639,
          778.3173473473473,
          780.3637307307307,
          782.4101141141141,
          784.4564974974975,
          786.5028808808809,
          788.5492642642643,
          790.5956476476476,
          792.642031031031,
          794.6884144144144,
          796.7347977977978,
          798.7811811811812,
          800.8275645645646,
          802.873947947948,
          804.9203313313313,
          806.9667147147147,
          809.0130980980981,
          811.0594814814815,
          813.1058648648649,
          815.1522482482483,
          817.1986316316317,
          819.245015015015,
          821.2913983983984,
          823.3377817817818,
          825.3841651651652,
          827.4305485485486,
          829.476931931932,
          831.5233153153154,
          833.5696986986987,
          835.6160820820821,
          837.6624654654655,
          839.7088488488489,
          841.7552322322323,
          843.8016156156157,
          845.8479989989991,
          847.8943823823824,
          849.9407657657658,
          851.9871491491492,
          854.0335325325326,
          856.079915915916,
          858.1262992992994,
          860.1726826826826,
          862.219066066066,
          864.2654494494494,
          866.3118328328328,
          868.3582162162162,
          870.4045995995996,
          872.450982982983,
          874.4973663663664,
          876.5437497497497,
          878.5901331331331,
          880.6365165165165,
          882.6828998998999,
          884.7292832832833,
          886.7756666666667,
          888.82205005005,
          890.8684334334334,
          892.9148168168168,
          894.9612002002002,
          897.0075835835836,
          899.053966966967,
          901.1003503503504,
          903.1467337337338,
          905.1931171171171,
          907.2395005005005,
          909.2858838838839,
          911.3322672672673,
          913.3786506506507,
          915.4250340340341,
          917.4714174174175,
          919.5178008008008,
          921.5641841841842,
          923.6105675675676,
          925.656950950951,
          927.7033343343344,
          929.7497177177178,
          931.7961011011012,
          933.8424844844845,
          935.8888678678679,
          937.9352512512513,
          939.9816346346347,
          942.0280180180181,
          944.0744014014015,
          946.1207847847849,
          948.1671681681681,
          950.2135515515515,
          952.2599349349349,
          954.3063183183183,
          956.3527017017017,
          958.3990850850851,
          960.4454684684684,
          962.4918518518518,
          964.5382352352352,
          966.5846186186186,
          968.631002002002,
          970.6773853853854,
          972.7237687687688,
          974.7701521521521,
          976.8165355355355,
          978.8629189189189,
          980.9093023023023,
          982.9556856856857,
          985.0020690690691,
          987.0484524524525,
          989.0948358358359,
          991.1412192192192,
          993.1876026026026,
          995.233985985986,
          997.2803693693694,
          999.3267527527528,
          1001.3731361361362,
          1003.4195195195196,
          1005.4659029029029,
          1007.5122862862863,
          1009.5586696696697,
          1011.6050530530531,
          1013.6514364364365,
          1015.6978198198199,
          1017.7442032032033,
          1019.7905865865866,
          1021.83696996997,
          1023.8833533533534,
          1025.9297367367367,
          1027.9761201201202,
          1030.0225035035035,
          1032.068886886887,
          1034.1152702702702,
          1036.1616536536535,
          1038.208037037037,
          1040.2544204204203,
          1042.3008038038038,
          1044.347187187187,
          1046.3935705705705,
          1048.4399539539538,
          1050.4863373373373,
          1052.5327207207206,
          1054.579104104104,
          1056.6254874874874,
          1058.6718708708709,
          1060.7182542542541,
          1062.7646376376376,
          1064.811021021021,
          1066.8574044044044,
          1068.9037877877877,
          1070.9501711711712,
          1072.9965545545545,
          1075.042937937938,
          1077.0893213213212,
          1079.1357047047047,
          1081.182088088088,
          1083.2284714714715,
          1085.2748548548548,
          1087.3212382382383,
          1089.3676216216215,
          1091.414005005005,
          1093.4603883883883,
          1095.5067717717718,
          1097.553155155155,
          1099.5995385385386,
          1101.6459219219219,
          1103.6923053053054,
          1105.7386886886886,
          1107.7850720720721,
          1109.8314554554554,
          1111.877838838839,
          1113.9242222222222,
          1115.9706056056057,
          1118.016988988989,
          1120.0633723723724,
          1122.1097557557557,
          1124.156139139139,
          1126.2025225225225,
          1128.2489059059058,
          1130.2952892892893,
          1132.3416726726725,
          1134.388056056056,
          1136.4344394394393,
          1138.4808228228228,
          1140.527206206206,
          1142.5735895895896,
          1144.6199729729728,
          1146.6663563563563,
          1148.7127397397396,
          1150.7591231231231,
          1152.8055065065064,
          1154.85188988989,
          1156.8982732732732,
          1158.9446566566567,
          1160.99104004004,
          1163.0374234234234,
          1165.0838068068067,
          1167.1301901901902,
          1169.1765735735735,
          1171.222956956957,
          1173.2693403403402,
          1175.3157237237237,
          1177.362107107107,
          1179.4084904904905,
          1181.4548738738738,
          1183.5012572572573,
          1185.5476406406406,
          1187.594024024024,
          1189.6404074074073,
          1191.6867907907908,
          1193.733174174174,
          1195.7795575575576,
          1197.8259409409409,
          1199.8723243243244,
          1201.9187077077077,
          1203.9650910910912,
          1206.0114744744744,
          1208.057857857858,
          1210.1042412412412,
          1212.1506246246245,
          1214.197008008008,
          1216.2433913913912,
          1218.2897747747747,
          1220.336158158158,
          1222.3825415415415,
          1224.4289249249248,
          1226.4753083083083,
          1228.5216916916916,
          1230.568075075075,
          1232.6144584584583,
          1234.6608418418418,
          1236.707225225225,
          1238.7536086086086,
          1240.7999919919919,
          1242.8463753753754,
          1244.8927587587586,
          1246.9391421421421,
          1248.9855255255254,
          1251.031908908909,
          1253.0782922922922,
          1255.1246756756755,
          1257.171059059059,
          1259.2174424424422,
          1261.2638258258257,
          1263.310209209209,
          1265.3565925925925,
          1267.4029759759758,
          1269.4493593593593,
          1271.4957427427426,
          1273.542126126126,
          1275.5885095095093,
          1277.6348928928928,
          1279.681276276276,
          1281.7276596596596,
          1283.7740430430429,
          1285.8204264264264,
          1287.8668098098096,
          1289.9131931931931,
          1291.9595765765764,
          1294.00595995996,
          1296.0523433433432,
          1298.0987267267267,
          1300.14511011011,
          1302.1914934934935,
          1304.2378768768767,
          1306.2842602602602,
          1308.3306436436435,
          1310.377027027027,
          1312.4234104104103,
          1314.4697937937938,
          1316.516177177177,
          1318.5625605605605,
          1320.6089439439438,
          1322.6553273273273,
          1324.7017107107106,
          1326.748094094094,
          1328.7944774774774,
          1330.8408608608609,
          1332.8872442442441,
          1334.9336276276276,
          1336.980011011011,
          1339.0263943943944,
          1341.0727777777777,
          1343.119161161161,
          1345.1655445445444,
          1347.2119279279277,
          1349.2583113113112,
          1351.3046946946945,
          1353.351078078078,
          1355.3974614614613,
          1357.4438448448448,
          1359.490228228228,
          1361.5366116116115,
          1363.5829949949948,
          1365.6293783783783,
          1367.6757617617616,
          1369.722145145145,
          1371.7685285285283,
          1373.8149119119118,
          1375.8612952952951,
          1377.9076786786786,
          1379.954062062062,
          1382.0004454454454,
          1384.0468288288287,
          1386.0932122122122,
          1388.1395955955954,
          1390.185978978979,
          1392.2323623623622,
          1394.2787457457457,
          1396.325129129129,
          1398.3715125125125,
          1400.4178958958958,
          1402.4642792792793,
          1404.5106626626625,
          1406.557046046046,
          1408.6034294294293,
          1410.6498128128128,
          1412.696196196196,
          1414.7425795795796,
          1416.7889629629628,
          1418.8353463463463,
          1420.8817297297296,
          1422.928113113113,
          1424.9744964964964,
          1427.0208798798799,
          1429.0672632632632,
          1431.1136466466464,
          1433.16003003003,
          1435.2064134134132,
          1437.2527967967967,
          1439.29918018018,
          1441.3455635635635,
          1443.3919469469467,
          1445.4383303303302,
          1447.4847137137135,
          1449.531097097097,
          1451.5774804804803,
          1453.6238638638638,
          1455.670247247247,
          1457.7166306306306,
          1459.7630140140138,
          1461.8093973973973,
          1463.8557807807806,
          1465.902164164164,
          1467.9485475475474,
          1469.9949309309309,
          1472.0413143143141,
          1474.0876976976976,
          1476.134081081081,
          1478.1804644644644,
          1480.2268478478477,
          1482.2732312312312,
          1484.3196146146145,
          1486.365997997998,
          1488.4123813813812,
          1490.4587647647647,
          1492.505148148148,
          1494.5515315315315,
          1496.5979149149148,
          1498.6442982982983,
          1500.6906816816816,
          1502.737065065065,
          1504.7834484484483,
          1506.8298318318318,
          1508.876215215215,
          1510.9225985985986,
          1512.9689819819819,
          1515.0153653653651,
          1517.0617487487486,
          1519.108132132132,
          1521.1545155155154,
          1523.2008988988987,
          1525.2472822822822,
          1527.2936656656655,
          1529.340049049049,
          1531.3864324324322,
          1533.4328158158157,
          1535.479199199199,
          1537.5255825825825,
          1539.5719659659658,
          1541.6183493493493,
          1543.6647327327325,
          1545.711116116116,
          1547.7574994994993,
          1549.8038828828828,
          1551.850266266266,
          1553.8966496496496,
          1555.9430330330329,
          1557.9894164164164,
          1560.0357997997996,
          1562.0821831831831,
          1564.1285665665664,
          1566.17494994995,
          1568.2213333333332,
          1570.2677167167167,
          1572.3141001001,
          1574.3604834834834,
          1576.4068668668667,
          1578.4532502502502,
          1580.4996336336335,
          1582.546017017017,
          1584.5924004004003,
          1586.6387837837838,
          1588.685167167167,
          1590.7315505505505,
          1592.7779339339338,
          1594.8243173173173,
          1596.8707007007006,
          1598.917084084084,
          1600.9634674674674,
          1603.0098508508506,
          1605.0562342342341,
          1607.1026176176174,
          1609.149001001001,
          1611.1953843843842,
          1613.2417677677677,
          1615.288151151151,
          1617.3345345345344,
          1619.3809179179177,
          1621.4273013013012,
          1623.4736846846845,
          1625.520068068068,
          1627.5664514514513,
          1629.6128348348348,
          1631.659218218218,
          1633.7056016016015,
          1635.7519849849848,
          1637.7983683683683,
          1639.8447517517516,
          1641.891135135135,
          1643.9375185185183,
          1645.9839019019018,
          1648.0302852852851,
          1650.0766686686686,
          1652.123052052052,
          1654.1694354354354,
          1656.2158188188187,
          1658.2622022022022,
          1660.3085855855854,
          1662.354968968969,
          1664.4013523523522,
          1666.4477357357357,
          1668.494119119119,
          1670.5405025025025,
          1672.5868858858857,
          1674.6332692692692,
          1676.6796526526525,
          1678.726036036036,
          1680.7724194194193,
          1682.8188028028028,
          1684.865186186186,
          1686.9115695695696,
          1688.9579529529528,
          1691.004336336336,
          1693.0507197197196,
          1695.0971031031029,
          1697.1434864864864,
          1699.1898698698697,
          1701.2362532532532,
          1703.2826366366364,
          1705.32902002002,
          1707.3754034034032,
          1709.4217867867867,
          1711.46817017017,
          1713.5145535535535,
          1715.5609369369367,
          1717.6073203203202,
          1719.6537037037035,
          1721.700087087087,
          1723.7464704704703,
          1725.7928538538538,
          1727.839237237237,
          1729.8856206206206,
          1731.9320040040038,
          1733.9783873873873,
          1736.0247707707706,
          1738.071154154154,
          1740.1175375375374,
          1742.1639209209209,
          1744.2103043043041,
          1746.2566876876876,
          1748.303071071071,
          1750.3494544544544,
          1752.3958378378377,
          1754.4422212212212,
          1756.4886046046045,
          1758.534987987988,
          1760.5813713713712,
          1762.6277547547547,
          1764.674138138138,
          1766.7205215215215,
          1768.7669049049048,
          1770.8132882882883,
          1772.8596716716715,
          1774.906055055055,
          1776.9524384384383,
          1778.9988218218216,
          1781.045205205205,
          1783.0915885885884,
          1785.1379719719719,
          1787.1843553553551,
          1789.2307387387386,
          1791.277122122122,
          1793.3235055055054,
          1795.3698888888887,
          1797.4162722722722,
          1799.4626556556555,
          1801.509039039039,
          1803.5554224224222,
          1805.6018058058057,
          1807.648189189189,
          1809.6945725725725,
          1811.7409559559558,
          1813.7873393393393,
          1815.8337227227225,
          1817.880106106106,
          1819.9264894894893,
          1821.9728728728728,
          1824.019256256256,
          1826.0656396396396,
          1828.1120230230229,
          1830.1584064064064,
          1832.2047897897896,
          1834.2511731731731,
          1836.2975565565564,
          1838.34393993994,
          1840.3903233233232,
          1842.4367067067067,
          1844.48309009009,
          1846.5294734734734,
          1848.5758568568567,
          1850.6222402402402,
          1852.6686236236235,
          1854.715007007007,
          1856.7613903903903,
          1858.8077737737738,
          1860.854157157157,
          1862.9005405405405,
          1864.9469239239238,
          1866.993307307307,
          1869.0396906906906,
          1871.0860740740738,
          1873.1324574574573,
          1875.1788408408406,
          1877.2252242242241,
          1879.2716076076074,
          1881.317990990991,
          1883.3643743743742,
          1885.4107577577577,
          1887.457141141141,
          1889.5035245245244,
          1891.5499079079077,
          1893.5962912912912,
          1895.6426746746745,
          1897.689058058058,
          1899.7354414414413,
          1901.7818248248248,
          1903.828208208208,
          1905.8745915915915,
          1907.9209749749748,
          1909.9673583583583,
          1912.0137417417416,
          1914.060125125125,
          1916.1065085085083,
          1918.1528918918918,
          1920.199275275275,
          1922.2456586586586,
          1924.2920420420419,
          1926.3384254254254,
          1928.3848088088087,
          1930.4311921921922,
          1932.4775755755754,
          1934.523958958959,
          1936.5703423423422,
          1938.6167257257257,
          1940.663109109109,
          1942.7094924924925,
          1944.7558758758757,
          1946.8022592592592,
          1948.8486426426425,
          1950.895026026026,
          1952.9414094094093,
          1954.9877927927926,
          1957.034176176176,
          1959.0805595595593,
          1961.1269429429428,
          1963.173326326326,
          1965.2197097097096,
          1967.2660930930929,
          1969.3124764764764,
          1971.3588598598596,
          1973.4052432432431,
          1975.4516266266264,
          1977.49801001001,
          1979.5443933933932,
          1981.5907767767767,
          1983.63716016016,
          1985.6835435435435,
          1987.7299269269267,
          1989.7763103103102,
          1991.8226936936935,
          1993.869077077077,
          1995.9154604604603,
          1997.9618438438438,
          2000.008227227227,
          2002.0546106106106,
          2004.1009939939938,
          2006.1473773773773,
          2008.1937607607606,
          2010.240144144144,
          2012.2865275275274,
          2014.3329109109109,
          2016.3792942942941,
          2018.4256776776776,
          2020.472061061061,
          2022.5184444444444,
          2024.5648278278277,
          2026.6112112112112,
          2028.6575945945945,
          2030.703977977978,
          2032.7503613613612,
          2034.7967447447447,
          2036.843128128128,
          2038.8895115115115,
          2040.9358948948948,
          2042.982278278278,
          2045.0286616616615,
          2047.0750450450448,
          2049.1214284284283,
          2051.1678118118116,
          2053.2141951951953,
          2055.2605785785786,
          2057.306961961962,
          2059.353345345345,
          2061.399728728729,
          2063.446112112112,
          2065.4924954954954,
          2067.5388788788787,
          2069.5852622622624,
          2071.6316456456457,
          2073.678029029029,
          2075.724412412412,
          2077.770795795796,
          2079.817179179179,
          2081.8635625625625,
          2083.9099459459458,
          2085.9563293293295,
          2088.0027127127128,
          2090.049096096096,
          2092.0954794794793,
          2094.141862862863,
          2096.1882462462463,
          2098.2346296296296,
          2100.281013013013,
          2102.3273963963966,
          2104.37377977978,
          2106.420163163163,
          2108.4665465465464,
          2110.51292992993,
          2112.5593133133134,
          2114.6056966966967,
          2116.65208008008,
          2118.6984634634637,
          2120.744846846847,
          2122.79123023023,
          2124.8376136136135,
          2126.8839969969968,
          2128.9303803803805,
          2130.9767637637638,
          2133.023147147147,
          2135.0695305305303,
          2137.115913913914,
          2139.1622972972973,
          2141.2086806806806,
          2143.255064064064,
          2145.3014474474476,
          2147.347830830831,
          2149.394214214214,
          2151.4405975975974,
          2153.486980980981,
          2155.5333643643644,
          2157.5797477477477,
          2159.626131131131,
          2161.6725145145147,
          2163.718897897898,
          2165.765281281281,
          2167.8116646646645,
          2169.858048048048,
          2171.9044314314315,
          2173.9508148148147,
          2175.997198198198,
          2178.0435815815817,
          2180.089964964965,
          2182.1363483483483,
          2184.1827317317316,
          2186.2291151151153,
          2188.2754984984986,
          2190.321881881882,
          2192.368265265265,
          2194.414648648649,
          2196.461032032032,
          2198.5074154154154,
          2200.5537987987987,
          2202.6001821821824,
          2204.6465655655657,
          2206.692948948949,
          2208.739332332332,
          2210.785715715716,
          2212.832099099099,
          2214.8784824824825,
          2216.9248658658657,
          2218.971249249249,
          2221.0176326326327,
          2223.064016016016,
          2225.1103993993993,
          2227.1567827827826,
          2229.2031661661663,
          2231.2495495495496,
          2233.295932932933,
          2235.342316316316,
          2237.3886996997,
          2239.435083083083,
          2241.4814664664664,
          2243.5278498498496,
          2245.5742332332334,
          2247.6206166166166,
          2249.667
         ],
         "y": [
          0.0001576491266482017,
          0.00015951481175066512,
          0.00016139694266399963,
          0.00016329558127373085,
          0.0001652107884558029,
          0.00016714262405615333,
          0.00016909114687022856,
          0.00017105641462244466,
          0.00017303848394559422,
          0.00017503741036020874,
          0.00017705324825387206,
          0.00017908605086049871,
          0.00018113587023957004,
          0.00018320275725534302,
          0.00018528676155602625,
          0.00018738793155293458,
          0.00018950631439962055,
          0.00019164195597099254,
          0.00019379490084241773,
          0.0001959651922688202,
          0.0001981528721637733,
          0.0002003579810785941,
          0.000202580558181443,
          0.00020482064123643294,
          0.00020707826658275262,
          0.00020935346911380942,
          0.00021164628225639478,
          0.00021395673794987827,
          0.00021628486662543387,
          0.0002186306971853047,
          0.00022099425698210906,
          0.0002233755717981939,
          0.0002257746658250406,
          0.00022819156164272675,
          0.0002306262801994509,
          0.00023307884079112277,
          0.0002355492610410263,
          0.0002380375568795591,
          0.0002405437425240533,
          0.0002430678304586845,
          0.00024560983141447203,
          0.0002481697543493767,
          0.0002507476064285016,
          0.00025334339300439964,
          0.0002559571175974957,
          0.0002585887818766256,
          0.00026123838563969976,
          0.00026390592679449536,
          0.0002665914013395839,
          0.00026929480334539563,
          0.00027201612493543464,
          0.00027475535626763747,
          0.000277512485515895,
          0.00028028749885173,
          0.0002830803804261458,
          0.0002858911123516448,
          0.00028871967468442687,
          0.0002915660454067701,
          0.0002944302004096015,
          0.000297312113475261,
          0.00030021175626046846,
          0.0003031290982794917,
          0.0003060641068875319,
          0.00030901674726431966,
          0.0003119869823979381,
          0.0003149747730688716,
          0.0003179800778342887,
          0.00032100285301256377,
          0.00032404305266804396,
          0.0003271006285960658,
          0.0003301755303082273,
          0.0003332677050179213,
          0.00033637709762613646,
          0.0003395036507075291,
          0.00034264730449677357,
          0.00034580799687519535,
          0.0003489856633576934,
          0.0003521802370799552,
          0.0003553916487859733,
          0.0003586198268158641,
          0.0003618646970939992,
          0.0003651261831174506,
          0.0003684042059447568,
          0.0003716986841850162,
          0.00037500953398731036,
          0.0003783366690304641,
          0.00038168000051314803,
          0.00038503943714432676,
          0.00038841488513405883,
          0.00039180624818465525,
          0.00039521342748219786,
          0.0003986363216884252,
          0.0004020748269329917,
          0.00040552883680610054,
          0.0004089982423515203,
          0.0004124829320599864,
          0.0004159827918629953,
          0.0004194977051269911,
          0.0004230275526479559,
          0.0004265722126464019,
          0.0004301315607627739,
          0.0004337054700532657,
          0.0004372938109860531,
          0.00044089645143795107,
          0.00044451325669149467,
          0.0004481440894324526,
          0.00045178880974777486,
          0.0004554472751239782,
          0.000459119340445975,
          0.0004628048579963479,
          0.00046650367745507495,
          0.00047021564589970846,
          0.00047394060780601093,
          0.0004776784050490523,
          0.0004814288769047713,
          0.00048519186005200503,
          0.0004889671885749887,
          0.0004927546939663302,
          0.0004965542051304617,
          0.0005003655483875709,
          0.000504188547478017,
          0.0005080230235672303,
          0.0005118687952511025,
          0.0005157256785618667,
          0.0005195934869744723,
          0.000523472031413455,
          0.0005273611202603058,
          0.0005312605593613404,
          0.0005351701520360714,
          0.0005390896990860846,
          0.000543018998804423,
          0.0005469578469854778,
          0.00055090603693539,
          0.0005548633594829628,
          0.0005588296029910881,
          0.0005628045533686862,
          0.0005667879940831604,
          0.0005707797061733697,
          0.000574779468263116,
          0.0005787870565751535,
          0.0005828022449457137,
          0.0005868248048395505,
          0.000590854505365506,
          0.0005948911132925965,
          0.0005989343930666187,
          0.0006029841068272757,
          0.0006070400144258253,
          0.000611101873443247,
          0.0006151694392089298,
          0.0006192424648198794,
          0.0006233207011604455,
          0.0006274038969225645,
          0.0006314917986265242,
          0.0006355841506422407,
          0.0006396806952110537,
          0.0006437811724680355,
          0.0006478853204648117,
          0.000651992875192895,
          0.0006561035706075281,
          0.0006602171386520339,
          0.0006643333092826732,
          0.0006684518104940064,
          0.0006725723683447554,
          0.0006766947069841676,
          0.0006808185486788763,
          0.0006849436138402545,
          0.0006890696210522618,
          0.0006931962870997809,
          0.0006973233269974388,
          0.0007014504540189124,
          0.000705577379726712,
          0.0007097038140024431,
          0.0007138294650775402,
          0.0007179540395644684,
          0.0007220772424883929,
          0.0007261987773193074,
          0.000730318346004621,
          0.0007344356490021982,
          0.0007385503853138468,
          0.0007426622525192511,
          0.0007467709468103435,
          0.0007508761630261116,
          0.0007549775946878351,
          0.0007590749340347487,
          0.0007631678720601221,
          0.0007672560985477563,
          0.0007713393021088901,
          0.0007754171702195077,
          0.000779489389258045,
          0.0007835556445434889,
          0.0007876156203738616,
          0.0007916690000650858,
          0.0007957154659902221,
          0.000799754699619077,
          0.0008037863815581689,
          0.0008078101915910506,
          0.0008118258087189798,
          0.0008158329112019292,
          0.0008198311765999327,
          0.0008238202818147578,
          0.0008277999031318987,
          0.000831769716262881,
          0.0008357293963878745,
          0.0008396786181986006,
          0.0008436170559415333,
          0.0008475443834613812,
          0.0008514602742448449,
          0.0008553644014646414,
          0.0008592564380237882,
          0.0008631360566001377,
          0.0008670029296911541,
          0.0008708567296589267,
          0.0008746971287754063,
          0.000878523799267862,
          0.0008823364133645457,
          0.0008861346433405574,
          0.0008899181615639015,
          0.0008936866405417271,
          0.0008974397529667408,
          0.000901177171763786,
          0.0009048985701365768,
          0.0009086036216145786,
          0.0009122920001000266,
          0.000915963379915073,
          0.0009196174358490515,
          0.0009232538432058522,
          0.0009268722778513971,
          0.0009304724162612026,
          0.0009340539355680271,
          0.0009376165136095869,
          0.0009411598289763328,
          0.0009446835610592806,
          0.0009481873900978807,
          0.0009516709972279216,
          0.000955134064529453,
          0.0009585762750747226,
          0.0009619973129761141,
          0.0009653968634340755,
          0.0009687746127850321,
          0.0009721302485492682,
          0.000975463459478772,
          0.0009787739356050301,
          0.0009820613682867648,
          0.0009853254502576018,
          0.0009885658756736571,
          0.0009917823401610357,
          0.0009949745408632295,
          0.0009981421764884066,
          0.001001284947356578,
          0.001004402555446635,
          0.0010074947044432442,
          0.0010105610997835936,
          0.0010136014487039742,
          0.0010166154602861913,
          0.001019602845503795,
          0.0010225633172681141,
          0.0010254965904740935,
          0.0010284023820459128,
          0.001031280410982386,
          0.001034130398402126,
          0.0010369520675884668,
          0.0010397451440341324,
          0.0010425093554856408,
          0.0010452444319874368,
          0.0010479501059257397,
          0.0010506261120720977,
          0.0010532721876266402,
          0.0010558880722610154,
          0.001058473508161005,
          0.0010610282400688085,
          0.0010635520153249821,
          0.0010660445839100275,
          0.0010685056984856172,
          0.0010709351144354519,
          0.0010733325899057338,
          0.0010756978858452522,
          0.0010780307660450687,
          0.0010803309971777956,
          0.0010825983488364542,
          0.00108483259357291,
          0.0010870335069358677,
          0.0010892008675084264,
          0.001091334456945179,
          0.0010934340600088496,
          0.0010954994646064616,
          0.0010975304618250255,
          0.0010995268459667406,
          0.0011014884145836993,
          0.001103414968512089,
          0.001105306311905881,
          0.00110716225227,
          0.0011089826004929656,
          0.0011107671708789973,
          0.0011125157811795773,
          0.0011142282526244635,
          0.0011159044099521413,
          0.001117544081439713,
          0.0011191470989322134,
          0.0011207132978713458,
          0.0011222425173236321,
          0.0011237346000079692,
          0.0011251893923225858,
          0.0011266067443713931,
          0.0011279865099897242,
          0.0011293285467694515,
          0.0011306327160834828,
          0.0011318988831096248,
          0.0011331269168538107,
          0.0011343166901726855,
          0.0011354680797955451,
          0.0011365809663456202,
          0.0011376552343607042,
          0.0011386907723131183,
          0.0011396874726290075,
          0.0011406452317069646,
          0.001141563949935979,
          0.0011424435317127007,
          0.0011432838854580237,
          0.0011440849236329738,
          0.0011448465627539094,
          0.00114556872340702,
          0.0011462513302621282,
          0.0011468943120857842,
          0.0011474976017536555,
          0.0011480611362622067,
          0.0011485848567396643,
          0.0011490687084562677,
          0.0011495126408338,
          0.0011499166074544025,
          0.00115028056606866,
          0.0011506044786029695,
          0.0011508883111661736,
          0.0011511320340554744,
          0.0011513356217616119,
          0.0011514990529733144,
          0.0011516223105810166,
          0.0011517053816798453,
          0.0011517482575718698,
          0.0011517509337676218,
          0.0011517134099868773,
          0.0011516356901587054,
          0.001151517782420784,
          0.0011513596991179788,
          0.0011511614568001894,
          0.0011509230762194605,
          0.0011506445823263637,
          0.0011503260042656433,
          0.0011499673753711333,
          0.0011495687331599441,
          0.0011491301193259228,
          0.001148651579732384,
          0.0011481331644041166,
          0.0011475749275186703,
          0.0011469769273969174,
          0.0011463392264928983,
          0.0011456618913829521,
          0.0011449449927541304,
          0.0011441886053919037,
          0.001143392808167159,
          0.0011425576840224938,
          0.0011416833199578069,
          0.001140769807015195,
          0.001139817240263152,
          0.001138825718780082,
          0.001137795345637122,
          0.0011367262278802863,
          0.001135618476511932,
          0.0011344722064715509,
          0.0011332875366158947,
          0.0011320645896984345,
          0.0011308034923481634,
          0.001129504375047745,
          0.0011281673721110137,
          0.001126792621659832,
          0.0011253802656003118,
          0.0011239304495984021,
          0.0011224433230548534,
          0.0011209190390795614,
          0.001119357754465297,
          0.0011177596296608303,
          0.0011161248287434526,
          0.0011144535193909066,
          0.0011127458728527266,
          0.0011110020639209994,
          0.0011092222709005535,
          0.0011074066755785775,
          0.0011055554631936855,
          0.001103668822404425,
          0.001101746945257244,
          0.00109979002715392,
          0.0010977982668184615,
          0.0010957718662634864,
          0.0010937110307560898,
          0.0010916159687832036,
          0.0010894868920164633,
          0.0010873240152765823,
          0.0010851275564972478,
          0.0010828977366885465,
          0.0010806347798999244,
          0.0010783389131826936,
          0.0010760103665520939,
          0.0010736493729489168,
          0.0010712561682007017,
          0.001068830990982514,
          0.0010663740827773134,
          0.0010638856878359211,
          0.001061366053136597,
          0.001058815428344233,
          0.001056234065769177,
          0.001053622220325691,
          0.001050980149490059,
          0.0010483081132583467,
          0.0010456063741038331,
          0.0010428751969341113,
          0.0010401148490478819,
          0.0010373256000914342,
          0.0010345077220148403,
          0.001031661489027857,
          0.0010287871775555599,
          0.001025885066193706,
          0.0010229554356638488,
          0.0010199985687682014,
          0.0010170147503442708,
          0.0010140042672192643,
          0.001010967408164285,
          0.0010079044638483194,
          0.0010048157267920348,
          0.0010017014913213914,
          0.0009985620535210825,
          0.0009953977111878082,
          0.0009922087637834027,
          0.000988995512387812,
          0.0009857582596519469,
          0.0009824973097504058,
          0.0009792129683340947,
          0.0009759055424827384,
          0.0009725753406573067,
          0.0009692226726523542,
          0.0009658478495482951,
          0.0009624511836636127,
          0.0009590329885070235,
          0.0009555935787295957,
          0.0009521332700768452,
          0.0009486523793408038,
          0.0009451512243120852,
          0.0009416301237319452,
          0.0009380893972443586,
          0.0009345293653481096,
          0.0009309503493489204,
          0.0009273526713116114,
          0.0009237366540123199,
          0.000920102620890774,
          0.0009164508960026353,
          0.0009127818039719261,
          0.0009090956699435384,
          0.0009053928195358498,
          0.0009016735787934385,
          0.0008979382741399247,
          0.0008941872323309311,
          0.0008904207804071858,
          0.0008866392456477654,
          0.0008828429555234983,
          0.0008790322376505254,
          0.0008752074197440398,
          0.0008713688295722026,
          0.0008675167949102543,
          0.0008636516434948198,
          0.000859773702978428,
          0.0008558833008842396,
          0.0008519807645610103,
          0.0008480664211382758,
          0.0008441405974817894,
          0.0008402036201492002,
          0.0008362558153459979,
          0.0008322975088817149,
          0.0008283290261264109,
          0.0008243506919674309,
          0.0008203628307664621,
          0.0008163657663168766,
          0.0008123598218013899,
          0.0008083453197500226,
          0.0008043225819983871,
          0.0008002919296462954,
          0.0007962536830167067,
          0.0007922081616150076,
          0.0007881556840886469,
          0.0007840965681871177,
          0.0007800311307223057,
          0.0007759596875291977,
          0.0007718825534269705,
          0.0007678000421804519,
          0.0007637124664619727,
          0.0007596201378136067,
          0.0007555233666098076,
          0.0007514224620204534,
          0.0007473177319742907,
          0.0007432094831228021,
          0.0007390980208044842,
          0.0007349836490095579,
          0.0007308666703450996,
          0.0007267473860006147,
          0.0007226260957140432,
          0.0007185030977382142,
          0.000714378688807744,
          0.0007102531641063918,
          0.0007061268172348653,
          0.0007019999401790956,
          0.0006978728232789673,
          0.000693745755197527,
          0.0006896190228906549,
          0.0006854929115772206,
          0.0006813677047097102,
          0.0006772436839453438,
          0.0006731211291176715,
          0.0006690003182086628,
          0.0006648815273212873,
          0.0006607650306525862,
          0.000656651100467245,
          0.0006525400070716624,
          0.0006484320187885234,
          0.0006443274019318723,
          0.000640226420782698,
          0.0006361293375650196,
          0.0006320364124224891,
          0.0006279479033954971,
          0.0006238640663988006,
          0.0006197851551996566,
          0.000615711421396476,
          0.0006116431143979913,
          0.0006075804814029453,
          0.0006035237673802926,
          0.0005994732150499257,
          0.0005954290648639162,
          0.0005913915549882799,
          0.0005873609212852575,
          0.0005833373972961224,
          0.0005793212142245005,
          0.0005753126009202199,
          0.0005713117838636716,
          0.0005673189871506996,
          0.0005633344324780008,
          0.0005593583391290533,
          0.0005553909239605546,
          0.0005514324013893844,
          0.0005474829833800777,
          0.0005435428794328193,
          0.0005396122965719471,
          0.0005356914393349727,
          0.0005317805097621115,
          0.000527879707386323,
          0.0005239892292238599,
          0.0005201092697653261,
          0.0005162400209672333,
          0.00051238167224407,
          0.0005085344104608607,
          0.0005046984199262344,
          0.0005008738823859806,
          0.0004970609770171041,
          0.0004932598804223724,
          0.0004894707666253458,
          0.0004856938070659031,
          0.0004819291705962404,
          0.0004781770234773609,
          0.00047443752937603186,
          0.0004707108493622272,
          0.0004669971419070304,
          0.00046329656288101527,
          0.00045960926555308385,
          0.00045593540058977156,
          0.00045227511605500613,
          0.0004486285574103234,
          0.000444995867515532,
          0.00044137718662982635,
          0.0004377726524133407,
          0.00043418239992914603,
          0.00043060656164567603,
          0.00042704526743959155,
          0.00042349864459906446,
          0.0004199668178274912,
          0.00041644990924761833,
          0.00041294803840608875,
          0.0004094613222783911,
          0.00040598987527421985,
          0.0004025338092432321,
          0.0003990932334812041,
          0.0003956682547365753,
          0.00039225897721738414,
          0.0003888655025985797,
          0.00038548793002971725,
          0.0003821263561430205,
          0.000378780875061816,
          0.0003754515784093254,
          0.0003721385553178206,
          0.0003688418924381254,
          0.0003655616739494712,
          0.00036229798156968803,
          0.00035905089456573954,
          0.0003558204897645839,
          0.0003526068415643666,
          0.00034941002194593046,
          0.0003462301004846439,
          0.00034306714436254195,
          0.0003399212183807672,
          0.000336792384972318,
          0.00033368070421508446,
          0.0003305862338451795,
          0.0003275090292705498,
          0.0003244491435848677,
          0.00032140662758169423,
          0.0003183815297689111,
          0.00031537389638341284,
          0.00031238377140605796,
          0.0003094111965768675,
          0.0003064562114104735,
          0.0003035188532118013,
          0.0003005991570919929,
          0.0002976971559845524,
          0.00029481288066172083,
          0.00029194635975106234,
          0.0002890976197522686,
          0.00028626668505416403,
          0.00028345357795191644,
          0.00028065831866443954,
          0.00027788092535198876,
          0.00027512141413393724,
          0.00027237979910673516,
          0.00026965609236203784,
          0.0002669503040050057,
          0.00026426244217276284,
          0.0002615925130530162,
          0.00025894052090282146,
          0.0002563064680675005,
          0.0002536903549996932,
          0.00025109218027855046,
          0.0002485119406290514,
          0.00024594963094144967,
          0.00024340524429083507,
          0.00024087877195681188,
          0.00023837020344328323,
          0.00023587952649834097,
          0.00023340672713425173,
          0.00023095178964753623,
          0.00022851469663913868,
          0.0002260954290346736,
          0.0002236939661047565,
          0.000221310285485401,
          0.00021894436319848837,
          0.0002165961736722953,
          0.00021426568976208295,
          0.00021195288277073545,
          0.0002096577224694484,
          0.00020738017711845855,
          0.00020512021348781362,
          0.00020287779687817268,
          0.00020065289114163884,
          0.00019844545870261184,
          0.00019625546057866475,
          0.00019408285640143047,
          0.0001919276044375038,
          0.00018978966160934413,
          0.00018766898351618502,
          0.00018556552445493578,
          0.00018347923744108007,
          0.00018141007422955958,
          0.0001793579853356452,
          0.00017732292005578527,
          0.00017530482648843245,
          0.00017330365155484033,
          0.00017131934101983034,
          0.0001693518395125196,
          0.00016740109054701248,
          0.00016546703654304456,
          0.00016354961884658284,
          0.00016164877775037053,
          0.00015976445251442148,
          0.00015789658138645111,
          0.00015604510162224952,
          0.00015420994950598535,
          0.00015239106037044336,
          0.00015058836861718666,
          0.00014880180773664615,
          0.00014703131032812696,
          0.00014527680811973688,
          0.00014353823198822444,
          0.0001418155119787324,
          0.0001401085773244575,
          0.00013841735646621432,
          0.00013674177707190477,
          0.00013508176605588298,
          0.000133437249598221,
          0.00013180815316386386,
          0.0001301944015216802,
          0.00012859591876339754,
          0.0001270126283224268,
          0.00012544445299256701,
          0.00012389131494659438,
          0.00012235313575472643,
          0.00012082983640296561,
          0.00011932133731131361,
          0.00011782755835186093,
          0.00011634841886674185,
          0.00011488383768596117,
          0.00011343373314508222,
          0.00011199802310278201,
          0.00011057662495826399,
          0.00010916945566853445,
          0.00010777643176553266,
          0.00010639746937312041,
          0.0001050324842239235,
          0.00010368139167602694,
          0.000102344106729521,
          0.00010102054404289688,
          0.00009971061794928994,
          0.00009841424247257039,
          0.00009713133134327834,
          0.00009586179801440343,
          0.00009460555567700699,
          0.0000933625172756858,
          0.00009213259552387531,
          0.00009091570291899423,
          0.00008971175175742435,
          0.00008852065414933083,
          0.00008734232203331584,
          0.00008617666719091017,
          0.00008502360126089702,
          0.0000838830357534722,
          0.00008275488206423467,
          0.00008163905148801175,
          0.00008053545523251526,
          0.00007944400443182805,
          0.00007836461015972312,
          0.00007729718344281071,
          0.00007624163527351704,
          0.00007519787662289114,
          0.00007416581845324156,
          0.00007314537173060122,
          0.00007213644743702108,
          0.0000711389565826921,
          0.00007015281021789506,
          0.0000691779194447788,
          0.00006821419542896635,
          0.00006726154941098802,
          0.00006631989271754442,
          0.0000653891367725951,
          0.0000644691931082776,
          0.00006355997337565222,
          0.00006266138935527803,
          0.00006177335296761457,
          0.00006089577628325505,
          0.00006002857153298637,
          0.00005917165111768089,
          0.00005832492761801574,
          0.0000574883138040247,
          0.00005666172264447848,
          0.00005584506731609844,
          0.000055038261212599684,
          0.00005424121795356869,
          0.000053453851393171457,
          0.00005267607562869713,
          0.00005190780500893365,
          0.00005114895414238012,
          0.00005039943790529261,
          0.0000496591714495678,
          0.00004892807021046211,
          0.000048206049914149385,
          0.00004749302658511676,
          0.00004678891655339964,
          0.00004609363646165728,
          0.00004540710327208912,
          0.000044729234273193216,
          0.000044059947086367454,
          0.000043399159672355276,
          0.00004274679033753516,
          0.00004210275774005742,
          0.0000414669808958265,
          0.00004083937918433268,
          0.00004021987235433152,
          0.00003960838052937472,
          0.00003900482421319108,
          0.0000384091242949212,
          0.00003782120205420428,
          0.000037240979166121234,
          0.0000366683777059923,
          0.000036103320154033116,
          0.000035545729399868,
          0.000034995528746903946,
          0.00003445264191656454,
          0.00003391699305238674,
          0.00003338850672398065,
          0.000032867107930854245,
          0.000032352722106104015,
          0.000031845275119973045,
          0.0000313446932832777,
          0.000030850903350704425,
          0.000030363832523977793,
          0.000029883408454901648,
          0.000029409559248273605,
          0.000028942213464676238,
          0.000028481300123143792,
          0.000028026748703708466,
          0.000027578489149825268,
          0.000027136451870679047,
          0.000026700567743372926,
          0.00002627076811500185,
          0.000025846984804610364,
          0.00002542915010503832,
          0.00002501719678465374,
          0.000024611058088976434,
          0.000024210667742191744,
          0.000023815959948557877,
          0.00002342686939370627,
          0.000023043331245838416,
          0.0000226652811568188,
          0.000022292655263166846,
          0.00002192539018694844,
          0.000021563423036568798,
          0.00002120669140746821,
          0.000020855133382721852,
          0.00002050868753354561,
          0.000020167292919708443,
          0.00001983088908985425,
          0.00001949941608173279,
          0.000019172814422342976,
          0.000018851025127988425,
          0.000018533989704248013,
          0.000018221650145861606,
          0.000017913948936533758,
          0.00001761082904865545,
          0.00001731223394294656,
          0.000017018107568019252,
          0.00001672839435986505,
          0.00001644303924126553,
          0.000016161987621129545,
          0.00001588518539375692,
          0.000015612578938031476,
          0.000015344115116543204,
          0.000015079741274642703,
          0.000014819405239427404,
          0.00001456305531866277,
          0.000014310640299638187,
          0.000014062109447960316,
          0.000013817412506284036,
          0.000013576499692983311,
          0.000013339321700762597,
          0.000013105829695210501,
          0.000012875975313296831,
          0.0000126497106618144,
          0.000012426988315766907,
          0.000012207761316704049,
          0.000011991983171005234,
          0.000011779607848113274,
          0.000011570589778718844,
          0.000011364883852897775,
          0.000011162445418201359,
          0.000010963230277701955,
          0.000010767194687994154,
          0.00001057429535715346,
          0.000010384489442653276,
          0.000010197734549241246,
          0.000010013988726776683,
          0.000009833210468029503,
          0.000009655358706442542,
          0.000009480392813857628,
          0.00000930827259820738,
          0.000009138958301172912,
          0.00000897241059580943,
          0.00000880859058414008,
          0.000008647459794719602,
          0.000008488980180168577,
          0.000008333114114679482,
          0.000008179824391495448,
          0.000008029074220362836,
          0.000007880827224958635,
          0.000007735047440293613,
          0.0000075916993100922765,
          0.000007450747684150634,
          0.000007312157815672504,
          0.000007175895358585756,
          0.000007041926364838847,
          0.000006910217281679172,
          0.000006780734948913536,
          0.0000066534465961522564,
          0.000006528319840037199,
          0.000006405322681455119,
          0.000006284423502736743,
          0.0000061655910648428135,
          0.000006048794504537559,
          0.000005934003331550811,
          0.00000582118742572914,
          0.0000057103170341772365,
          0.000005601362768389911,
          0.000005494295601375909,
          0.000005389086864773796,
          0.000005285708245961232,
          0.0000051841317851577765,
          0.00000508432987252249,
          0.000004986275245246566,
          0.0000048899409846420925,
          0.000004795300513227267,
          0.000004702327591809013,
          0.0000046109963165635625,
          0.000004521281116115475,
          0.000004433156748616141,
          0.000004346598298821835,
          0.000004261581175172542,
          0.000004178081106871526,
          0.000004096074140966796,
          0.000004015536639434597,
          0.000003936445276265856,
          0.000003858777034555759,
          0.0000037825092035973114,
          0.000003707619375979246,
          0.000003634085444688913,
          0.000003561885600220424,
          0.0000034909983276888102,
          0.0000034214024039505327,
          0.0000033530768947309085,
          0.0000032860011517586654,
          0.0000032201548099084525,
          0.000003155517784351437,
          0.000003092070267714627,
          0.0000030297927272490397,
          0.000002968665902007526,
          0.0000029086708000323136,
          0.000002849788695552841,
          0.000002792001126194105,
          0.0000027352898901960465,
          0.000002679637043644246,
          0.0000026250248977122754,
          0.000002571436015915993,
          0.000002518853211380255,
          0.000002467259544118182,
          0.0000024166383183234672,
          0.0000023669730796757754,
          0.0000023182476126598344,
          0.000002270445937898202,
          0.0000022235523094982175,
          0.00000217755121241317,
          0.0000021324273598181673,
          0.000002088165690500749,
          0.000002044751366266597,
          0.000002002169769360587,
          0.0000019604064999032063,
          0.0000019194473733428273,
          0.0000018792784179238157,
          0.000001839885872170818,
          0.000001801256182389221,
          0.000001763376000182204,
          0.000001726232179984365,
          0.0000016898117766121901,
          0.0000016541020428314005,
          0.0000016190904269414848,
          0.0000015847645703774375,
          0.000001551112305328881,
          0.0000015181216523766458,
          0.0000014857808181470406,
          0.000001454078192983785,
          0.0000014230023486378467,
          0.0000013925420359751225,
          0.0000013626861827022358,
          0.0000013334238911103815,
          0.0000013047444358374199,
          0.0000012766372616481688,
          0.0000012490919812330821,
          0.0000012220983730252992,
          0.000001195646379036168,
          0.00000116972610270923,
          0.0000011443278067927825,
          0.0000011194419112310125,
          0.0000010950589910737697,
          0.0000010711697744049521,
          0.000001047765140289586,
          0.0000010248361167395896,
          0.0000010023738786982677,
          9.803697460434476e-7,
          9.588151816094094e-7,
          9.377017892274815e-7,
          9.170213117853913e-7,
          8.967656293052513e-7,
          8.76926757040295e-7,
          8.574968435902548e-7,
          8.384681690353979e-7,
          8.198331430891592e-7,
          8.015843032693942e-7,
          7.837143130881843e-7,
          7.662159602601371e-7,
          7.490821549292105e-7,
          7.323059279139207e-7,
          7.158804289709679e-7,
          6.99798925077187e-7,
          6.840547987297897e-7,
          6.686415462647975e-7,
          6.535527761936642e-7,
          6.387822075579768e-7,
          6.243236683022126e-7,
          6.101710936644042e-7,
          5.963185245847427e-7,
          5.827601061319597e-7,
          5.694900859474692e-7,
          5.565028127071214e-7
         ]
        },
        {
         "mode": "lines",
         "name": "KDE (scott)",
         "type": "scatter",
         "visible": false,
         "x": [
          205.33,
          207.3763833833834,
          209.42276676676678,
          211.46915015015017,
          213.51553353353356,
          215.5619169169169,
          217.6083003003003,
          219.6546836836837,
          221.70106706706707,
          223.74745045045046,
          225.79383383383384,
          227.84021721721723,
          229.88660060060062,
          231.932983983984,
          233.9793673673674,
          236.02575075075077,
          238.07213413413416,
          240.11851751751755,
          242.1649009009009,
          244.2112842842843,
          246.25766766766768,
          248.30405105105106,
          250.35043443443445,
          252.39681781781783,
          254.44320120120122,
          256.4895845845846,
          258.53596796796796,
          260.58235135135135,
          262.62873473473473,
          264.6751181181181,
          266.7215015015015,
          268.7678848848849,
          270.8142682682683,
          272.86065165165166,
          274.90703503503505,
          276.95341841841844,
          278.9998018018018,
          281.0461851851852,
          283.0925685685686,
          285.138951951952,
          287.18533533533537,
          289.23171871871875,
          291.27810210210214,
          293.3244854854855,
          295.3708688688689,
          297.4172522522523,
          299.4636356356356,
          301.510019019019,
          303.5564024024024,
          305.6027857857858,
          307.64916916916917,
          309.69555255255256,
          311.74193593593594,
          313.7883193193193,
          315.8347027027027,
          317.8810860860861,
          319.9274694694695,
          321.9738528528529,
          324.02023623623626,
          326.06661961961964,
          328.11300300300303,
          330.1593863863864,
          332.20576976976974,
          334.25215315315313,
          336.2985365365365,
          338.3449199199199,
          340.3913033033033,
          342.4376866866867,
          344.48407007007006,
          346.53045345345345,
          348.57683683683683,
          350.6232202202202,
          352.6696036036036,
          354.715986986987,
          356.7623703703704,
          358.80875375375376,
          360.85513713713715,
          362.90152052052053,
          364.9479039039039,
          366.9942872872873,
          369.0406706706707,
          371.0870540540541,
          373.13343743743746,
          375.17982082082085,
          377.22620420420424,
          379.2725875875876,
          381.318970970971,
          383.3653543543544,
          385.4117377377378,
          387.45812112112117,
          389.50450450450455,
          391.5508878878879,
          393.59727127127127,
          395.64365465465465,
          397.69003803803804,
          399.7364214214214,
          401.7828048048048,
          403.8291881881882,
          405.8755715715716,
          407.92195495495497,
          409.96833833833836,
          412.01472172172174,
          414.06110510510507,
          416.10748848848846,
          418.15387187187184,
          420.20025525525523,
          422.2466386386386,
          424.293022022022,
          426.3394054054054,
          428.3857887887888,
          430.43217217217216,
          432.47855555555554,
          434.52493893893893,
          436.5713223223223,
          438.6177057057057,
          440.6640890890891,
          442.7104724724725,
          444.75685585585586,
          446.80323923923925,
          448.84962262262263,
          450.896006006006,
          452.9423893893894,
          454.9887727727728,
          457.0351561561562,
          459.08153953953956,
          461.12792292292295,
          463.17430630630633,
          465.2206896896897,
          467.2670730730731,
          469.3134564564565,
          471.3598398398399,
          473.40622322322326,
          475.45260660660665,
          477.49898998999004,
          479.5453733733734,
          481.5917567567568,
          483.6381401401402,
          485.6845235235236,
          487.73090690690697,
          489.77729029029024,
          491.8236736736736,
          493.870057057057,
          495.9164404404404,
          497.9628238238238,
          500.00920720720717,
          502.05559059059055,
          504.10197397397394,
          506.1483573573573,
          508.1947407407407,
          510.2411241241241,
          512.2875075075075,
          514.3338908908909,
          516.3802742742743,
          518.4266576576576,
          520.473041041041,
          522.5194244244244,
          524.5658078078078,
          526.6121911911912,
          528.6585745745746,
          530.704957957958,
          532.7513413413413,
          534.7977247247247,
          536.8441081081081,
          538.8904914914915,
          540.9368748748749,
          542.9832582582583,
          545.0296416416417,
          547.076025025025,
          549.1224084084084,
          551.1687917917918,
          553.2151751751752,
          555.2615585585586,
          557.307941941942,
          559.3543253253254,
          561.4007087087087,
          563.4470920920921,
          565.4934754754755,
          567.5398588588589,
          569.5862422422423,
          571.6326256256257,
          573.6790090090091,
          575.7253923923925,
          577.7717757757757,
          579.8181591591591,
          581.8645425425425,
          583.9109259259259,
          585.9573093093093,
          588.0036926926927,
          590.050076076076,
          592.0964594594594,
          594.1428428428428,
          596.1892262262262,
          598.2356096096096,
          600.281992992993,
          602.3283763763764,
          604.3747597597597,
          606.4211431431431,
          608.4675265265265,
          610.5139099099099,
          612.5602932932933,
          614.6066766766767,
          616.65306006006,
          618.6994434434434,
          620.7458268268268,
          622.7922102102102,
          624.8385935935936,
          626.884976976977,
          628.9313603603604,
          630.9777437437438,
          633.0241271271271,
          635.0705105105105,
          637.1168938938939,
          639.1632772772773,
          641.2096606606607,
          643.2560440440441,
          645.3024274274275,
          647.3488108108108,
          649.3951941941942,
          651.4415775775776,
          653.487960960961,
          655.5343443443444,
          657.5807277277278,
          659.6271111111112,
          661.6734944944945,
          663.7198778778779,
          665.7662612612612,
          667.8126446446446,
          669.859028028028,
          671.9054114114114,
          673.9517947947948,
          675.9981781781781,
          678.0445615615615,
          680.0909449449449,
          682.1373283283283,
          684.1837117117117,
          686.2300950950951,
          688.2764784784785,
          690.3228618618618,
          692.3692452452452,
          694.4156286286286,
          696.462012012012,
          698.5083953953954,
          700.5547787787788,
          702.6011621621622,
          704.6475455455455,
          706.6939289289289,
          708.7403123123123,
          710.7866956956957,
          712.8330790790791,
          714.8794624624625,
          716.9258458458459,
          718.9722292292292,
          721.0186126126126,
          723.064995995996,
          725.1113793793794,
          727.1577627627628,
          729.2041461461462,
          731.2505295295296,
          733.296912912913,
          735.3432962962963,
          737.3896796796797,
          739.4360630630631,
          741.4824464464465,
          743.5288298298299,
          745.5752132132133,
          747.6215965965966,
          749.66797997998,
          751.7143633633634,
          753.7607467467468,
          755.8071301301302,
          757.8535135135136,
          759.899896896897,
          761.9462802802803,
          763.9926636636637,
          766.0390470470471,
          768.0854304304305,
          770.1318138138139,
          772.1781971971973,
          774.2245805805806,
          776.2709639639639,
          778.3173473473473,
          780.3637307307307,
          782.4101141141141,
          784.4564974974975,
          786.5028808808809,
          788.5492642642643,
          790.5956476476476,
          792.642031031031,
          794.6884144144144,
          796.7347977977978,
          798.7811811811812,
          800.8275645645646,
          802.873947947948,
          804.9203313313313,
          806.9667147147147,
          809.0130980980981,
          811.0594814814815,
          813.1058648648649,
          815.1522482482483,
          817.1986316316317,
          819.245015015015,
          821.2913983983984,
          823.3377817817818,
          825.3841651651652,
          827.4305485485486,
          829.476931931932,
          831.5233153153154,
          833.5696986986987,
          835.6160820820821,
          837.6624654654655,
          839.7088488488489,
          841.7552322322323,
          843.8016156156157,
          845.8479989989991,
          847.8943823823824,
          849.9407657657658,
          851.9871491491492,
          854.0335325325326,
          856.079915915916,
          858.1262992992994,
          860.1726826826826,
          862.219066066066,
          864.2654494494494,
          866.3118328328328,
          868.3582162162162,
          870.4045995995996,
          872.450982982983,
          874.4973663663664,
          876.5437497497497,
          878.5901331331331,
          880.6365165165165,
          882.6828998998999,
          884.7292832832833,
          886.7756666666667,
          888.82205005005,
          890.8684334334334,
          892.9148168168168,
          894.9612002002002,
          897.0075835835836,
          899.053966966967,
          901.1003503503504,
          903.1467337337338,
          905.1931171171171,
          907.2395005005005,
          909.2858838838839,
          911.3322672672673,
          913.3786506506507,
          915.4250340340341,
          917.4714174174175,
          919.5178008008008,
          921.5641841841842,
          923.6105675675676,
          925.656950950951,
          927.7033343343344,
          929.7497177177178,
          931.7961011011012,
          933.8424844844845,
          935.8888678678679,
          937.9352512512513,
          939.9816346346347,
          942.0280180180181,
          944.0744014014015,
          946.1207847847849,
          948.1671681681681,
          950.2135515515515,
          952.2599349349349,
          954.3063183183183,
          956.3527017017017,
          958.3990850850851,
          960.4454684684684,
          962.4918518518518,
          964.5382352352352,
          966.5846186186186,
          968.631002002002,
          970.6773853853854,
          972.7237687687688,
          974.7701521521521,
          976.8165355355355,
          978.8629189189189,
          980.9093023023023,
          982.9556856856857,
          985.0020690690691,
          987.0484524524525,
          989.0948358358359,
          991.1412192192192,
          993.1876026026026,
          995.233985985986,
          997.2803693693694,
          999.3267527527528,
          1001.3731361361362,
          1003.4195195195196,
          1005.4659029029029,
          1007.5122862862863,
          1009.5586696696697,
          1011.6050530530531,
          1013.6514364364365,
          1015.6978198198199,
          1017.7442032032033,
          1019.7905865865866,
          1021.83696996997,
          1023.8833533533534,
          1025.9297367367367,
          1027.9761201201202,
          1030.0225035035035,
          1032.068886886887,
          1034.1152702702702,
          1036.1616536536535,
          1038.208037037037,
          1040.2544204204203,
          1042.3008038038038,
          1044.347187187187,
          1046.3935705705705,
          1048.4399539539538,
          1050.4863373373373,
          1052.5327207207206,
          1054.579104104104,
          1056.6254874874874,
          1058.6718708708709,
          1060.7182542542541,
          1062.7646376376376,
          1064.811021021021,
          1066.8574044044044,
          1068.9037877877877,
          1070.9501711711712,
          1072.9965545545545,
          1075.042937937938,
          1077.0893213213212,
          1079.1357047047047,
          1081.182088088088,
          1083.2284714714715,
          1085.2748548548548,
          1087.3212382382383,
          1089.3676216216215,
          1091.414005005005,
          1093.4603883883883,
          1095.5067717717718,
          1097.553155155155,
          1099.5995385385386,
          1101.6459219219219,
          1103.6923053053054,
          1105.7386886886886,
          1107.7850720720721,
          1109.8314554554554,
          1111.877838838839,
          1113.9242222222222,
          1115.9706056056057,
          1118.016988988989,
          1120.0633723723724,
          1122.1097557557557,
          1124.156139139139,
          1126.2025225225225,
          1128.2489059059058,
          1130.2952892892893,
          1132.3416726726725,
          1134.388056056056,
          1136.4344394394393,
          1138.4808228228228,
          1140.527206206206,
          1142.5735895895896,
          1144.6199729729728,
          1146.6663563563563,
          1148.7127397397396,
          1150.7591231231231,
          1152.8055065065064,
          1154.85188988989,
          1156.8982732732732,
          1158.9446566566567,
          1160.99104004004,
          1163.0374234234234,
          1165.0838068068067,
          1167.1301901901902,
          1169.1765735735735,
          1171.222956956957,
          1173.2693403403402,
          1175.3157237237237,
          1177.362107107107,
          1179.4084904904905,
          1181.4548738738738,
          1183.5012572572573,
          1185.5476406406406,
          1187.594024024024,
          1189.6404074074073,
          1191.6867907907908,
          1193.733174174174,
          1195.7795575575576,
          1197.8259409409409,
          1199.8723243243244,
          1201.9187077077077,
          1203.9650910910912,
          1206.0114744744744,
          1208.057857857858,
          1210.1042412412412,
          1212.1506246246245,
          1214.197008008008,
          1216.2433913913912,
          1218.2897747747747,
          1220.336158158158,
          1222.3825415415415,
          1224.4289249249248,
          1226.4753083083083,
          1228.5216916916916,
          1230.568075075075,
          1232.6144584584583,
          1234.6608418418418,
          1236.707225225225,
          1238.7536086086086,
          1240.7999919919919,
          1242.8463753753754,
          1244.8927587587586,
          1246.9391421421421,
          1248.9855255255254,
          1251.031908908909,
          1253.0782922922922,
          1255.1246756756755,
          1257.171059059059,
          1259.2174424424422,
          1261.2638258258257,
          1263.310209209209,
          1265.3565925925925,
          1267.4029759759758,
          1269.4493593593593,
          1271.4957427427426,
          1273.542126126126,
          1275.5885095095093,
          1277.6348928928928,
          1279.681276276276,
          1281.7276596596596,
          1283.7740430430429,
          1285.8204264264264,
          1287.8668098098096,
          1289.9131931931931,
          1291.9595765765764,
          1294.00595995996,
          1296.0523433433432,
          1298.0987267267267,
          1300.14511011011,
          1302.1914934934935,
          1304.2378768768767,
          1306.2842602602602,
          1308.3306436436435,
          1310.377027027027,
          1312.4234104104103,
          1314.4697937937938,
          1316.516177177177,
          1318.5625605605605,
          1320.6089439439438,
          1322.6553273273273,
          1324.7017107107106,
          1326.748094094094,
          1328.7944774774774,
          1330.8408608608609,
          1332.8872442442441,
          1334.9336276276276,
          1336.980011011011,
          1339.0263943943944,
          1341.0727777777777,
          1343.119161161161,
          1345.1655445445444,
          1347.2119279279277,
          1349.2583113113112,
          1351.3046946946945,
          1353.351078078078,
          1355.3974614614613,
          1357.4438448448448,
          1359.490228228228,
          1361.5366116116115,
          1363.5829949949948,
          1365.6293783783783,
          1367.6757617617616,
          1369.722145145145,
          1371.7685285285283,
          1373.8149119119118,
          1375.8612952952951,
          1377.9076786786786,
          1379.954062062062,
          1382.0004454454454,
          1384.0468288288287,
          1386.0932122122122,
          1388.1395955955954,
          1390.185978978979,
          1392.2323623623622,
          1394.2787457457457,
          1396.325129129129,
          1398.3715125125125,
          1400.4178958958958,
          1402.4642792792793,
          1404.5106626626625,
          1406.557046046046,
          1408.6034294294293,
          1410.6498128128128,
          1412.696196196196,
          1414.7425795795796,
          1416.7889629629628,
          1418.8353463463463,
          1420.8817297297296,
          1422.928113113113,
          1424.9744964964964,
          1427.0208798798799,
          1429.0672632632632,
          1431.1136466466464,
          1433.16003003003,
          1435.2064134134132,
          1437.2527967967967,
          1439.29918018018,
          1441.3455635635635,
          1443.3919469469467,
          1445.4383303303302,
          1447.4847137137135,
          1449.531097097097,
          1451.5774804804803,
          1453.6238638638638,
          1455.670247247247,
          1457.7166306306306,
          1459.7630140140138,
          1461.8093973973973,
          1463.8557807807806,
          1465.902164164164,
          1467.9485475475474,
          1469.9949309309309,
          1472.0413143143141,
          1474.0876976976976,
          1476.134081081081,
          1478.1804644644644,
          1480.2268478478477,
          1482.2732312312312,
          1484.3196146146145,
          1486.365997997998,
          1488.4123813813812,
          1490.4587647647647,
          1492.505148148148,
          1494.5515315315315,
          1496.5979149149148,
          1498.6442982982983,
          1500.6906816816816,
          1502.737065065065,
          1504.7834484484483,
          1506.8298318318318,
          1508.876215215215,
          1510.9225985985986,
          1512.9689819819819,
          1515.0153653653651,
          1517.0617487487486,
          1519.108132132132,
          1521.1545155155154,
          1523.2008988988987,
          1525.2472822822822,
          1527.2936656656655,
          1529.340049049049,
          1531.3864324324322,
          1533.4328158158157,
          1535.479199199199,
          1537.5255825825825,
          1539.5719659659658,
          1541.6183493493493,
          1543.6647327327325,
          1545.711116116116,
          1547.7574994994993,
          1549.8038828828828,
          1551.850266266266,
          1553.8966496496496,
          1555.9430330330329,
          1557.9894164164164,
          1560.0357997997996,
          1562.0821831831831,
          1564.1285665665664,
          1566.17494994995,
          1568.2213333333332,
          1570.2677167167167,
          1572.3141001001,
          1574.3604834834834,
          1576.4068668668667,
          1578.4532502502502,
          1580.4996336336335,
          1582.546017017017,
          1584.5924004004003,
          1586.6387837837838,
          1588.685167167167,
          1590.7315505505505,
          1592.7779339339338,
          1594.8243173173173,
          1596.8707007007006,
          1598.917084084084,
          1600.9634674674674,
          1603.0098508508506,
          1605.0562342342341,
          1607.1026176176174,
          1609.149001001001,
          1611.1953843843842,
          1613.2417677677677,
          1615.288151151151,
          1617.3345345345344,
          1619.3809179179177,
          1621.4273013013012,
          1623.4736846846845,
          1625.520068068068,
          1627.5664514514513,
          1629.6128348348348,
          1631.659218218218,
          1633.7056016016015,
          1635.7519849849848,
          1637.7983683683683,
          1639.8447517517516,
          1641.891135135135,
          1643.9375185185183,
          1645.9839019019018,
          1648.0302852852851,
          1650.0766686686686,
          1652.123052052052,
          1654.1694354354354,
          1656.2158188188187,
          1658.2622022022022,
          1660.3085855855854,
          1662.354968968969,
          1664.4013523523522,
          1666.4477357357357,
          1668.494119119119,
          1670.5405025025025,
          1672.5868858858857,
          1674.6332692692692,
          1676.6796526526525,
          1678.726036036036,
          1680.7724194194193,
          1682.8188028028028,
          1684.865186186186,
          1686.9115695695696,
          1688.9579529529528,
          1691.004336336336,
          1693.0507197197196,
          1695.0971031031029,
          1697.1434864864864,
          1699.1898698698697,
          1701.2362532532532,
          1703.2826366366364,
          1705.32902002002,
          1707.3754034034032,
          1709.4217867867867,
          1711.46817017017,
          1713.5145535535535,
          1715.5609369369367,
          1717.6073203203202,
          1719.6537037037035,
          1721.700087087087,
          1723.7464704704703,
          1725.7928538538538,
          1727.839237237237,
          1729.8856206206206,
          1731.9320040040038,
          1733.9783873873873,
          1736.0247707707706,
          1738.071154154154,
          1740.1175375375374,
          1742.1639209209209,
          1744.2103043043041,
          1746.2566876876876,
          1748.303071071071,
          1750.3494544544544,
          1752.3958378378377,
          1754.4422212212212,
          1756.4886046046045,
          1758.534987987988,
          1760.5813713713712,
          1762.6277547547547,
          1764.674138138138,
          1766.7205215215215,
          1768.7669049049048,
          1770.8132882882883,
          1772.8596716716715,
          1774.906055055055,
          1776.9524384384383,
          1778.9988218218216,
          1781.045205205205,
          1783.0915885885884,
          1785.1379719719719,
          1787.1843553553551,
          1789.2307387387386,
          1791.277122122122,
          1793.3235055055054,
          1795.3698888888887,
          1797.4162722722722,
          1799.4626556556555,
          1801.509039039039,
          1803.5554224224222,
          1805.6018058058057,
          1807.648189189189,
          1809.6945725725725,
          1811.7409559559558,
          1813.7873393393393,
          1815.8337227227225,
          1817.880106106106,
          1819.9264894894893,
          1821.9728728728728,
          1824.019256256256,
          1826.0656396396396,
          1828.1120230230229,
          1830.1584064064064,
          1832.2047897897896,
          1834.2511731731731,
          1836.2975565565564,
          1838.34393993994,
          1840.3903233233232,
          1842.4367067067067,
          1844.48309009009,
          1846.5294734734734,
          1848.5758568568567,
          1850.6222402402402,
          1852.6686236236235,
          1854.715007007007,
          1856.7613903903903,
          1858.8077737737738,
          1860.854157157157,
          1862.9005405405405,
          1864.9469239239238,
          1866.993307307307,
          1869.0396906906906,
          1871.0860740740738,
          1873.1324574574573,
          1875.1788408408406,
          1877.2252242242241,
          1879.2716076076074,
          1881.317990990991,
          1883.3643743743742,
          1885.4107577577577,
          1887.457141141141,
          1889.5035245245244,
          1891.5499079079077,
          1893.5962912912912,
          1895.6426746746745,
          1897.689058058058,
          1899.7354414414413,
          1901.7818248248248,
          1903.828208208208,
          1905.8745915915915,
          1907.9209749749748,
          1909.9673583583583,
          1912.0137417417416,
          1914.060125125125,
          1916.1065085085083,
          1918.1528918918918,
          1920.199275275275,
          1922.2456586586586,
          1924.2920420420419,
          1926.3384254254254,
          1928.3848088088087,
          1930.4311921921922,
          1932.4775755755754,
          1934.523958958959,
          1936.5703423423422,
          1938.6167257257257,
          1940.663109109109,
          1942.7094924924925,
          1944.7558758758757,
          1946.8022592592592,
          1948.8486426426425,
          1950.895026026026,
          1952.9414094094093,
          1954.9877927927926,
          1957.034176176176,
          1959.0805595595593,
          1961.1269429429428,
          1963.173326326326,
          1965.2197097097096,
          1967.2660930930929,
          1969.3124764764764,
          1971.3588598598596,
          1973.4052432432431,
          1975.4516266266264,
          1977.49801001001,
          1979.5443933933932,
          1981.5907767767767,
          1983.63716016016,
          1985.6835435435435,
          1987.7299269269267,
          1989.7763103103102,
          1991.8226936936935,
          1993.869077077077,
          1995.9154604604603,
          1997.9618438438438,
          2000.008227227227,
          2002.0546106106106,
          2004.1009939939938,
          2006.1473773773773,
          2008.1937607607606,
          2010.240144144144,
          2012.2865275275274,
          2014.3329109109109,
          2016.3792942942941,
          2018.4256776776776,
          2020.472061061061,
          2022.5184444444444,
          2024.5648278278277,
          2026.6112112112112,
          2028.6575945945945,
          2030.703977977978,
          2032.7503613613612,
          2034.7967447447447,
          2036.843128128128,
          2038.8895115115115,
          2040.9358948948948,
          2042.982278278278,
          2045.0286616616615,
          2047.0750450450448,
          2049.1214284284283,
          2051.1678118118116,
          2053.2141951951953,
          2055.2605785785786,
          2057.306961961962,
          2059.353345345345,
          2061.399728728729,
          2063.446112112112,
          2065.4924954954954,
          2067.5388788788787,
          2069.5852622622624,
          2071.6316456456457,
          2073.678029029029,
          2075.724412412412,
          2077.770795795796,
          2079.817179179179,
          2081.8635625625625,
          2083.9099459459458,
          2085.9563293293295,
          2088.0027127127128,
          2090.049096096096,
          2092.0954794794793,
          2094.141862862863,
          2096.1882462462463,
          2098.2346296296296,
          2100.281013013013,
          2102.3273963963966,
          2104.37377977978,
          2106.420163163163,
          2108.4665465465464,
          2110.51292992993,
          2112.5593133133134,
          2114.6056966966967,
          2116.65208008008,
          2118.6984634634637,
          2120.744846846847,
          2122.79123023023,
          2124.8376136136135,
          2126.8839969969968,
          2128.9303803803805,
          2130.9767637637638,
          2133.023147147147,
          2135.0695305305303,
          2137.115913913914,
          2139.1622972972973,
          2141.2086806806806,
          2143.255064064064,
          2145.3014474474476,
          2147.347830830831,
          2149.394214214214,
          2151.4405975975974,
          2153.486980980981,
          2155.5333643643644,
          2157.5797477477477,
          2159.626131131131,
          2161.6725145145147,
          2163.718897897898,
          2165.765281281281,
          2167.8116646646645,
          2169.858048048048,
          2171.9044314314315,
          2173.9508148148147,
          2175.997198198198,
          2178.0435815815817,
          2180.089964964965,
          2182.1363483483483,
          2184.1827317317316,
          2186.2291151151153,
          2188.2754984984986,
          2190.321881881882,
          2192.368265265265,
          2194.414648648649,
          2196.461032032032,
          2198.5074154154154,
          2200.5537987987987,
          2202.6001821821824,
          2204.6465655655657,
          2206.692948948949,
          2208.739332332332,
          2210.785715715716,
          2212.832099099099,
          2214.8784824824825,
          2216.9248658658657,
          2218.971249249249,
          2221.0176326326327,
          2223.064016016016,
          2225.1103993993993,
          2227.1567827827826,
          2229.2031661661663,
          2231.2495495495496,
          2233.295932932933,
          2235.342316316316,
          2237.3886996997,
          2239.435083083083,
          2241.4814664664664,
          2243.5278498498496,
          2245.5742332332334,
          2247.6206166166166,
          2249.667
         ],
         "y": [
          0.00019016550309133417,
          0.0001915951497457279,
          0.00019301123803942586,
          0.0001944136347986247,
          0.00019580222608352407,
          0.0001971769175971759,
          0.000198537635078924,
          0.00019988432468179705,
          0.00020121695333323242,
          0.00020253550907852114,
          0.00020384000140638187,
          0.00020513046155609002,
          0.00020640694280560183,
          0.00020766952074013646,
          0.00020891829350069808,
          0.00021015338201203757,
          0.00021137493018957978,
          0.00021258310512486107,
          0.00021377809724904814,
          0.00021496012047413115,
          0.00021612941231140953,
          0.00021728623396691582,
          0.00021843087041344809,
          0.00021956363043890937,
          0.00022068484667067892,
          0.00022179487557577124,
          0.00022289409743656423,
          0.00022398291630190852,
          0.00022506175991346373,
          0.0002261310796071307,
          0.00022719135018948368,
          0.00022824306978913968,
          0.00022928675968302765,
          0.00023032296409755684,
          0.00023135224998471304,
          0.00023237520677314404,
          0.0002333924460943268,
          0.00023440460148394426,
          0.00023541232805862608,
          0.00023641630216824543,
          0.0002374172210239923,
          0.0002384158023024771,
          0.00023941278372615016,
          0.00024040892262035276,
          0.00024140499544734846,
          0.0002424017973177108,
          0.0002434001414794808,
          0.00024440085878552786,
          0.00024540479713958395,
          0.00024641282092145137,
          0.0002474258103919033,
          0.00024844466107783604,
          0.00024947028313824935,
          0.00025050360071166244,
          0.00025154555124559755,
          0.0002525970848087882,
          0.0002536591633867901,
          0.000254732760161702,
          0.00025581885877671884,
          0.0002569184525862652,
          0.0002580325438924751,
          0.00025916214316880554,
          0.0002603082682715851,
          0.00026147194364032055,
          0.00026265419948759747,
          0.0002638560709794252,
          0.0002650785974068931,
          0.00026632282135001295,
          0.0002675897878346374,
          0.00026888054348335173,
          0.00027019613566124607,
          0.0002715376116174842,
          0.00027290601762358446,
          0.0002743023981093429,
          0.0002757277947973268,
          0.0002771832458368658,
          0.00027866978493847636,
          0.0002801884405096527,
          0.0002817402347929474,
          0.00028332618300727766,
          0.0002849472924933731,
          0.00028660456186428696,
          0.0002882989801618798,
          0.00029003152602017853,
          0.00029180316683650336,
          0.0002936148579512499,
          0.0002954675418371921,
          0.0002973621472991677,
          0.0002992995886849911,
          0.0003012807651084215,
          0.00030330655968499994,
          0.0003053778387815502,
          0.0003074954512801218,
          0.00030966022785713254,
          0.0003118729802784457,
          0.00031413450071110147,
          0.0003164455610523916,
          0.00031880691227695123,
          0.00032121928380251104,
          0.0003236833828749319,
          0.0003261998939731183,
          0.0003287694782343766,
          0.0003313927729007636,
          0.0003340703907869359,
          0.00033680291976999067,
          0.00033959092230174563,
          0.0003424349349438976,
          0.000345335467926448,
          0.0003482930047297649,
          0.000351308001690621,
          0.00035438088763251014,
          0.0003575120635205179,
          0.0003607019021409894,
          0.0003639507478062074,
          0.0003672589160842557,
          0.0003706266935542231,
          0.00037405433758685785,
          0.0003775420761507602,
          0.00038109010764416506,
          0.00038469860075233774,
          0.00038836769433056746,
          0.00039209749731272653,
          0.0003958880886453127,
          0.00039973951724687904,
          0.00040365180199271506,
          0.0004076249317246182,
          0.0004116588652855608,
          0.00041575353157903355,
          0.00041990882965281344,
          0.00042412462880688076,
          0.00042840076872517884,
          0.00043273705963088464,
          0.00043713328246483297,
          0.0004415891890867113,
          0.0004461045024986158,
          0.000450678917090542,
          0.00045531209890734703,
          0.00046000368593671396,
          0.00046475328841761687,
          0.00046956048916876506,
          0.000474424843936494,
          0.00047934588176153613,
          0.00048432310536410475,
          0.0004893559915466929,
          0.0004944439916139793,
          0.0004995865318092169,
          0.0005047830137664714,
          0.0005100328149780462,
          0.0005153352892764451,
          0.0005206897673301854,
          0.0005260955571527838,
          0.0005315519446242202,
          0.0005370581940241682,
          0.0005426135485762998,
          0.000548217231002929,
          0.0005538684440892853,
          0.0005595663712566897,
          0.0005653101771438992,
          0.0005710990081958936,
          0.0005769319932593715,
          0.0005828082441842193,
          0.000588726856430223,
          0.0005946869096782946,
          0.0006006874684454748,
          0.0006067275827030009,
          0.0006128062884967045,
          0.0006189226085690345,
          0.0006250755529819823,
          0.0006312641197402247,
          0.0006374872954137637,
          0.0006437440557593977,
          0.0006500333663403338,
          0.0006563541831432699,
          0.0006627054531923051,
          0.0006690861151590029,
          0.0006754950999680048,
          0.0006819313313975437,
          0.0006883937266742702,
          0.0006948811970617755,
          0.0007013926484422516,
          0.0007079269818907054,
          0.0007144830942411878,
          0.0007210598786444959,
          0.0007276562251168372,
          0.0007342710210789535,
          0.000740903151885215,
          0.0007475515013422334,
          0.0007542149522165346,
          0.0007608923867308665,
          0.0007675826870487401,
          0.0007742847357468019,
          0.0007809974162746799,
          0.0007877196134019466,
          0.0007944502136518691,
          0.0008011881057216417,
          0.0008079321808888092,
          0.0008146813334036147,
          0.000821434460867022,
          0.000828190464594196,
          0.0008349482499632291,
          0.0008417067267489281,
          0.0008484648094415197,
          0.0008552214175501061,
          0.0008619754758907839,
          0.0008687259148593026,
          0.0008754716706882128,
          0.0008822116856884321,
          0.0008889449084752123,
          0.0008956702941784866,
          0.0009023868046376221,
          0.0009090934085806008,
          0.000915789081787691,
          0.000922472807239679,
          0.0009291435752507705,
          0.0009358003835862704,
          0.0009424422375651797,
          0.0009490681501478841,
          0.0009556771420090963,
          0.0009622682415962669,
          0.0009688404851736799,
          0.0009753929168524767,
          0.000981924588606861,
          0.0009884345602767795,
          0.0009949218995573565,
          0.001001385681975425,
          0.0010078249908534625,
          0.0010142389172613077,
          0.0010206265599560147,
          0.0010269870253102416,
          0.0010333194272295707,
          0.001039622887059186,
          0.0010458965334803469,
          0.0010521395023971043,
          0.001058350936813728,
          0.0010645299867033313,
          0.0010706758088681835,
          0.0010767875667922159,
          0.0010828644304862534,
          0.0010889055763264907,
          0.0010949101868867703,
          0.0011008774507652078,
          0.0011068065624057352,
          0.0011126967219151432,
          0.001118547134876188,
          0.0011243570121573824,
          0.0011301255697200325,
          0.0011358520284231752,
          0.0011415356138269786,
          0.0011471755559952549,
          0.0011527710892977004,
          0.0011583214522124677,
          0.0011638258871297339,
          0.0011692836401568467,
          0.0011746939609257286,
          0.0011800561024031177,
          0.0011853693207043146,
          0.00119063287491103,
          0.0011958460268939835,
          0.0012010080411408457,
          0.0012061181845901558,
          0.0012111757264718168,
          0.0012161799381547665,
          0.0012211300930024271,
          0.0012260254662364975,
          0.0012308653348096896,
          0.0012356489772879491,
          0.0012403756737427204,
          0.0012450447056537965,
          0.0012496553558232724,
          0.0012542069083011152,
          0.001258698648322834,
          0.001263129862259743,
          0.0012674998375822553,
          0.0012718078628366604,
          0.0012760532276357899,
          0.0012802352226639836,
          0.001284353139696719,
          0.0012884062716352566,
          0.001292393912556638,
          0.0012963153577793271,
          0.0013001699039447811,
          0.0013039568491152005,
          0.0013076754928876718,
          0.0013113251365249184,
          0.0013149050831027986,
          0.0013184146376747164,
          0.0013218531074530304,
          0.0013252198020075425,
          0.0013285140334811155,
          0.0013317351168224295,
          0.0013348823700358484,
          0.0013379551144483595,
          0.0013409526749934859,
          0.001343874380512051,
          0.0013467195640696646,
          0.0013494875632907028,
          0.0013521777207085922,
          0.0013547893841321366,
          0.0013573219070275718,
          0.0013597746489160544,
          0.0013621469757861997,
          0.0013644382605212972,
          0.0013666478833407457,
          0.0013687752322552758,
          0.0013708197035354503,
          0.0013727807021929087,
          0.0013746576424738131,
          0.0013764499483638773,
          0.0013781570541043888,
          0.001379778404718535,
          0.0013813134565473701,
          0.0013827616777947064,
          0.00138412254908019,
          0.0013853955639997753,
          0.001386580229692837,
          0.001387676067415069,
          0.0013886826131163388,
          0.0013895994180226413,
          0.0013904260492212462,
          0.0013911620902481475,
          0.001391807141676878,
          0.001392360821707757,
          0.0013928227667566035,
          0.0013931926320419471,
          0.0013934700921697492,
          0.0013936548417146466,
          0.0013937465957966954,
          0.0013937450906526283,
          0.0013936500842005764,
          0.0013934613565972688,
          0.001393178710786655,
          0.001392801973038948,
          0.0013923309934790564,
          0.0013917656466033814,
          0.001391105831783989,
          0.0013903514737591276,
          0.001389502523109099,
          0.001388558956716521,
          0.001387520778209974,
          0.0013863880183901149,
          0.0013851607356372795,
          0.0013838390162996944,
          0.0013824229750613623,
          0.0013809127552887736,
          0.0013793085293555708,
          0.0013776104989443635,
          0.0013758188953248707,
          0.0013739339796076454,
          0.0013719560429726366,
          0.0013698854068718844,
          0.001367722423205692,
          0.0013654674744716263,
          0.0013631209738857737,
          0.0013606833654756835,
          0.001358155124144486,
          0.0013555367557057266,
          0.0013528287968884705,
          0.0013500318153123149,
          0.0013471464094319417,
          0.0013441732084509533,
          0.0013411128722047112,
          0.0013379660910120149,
          0.0013347335854954343,
          0.0013314161063702373,
          0.0013280144342018303,
          0.0013245293791317296,
          0.0013209617805721113,
          0.001317312506869039,
          0.001313582454934533,
          0.0013097725498476672,
          0.0013058837444249656,
          0.0013019170187604043,
          0.001297873379735357,
          0.0012937538604989168,
          0.001289559519919029,
          0.0012852914420049598,
          0.001280950735301633,
          0.0012765385322564618,
          0.001272055988559305,
          0.0012675042824562494,
          0.0012628846140379638,
          0.0012581982045033978,
          0.0012534462953996582,
          0.0012486301478389318,
          0.0012437510416933558,
          0.001238810274768781,
          0.0012338091619584271,
          0.0012287490343774131,
          0.0012236312384792556,
          0.0012184571351553798,
          0.001213228098818786,
          0.001207945516472988,
          0.0012026107867674043,
          0.0011972253190403832,
          0.0011917905323510886,
          0.001186307854501455,
          0.0011807787210494842,
          0.0011752045743151293,
          0.001169586862380058,
          0.0011639270380825806,
          0.0011582265580090275,
          0.0011524868814829043,
          0.0011467094695531053,
          0.0011408957839825205,
          0.0011350472862383196,
          0.0011291654364852456,
          0.001123251692583193,
          0.001117307509090384,
          0.0011113343362734228,
          0.0011053336191254853,
          0.0010993067963939204,
          0.001093255299618495,
          0.0010871805521815083,
          0.0010810839683709683,
          0.0010749669524580305,
          0.001068830897789824,
          0.0010626771858988258,
          0.0010565071856298508,
          0.0010503222522857535,
          0.0010441237267928523,
          0.001037912934887106,
          0.001031691186321981,
          0.0010254597740989677,
          0.001019219973721608,
          0.0010129730424739115,
          0.001006720218723947,
          0.0010004627212533994,
          0.000994201748613785,
          0.0009879384785100426,
          0.0009816740672120873,
          0.000975409648994962,
          0.0009691463356080721,
          0.0009628852157740463,
          0.0009566273547176223,
          0.0009503737937249744,
          0.0009441255497338135,
          0.0009378836149545633,
          0.0009316489565228426,
          0.0009254225161834569,
          0.0009192052100060298,
          0.0009129979281323887,
          0.0009068015345557156,
          0.000900616866931487,
          0.0008944447364201233,
          0.0008882859275612607,
          0.0008821411981794782,
          0.0008760112793212906,
          0.0008698968752231502,
          0.0008637986633101812,
          0.0008577172942252846,
          0.000851653391888255,
          0.0008456075535844742,
          0.000839580350082713,
          0.0008335723257815468,
          0.0008275839988838176,
          0.0008216158615985912,
          0.0008156683803699522,
          0.0008097419961320139,
          0.000803837124589433,
          0.0007979541565227266,
          0.0007920934581176192,
          0.0007862553713176652,
          0.0007804402141993205,
          0.0007746482813686444,
          0.0007688798443787711,
          0.0007631351521672767,
          0.0007574144315125462,
          0.0007517178875082234,
          0.000746045704054814,
          0.0007403980443675055,
          0.0007347750514992233,
          0.0007291768488779921,
          0.0007236035408575849,
          0.0007180552132805059,
          0.0007125319340523056,
          0.0007070337537262341,
          0.0007015607060972464,
          0.0006961128088043602,
          0.0006906900639403695,
          0.0006852924586679438,
          0.0006799199658411066,
          0.0006745725446311317,
          0.0006692501411558896,
          0.000663952689111685,
          0.0006586801104066252,
          0.0006534323157946253,
          0.0006482092055090799,
          0.0006430106698953517,
          0.0006378365900411499,
          0.0006326868384039609,
          0.0006275612794346742,
          0.0006224597701965768,
          0.0006173821609789111,
          0.0006123282959042321,
          0.0006072980135287878,
          0.000602291147435198,
          0.00059730752681674,
          0.0005923469770525367,
          0.0005874093202730196,
          0.0005824943759150324,
          0.0005776019612659757,
          0.0005727318919964422,
          0.0005678839826807851,
          0.0005630580473051293,
          0.0005582538997623496,
          0.00055347135433355,
          0.0005487102261556526,
          0.0005439703316746984,
          0.0005392514890845076,
          0.0005345535187503712,
          0.0005298762436174989,
          0.0005252194896039342,
          0.000520583085977729,
          0.0005159668657181634,
          0.0005113706658608383,
          0.0005067943278265098,
          0.000502237697733533,
          0.0004977006266938506,
          0.0004931829710924573,
          0.000488684592850315,
          0.000484205359670712,
          0.0004797451452691074,
          0.00047530382958648344,
          0.00047088129898630835,
          0.0004664774464351925,
          0.00046209217166736863,
          0.0004577253813331382,
          0.0004533769891314581,
          0.00044904691592684455,
          0.0004447350898508248,
          0.0004404414463881408,
          0.0004361659284479716,
          0.00043190848642042916,
          0.00042766907821861934,
          0.00042344766930654446,
          0.0004192442327131952,
          0.00041505874903311575,
          0.0004108912064138209,
          0.00040674160053038677,
          0.0004026099345475923,
          0.0003984962190699817,
          0.00039440047208022777,
          0.0003903227188661792,
          0.00038626299193700867,
          0.0003822213309288364,
          0.0003781977825002621,
          0.0003741924002182094,
          0.00037020524443449583,
          0.0003662363821535546,
          0.00036228588689172977,
          0.0003583538385285596,
          0.0003544403231504881,
          0.00035054543288740676,
          0.0003466692657424681,
          0.0003428119254155777,
          0.0003389735211209908,
          0.0003351541673994228,
          0.0003313539839250867,
          0.0003275730953080639,
          0.00032381163089240805,
          0.00032006972455038126,
          0.00031634751447320023,
          0.00031264514295870007,
          0.0003089627561962584,
          0.0003053005040493762,
          0.00030165853983625903,
          0.0002980370201087587,
          0.00029443610443000953,
          0.0002908559551511082,
          0.0002872967371871418,
          0.00028375861779289746,
          0.0002802417663385472,
          0.0002767463540856082,
          0.0002732725539634605,
          0.0002698205403467023,
          0.0002663904888335936,
          0.0002629825760258618,
          0.00025959697931009104,
          0.00025623387664094167,
          0.00025289344632641324,
          0.00024957586681536605,
          0.0002462813164874949,
          0.00024300997344595351,
          0.00023976201531279178,
          0.00023653761902739568,
          0.0002333369606480629,
          0.00023016021515688006,
          0.000227007556268026,
          0.00022387915623963686,
          0.00022077518568933577,
          0.00021769581341355448,
          0.0002146412062107223,
          0.00021161152870842587,
          0.0002086069431946126,
          0.0002056276094529077,
          0.0002026736846021083,
          0.00019974532293990784,
          0.0001968426757908902,
          0.000193965891358844,
          0.00019111511458341004,
          0.00018829048700109657,
          0.00018549214661067734,
          0.00018272022774297195,
          0.00017997486093502207,
          0.0001772561728086542,
          0.00017456428595342103,
          0.0001718993188139054,
          0.00016926138558137174,
          0.00016665059608973016,
          0.0001640670557157986,
          0.0001615108652838135,
          0.00015898212097416428,
          0.00015648091423630203,
          0.0001540073317057827,
          0.0001515614551253937,
          0.00014914336127031658,
          0.00014675312187726616,
          0.00014439080357756223,
          0.00014205646783406193,
          0.00013975017088190502,
          0.00013747196367300553,
          0.00013522189182422982,
          0.000132999995569194,
          0.00013080630971362516,
          0.00012864086359421119,
          0.00012650368104088206,
          0.0001243947803424544,
          0.00012231417421557442,
          0.00012026186977689381,
          0.00011823786851841707,
          0.00011624216628594812,
          0.00011427475326058646,
          0.00011233561394319541,
          0.00011042472714179166,
          0.00010854206596179179,
          0.00010668759779905593,
          0.00010486128433567279,
          0.00010306308153843022,
          0.00010129293965991137,
          0.000099550803242174,
          0.0000978366111229492,
          0.00009615029644431943,
          0.00009449178666382588,
          0.00009286100356795598,
          0.000091257863287973,
          0.00008968227631804189,
          0.00008813414753561524,
          0.0000866133762240366,
          0.0000851198560973343,
          0.00008365347532716228,
          0.00008221411657186533,
          0.00008080165700763433,
          0.00007941596836172684,
          0.00007805691694772657,
          0.00007672436370282059,
          0.00007541816422706927,
          0.0000741381688246559,
          0.00007288422254709208,
          0.00007165616523836778,
          0.0000704538315820309,
          0.00006927705115018409,
          0.00006812564845438832,
          0.00006699944299846566,
          0.00006589824933319024,
          0.00006482187711286745,
          0.00006377013115378908,
          0.00006274281149456732,
          0.00006173971345834084,
          0.00006076062771685443,
          0.000059805340356407616,
          0.000058873632945678376,
          0.000057965282605415304,
          0.00005708006208000756,
          0.00005621773981092683,
          0.000055378080012049473,
          0.000054560842746857494,
          0.000053765784007523186,
          0.00005299265579587684,
          0.00005224120620626439,
          0.00005151117951029179,
          0.000050802316243461986,
          0.000050114353293703186,
          0.00004944702399178973,
          0.00004880005820365548,
          0.00004817318242459793,
          0.000047566119875371604,
          0.00004697859060016706,
          0.00004641031156647151,
          0.000045860996766803914,
          0.000045330357322320246,
          0.000044818101588276084,
          0.000044323935261339846,
          0.00004384756148874187,
          0.000043388680979246725,
          0.00004294699211593169,
          0.000042522191070754274,
          0.00004211397192088703,
          0.00004172202676679927,
          0.00004134604585205854,
          0.00004098571768482621,
          0.00004064072916101687,
          0.00004031076568908959,
          0.00003999551131643516,
          0.00003969464885732385,
          0.000039407860022370896,
          0.000039134825549478945,
          0.00003887522533621019,
          0.00003862873857354044,
          0.000038395043880942826,
          0.000038173819442747736,
          0.000037964743145720306,
          0.00003776749271779682,
          0.00003758174586791528,
          0.00003740718042687522,
          0.00003724347448915706,
          0.00003709030655562928,
          0.00003694735567706863,
          0.00003681430159841562,
          0.00003669082490368461,
          0.00003657660716144576,
          0.00003647133107079194,
          0.00003637468060770269,
          0.00003628634117171346,
          0.00003620599973279617,
          0.00003613334497835498,
          0.00003606806746023833,
          0.000036009859741666037,
          0.00003595841654396818,
          0.00003591343489303045,
          0.000035874614265338236,
          0.000035841656733510094,
          0.000035814267111209446,
          0.00003579215309732161,
          0.000035775025419281516,
          0.00003576259797543656,
          0.00003575458797632703,
          0.00003575071608476606,
          0.000035750706554599694,
          0.00003575428736802686,
          0.00003576119037135819,
          0.00003577115140909256,
          0.00003578391045618924,
          0.00003579921174841361,
          0.00003581680391063426,
          0.00003583644008294956,
          0.00003585787804452167,
          0.00003588088033499691,
          0.00003590521437339123,
          0.00003593065257432142,
          0.00003595697246146256,
          0.00003598395677811387,
          0.000036011393594756455,
          0.000036039076413487664,
          0.000036066804269218495,
          0.000036094381827522545,
          0.000036121619479026434,
          0.00003614833343023434,
          0.00003617434579068122,
          0.00003619948465631208,
          0.0000362235841889868,
          0.00003624648469201335,
          0.00003626803268161496,
          0.000036288080954239645,
          0.00003630648864962427,
          0.00003632312130952822,
          0.00003633785093205546,
          0.00003635055602148754,
          0.00003636112163355375,
          0.00003636943941606835,
          0.00003637540764486941,
          0.0000363789312549971,
          0.00003637992186705429,
          0.000036378297808696184,
          0.000036373984131200285,
          0.00003636691262107248,
          0.00003635702180664975,
          0.00003634425695966447,
          0.000036328570091740215,
          0.00003630991994579361,
          0.00003628827198232176,
          0.00003626359836055957,
          0.00003623587791449638,
          0.00003620509612374589,
          0.00003617124507926908,
          0.000036134323443953936,
          0.00003609433640806158,
          0.000036051295639553,
          0.00003600521922931556,
          0.000035956131631313955,
          0.000035904063597694555,
          0.00003584905210887757,
          0.00003579114029867627,
          0.00003573037737448731,
          0.00003566681853260095,
          0.000035600524868685215,
          0.00003553156328350203,
          0.00003546000638391896,
          0.000035385932379283814,
          0.00003530942497323459,
          0.000035230573251021826,
          0.00003514947156242358,
          0.00003506621940033938,
          0.000034980921275151965,
          0.00003489368658495077,
          0.00003480462948171469,
          0.00003471386873355559,
          0.000034621527583127724,
          0.00003452773360231202,
          0.00003443261854328762,
          0.00003433631818610646,
          0.00003423897218288998,
          0.00003414072389877023,
          0.000034041720249700574,
          0.00003394211153726449,
          0.00003384205128061295,
          0.00003374169604566427,
          0.000033641205271702656,
          0.000033540741095513476,
          0.0000334404681731965,
          0.00003334055349979948,
          0.000033241166226917135,
          0.00003314247747840202,
          0.0000330446601643356,
          0.00003294788879340938,
          0.000032852339283867565,
          0.00003275818877316336,
          0.00003266561542648336,
          0.000032574798244294154,
          0.000032485916869067165,
          0.00003239915139133812,
          0.000032314682155258125,
          0.000032232689563794166,
          0.000032153353883736844,
          0.000032076855050673625,
          0.00003200337247408618,
          0.000031933084842730186,
          0.00003186616993045597,
          0.00003180280440262804,
          0.0000317431636233018,
          0.00003168742146331426,
          0.00003163575010944631,
          0.000031588319874812405,
          0.0000315452990106334,
          0.000031506853519547194,
          0.00003147314697061093,
          0.00003144434031614752,
          0.00003142059171058811,
          0.000031402056331460664,
          0.00003138888620267388,
          0.00003138123002024395,
          0.000031379232980610206,
          0.000031383036611684266,
          0.00003139277860677531,
          0.000031408592661532624,
          0.0000314306083140445,
          0.000031458950788230695,
          0.00003149374084066364,
          0.00003153509461095142,
          0.00003158312347581331,
          0.00003163793390697648,
          0.00003169962733302012,
          0.000031768300005290404,
          0.000031844042868008075,
          0.00003192694143268628,
          0.00003201707565697571,
          0.000032114519828049026,
          0.00003221934245063549,
          0.00003233160613981273,
          0.00003245136751866014,
          0.000032578677120874574,
          0.00003271357929844683,
          0.000032856112134492865,
          0.00003300630736133173,
          0.00003316419028389725,
          0.00003332977970856823,
          0.000033503087877497414,
          0.00003368412040851637,
          0.0000338728762406889,
          0.00003406934758558286,
          0.000034273519884324496,
          0.00003448537177049747,
          0.00003470487503894259,
          0.00003493199462051151,
          0.00003516668856282215,
          0.000035408908017060444,
          0.0000356585972308665,
          0.000035915693547341543,
          0.0000361801274102041,
          0.00003645182237512153,
          0.00003673069512723706,
          0.00003701665550490756,
          0.00003730960652966244,
          0.000037609444442389336,
          0.000037916058745745547,
          0.00003822933225279129,
          0.000038549141141833145,
          0.00003887535501746212,
          0.000039207836977764716,
          0.00003954644368767992,
          0.00003989102545846955,
          0.0000402414263332633,
          0.00004059748417863484,
          0.00004095903078215856,
          0.00004132589195589235,
          0.00004169788764572289,
          0.00004207483204650894,
          0.00004245653372294666,
          0.0000428427957360792,
          0.00004323341577536478,
          0.000043628186296213085,
          0.00004402689466289151,
          0.000044429323296699576,
          0.0000448352498293012,
          0.000045244447261102065,
          0.00004565668412454939,
          0.00004607172465222827,
          0.0000464893289496228,
          0.00004690925317240363,
          0.00004733124970809793,
          0.00004775506736199301,
          0.00004818045154711847,
          0.000048607144478147,
          0.000049034885369048514,
          0.00004946341063432593,
          0.0000498924540936579,
          0.0000503217471797684,
          0.00005075101914933516,
          0.000051179997296749834,
          0.000051608407170532836,
          0.00005203597279220596,
          0.0000524624168774177,
          0.0000528874610591161,
          0.00005331082611255616,
          0.00005373223218193048,
          0.00005415139900840208,
          0.00005456804615932103,
          0.00005498189325840001,
          0.00005539266021662344,
          0.000055800067463660026,
          0.000056203836179549725,
          0.000056603688526430626,
          0.000056999347880072684,
          0.000057390539060982576,
          0.00005777698856484231,
          0.000058158424792044945,
          0.00005853457827608904,
          0.000058905181910594504,
          0.00005926997117470151,
          0.00005962868435661493,
          0.00005998106277505808,
          0.00006032685099840096,
          0.00006066579706122707,
          0.00006099765267810825,
          0.00006132217345435604,
          0.00006163911909352288,
          0.00006194825360142619,
          0.00006224934548647475,
          0.00006254216795607716,
          0.00006282649910891854,
          0.00006310212212289262,
          0.00006336882543848324,
          0.0000636264029373924,
          0.00006387465411621783,
          0.00006411338425498683,
          0.00006434240458036041,
          0.00006456153242332554,
          0.00006477059137120226,
          0.00006496941141379448,
          0.00006515782908352452,
          0.00006533568758939449,
          0.00006550283694462746,
          0.0000656591340878466,
          0.00006580444299765957,
          0.00006593863480052228,
          0.00006606158787176469,
          0.00006617318792966892,
          0.00006627332812249896,
          0.0000663619091083893,
          0.00006643883912800856,
          0.00006650403406992354,
          0.00006655741752859703,
          0.00006659892085496291,
          0.00006662848319953065,
          0.00006664605154798066,
          0.00006665158074922106,
          0.0000666450335358867,
          0.00006662638053726952,
          0.00006659560028467954,
          0.00006655267920924539,
          0.0000664976116321717,
          0.00006643039974748217,
          0.00006635105359728343,
          0.00006625959103959809,
          0.0000661560377088207,
          0.00006604042696886288,
          0.00006591279985906084,
          0.00006577320503292833,
          0.00006562169868984707,
          0.00006545834449979537,
          0.00006528321352122363
         ]
        },
        {
         "mode": "lines",
         "name": "KDE (silverman)",
         "type": "scatter",
         "visible": false,
         "x": [
          205.33,
          207.3763833833834,
          209.42276676676678,
          211.46915015015017,
          213.51553353353356,
          215.5619169169169,
          217.6083003003003,
          219.6546836836837,
          221.70106706706707,
          223.74745045045046,
          225.79383383383384,
          227.84021721721723,
          229.88660060060062,
          231.932983983984,
          233.9793673673674,
          236.02575075075077,
          238.07213413413416,
          240.11851751751755,
          242.1649009009009,
          244.2112842842843,
          246.25766766766768,
          248.30405105105106,
          250.35043443443445,
          252.39681781781783,
          254.44320120120122,
          256.4895845845846,
          258.53596796796796,
          260.58235135135135,
          262.62873473473473,
          264.6751181181181,
          266.7215015015015,
          268.7678848848849,
          270.8142682682683,
          272.86065165165166,
          274.90703503503505,
          276.95341841841844,
          278.9998018018018,
          281.0461851851852,
          283.0925685685686,
          285.138951951952,
          287.18533533533537,
          289.23171871871875,
          291.27810210210214,
          293.3244854854855,
          295.3708688688689,
          297.4172522522523,
          299.4636356356356,
          301.510019019019,
          303.5564024024024,
          305.6027857857858,
          307.64916916916917,
          309.69555255255256,
          311.74193593593594,
          313.7883193193193,
          315.8347027027027,
          317.8810860860861,
          319.9274694694695,
          321.9738528528529,
          324.02023623623626,
          326.06661961961964,
          328.11300300300303,
          330.1593863863864,
          332.20576976976974,
          334.25215315315313,
          336.2985365365365,
          338.3449199199199,
          340.3913033033033,
          342.4376866866867,
          344.48407007007006,
          346.53045345345345,
          348.57683683683683,
          350.6232202202202,
          352.6696036036036,
          354.715986986987,
          356.7623703703704,
          358.80875375375376,
          360.85513713713715,
          362.90152052052053,
          364.9479039039039,
          366.9942872872873,
          369.0406706706707,
          371.0870540540541,
          373.13343743743746,
          375.17982082082085,
          377.22620420420424,
          379.2725875875876,
          381.318970970971,
          383.3653543543544,
          385.4117377377378,
          387.45812112112117,
          389.50450450450455,
          391.5508878878879,
          393.59727127127127,
          395.64365465465465,
          397.69003803803804,
          399.7364214214214,
          401.7828048048048,
          403.8291881881882,
          405.8755715715716,
          407.92195495495497,
          409.96833833833836,
          412.01472172172174,
          414.06110510510507,
          416.10748848848846,
          418.15387187187184,
          420.20025525525523,
          422.2466386386386,
          424.293022022022,
          426.3394054054054,
          428.3857887887888,
          430.43217217217216,
          432.47855555555554,
          434.52493893893893,
          436.5713223223223,
          438.6177057057057,
          440.6640890890891,
          442.7104724724725,
          444.75685585585586,
          446.80323923923925,
          448.84962262262263,
          450.896006006006,
          452.9423893893894,
          454.9887727727728,
          457.0351561561562,
          459.08153953953956,
          461.12792292292295,
          463.17430630630633,
          465.2206896896897,
          467.2670730730731,
          469.3134564564565,
          471.3598398398399,
          473.40622322322326,
          475.45260660660665,
          477.49898998999004,
          479.5453733733734,
          481.5917567567568,
          483.6381401401402,
          485.6845235235236,
          487.73090690690697,
          489.77729029029024,
          491.8236736736736,
          493.870057057057,
          495.9164404404404,
          497.9628238238238,
          500.00920720720717,
          502.05559059059055,
          504.10197397397394,
          506.1483573573573,
          508.1947407407407,
          510.2411241241241,
          512.2875075075075,
          514.3338908908909,
          516.3802742742743,
          518.4266576576576,
          520.473041041041,
          522.5194244244244,
          524.5658078078078,
          526.6121911911912,
          528.6585745745746,
          530.704957957958,
          532.7513413413413,
          534.7977247247247,
          536.8441081081081,
          538.8904914914915,
          540.9368748748749,
          542.9832582582583,
          545.0296416416417,
          547.076025025025,
          549.1224084084084,
          551.1687917917918,
          553.2151751751752,
          555.2615585585586,
          557.307941941942,
          559.3543253253254,
          561.4007087087087,
          563.4470920920921,
          565.4934754754755,
          567.5398588588589,
          569.5862422422423,
          571.6326256256257,
          573.6790090090091,
          575.7253923923925,
          577.7717757757757,
          579.8181591591591,
          581.8645425425425,
          583.9109259259259,
          585.9573093093093,
          588.0036926926927,
          590.050076076076,
          592.0964594594594,
          594.1428428428428,
          596.1892262262262,
          598.2356096096096,
          600.281992992993,
          602.3283763763764,
          604.3747597597597,
          606.4211431431431,
          608.4675265265265,
          610.5139099099099,
          612.5602932932933,
          614.6066766766767,
          616.65306006006,
          618.6994434434434,
          620.7458268268268,
          622.7922102102102,
          624.8385935935936,
          626.884976976977,
          628.9313603603604,
          630.9777437437438,
          633.0241271271271,
          635.0705105105105,
          637.1168938938939,
          639.1632772772773,
          641.2096606606607,
          643.2560440440441,
          645.3024274274275,
          647.3488108108108,
          649.3951941941942,
          651.4415775775776,
          653.487960960961,
          655.5343443443444,
          657.5807277277278,
          659.6271111111112,
          661.6734944944945,
          663.7198778778779,
          665.7662612612612,
          667.8126446446446,
          669.859028028028,
          671.9054114114114,
          673.9517947947948,
          675.9981781781781,
          678.0445615615615,
          680.0909449449449,
          682.1373283283283,
          684.1837117117117,
          686.2300950950951,
          688.2764784784785,
          690.3228618618618,
          692.3692452452452,
          694.4156286286286,
          696.462012012012,
          698.5083953953954,
          700.5547787787788,
          702.6011621621622,
          704.6475455455455,
          706.6939289289289,
          708.7403123123123,
          710.7866956956957,
          712.8330790790791,
          714.8794624624625,
          716.9258458458459,
          718.9722292292292,
          721.0186126126126,
          723.064995995996,
          725.1113793793794,
          727.1577627627628,
          729.2041461461462,
          731.2505295295296,
          733.296912912913,
          735.3432962962963,
          737.3896796796797,
          739.4360630630631,
          741.4824464464465,
          743.5288298298299,
          745.5752132132133,
          747.6215965965966,
          749.66797997998,
          751.7143633633634,
          753.7607467467468,
          755.8071301301302,
          757.8535135135136,
          759.899896896897,
          761.9462802802803,
          763.9926636636637,
          766.0390470470471,
          768.0854304304305,
          770.1318138138139,
          772.1781971971973,
          774.2245805805806,
          776.2709639639639,
          778.3173473473473,
          780.3637307307307,
          782.4101141141141,
          784.4564974974975,
          786.5028808808809,
          788.5492642642643,
          790.5956476476476,
          792.642031031031,
          794.6884144144144,
          796.7347977977978,
          798.7811811811812,
          800.8275645645646,
          802.873947947948,
          804.9203313313313,
          806.9667147147147,
          809.0130980980981,
          811.0594814814815,
          813.1058648648649,
          815.1522482482483,
          817.1986316316317,
          819.245015015015,
          821.2913983983984,
          823.3377817817818,
          825.3841651651652,
          827.4305485485486,
          829.476931931932,
          831.5233153153154,
          833.5696986986987,
          835.6160820820821,
          837.6624654654655,
          839.7088488488489,
          841.7552322322323,
          843.8016156156157,
          845.8479989989991,
          847.8943823823824,
          849.9407657657658,
          851.9871491491492,
          854.0335325325326,
          856.079915915916,
          858.1262992992994,
          860.1726826826826,
          862.219066066066,
          864.2654494494494,
          866.3118328328328,
          868.3582162162162,
          870.4045995995996,
          872.450982982983,
          874.4973663663664,
          876.5437497497497,
          878.5901331331331,
          880.6365165165165,
          882.6828998998999,
          884.7292832832833,
          886.7756666666667,
          888.82205005005,
          890.8684334334334,
          892.9148168168168,
          894.9612002002002,
          897.0075835835836,
          899.053966966967,
          901.1003503503504,
          903.1467337337338,
          905.1931171171171,
          907.2395005005005,
          909.2858838838839,
          911.3322672672673,
          913.3786506506507,
          915.4250340340341,
          917.4714174174175,
          919.5178008008008,
          921.5641841841842,
          923.6105675675676,
          925.656950950951,
          927.7033343343344,
          929.7497177177178,
          931.7961011011012,
          933.8424844844845,
          935.8888678678679,
          937.9352512512513,
          939.9816346346347,
          942.0280180180181,
          944.0744014014015,
          946.1207847847849,
          948.1671681681681,
          950.2135515515515,
          952.2599349349349,
          954.3063183183183,
          956.3527017017017,
          958.3990850850851,
          960.4454684684684,
          962.4918518518518,
          964.5382352352352,
          966.5846186186186,
          968.631002002002,
          970.6773853853854,
          972.7237687687688,
          974.7701521521521,
          976.8165355355355,
          978.8629189189189,
          980.9093023023023,
          982.9556856856857,
          985.0020690690691,
          987.0484524524525,
          989.0948358358359,
          991.1412192192192,
          993.1876026026026,
          995.233985985986,
          997.2803693693694,
          999.3267527527528,
          1001.3731361361362,
          1003.4195195195196,
          1005.4659029029029,
          1007.5122862862863,
          1009.5586696696697,
          1011.6050530530531,
          1013.6514364364365,
          1015.6978198198199,
          1017.7442032032033,
          1019.7905865865866,
          1021.83696996997,
          1023.8833533533534,
          1025.9297367367367,
          1027.9761201201202,
          1030.0225035035035,
          1032.068886886887,
          1034.1152702702702,
          1036.1616536536535,
          1038.208037037037,
          1040.2544204204203,
          1042.3008038038038,
          1044.347187187187,
          1046.3935705705705,
          1048.4399539539538,
          1050.4863373373373,
          1052.5327207207206,
          1054.579104104104,
          1056.6254874874874,
          1058.6718708708709,
          1060.7182542542541,
          1062.7646376376376,
          1064.811021021021,
          1066.8574044044044,
          1068.9037877877877,
          1070.9501711711712,
          1072.9965545545545,
          1075.042937937938,
          1077.0893213213212,
          1079.1357047047047,
          1081.182088088088,
          1083.2284714714715,
          1085.2748548548548,
          1087.3212382382383,
          1089.3676216216215,
          1091.414005005005,
          1093.4603883883883,
          1095.5067717717718,
          1097.553155155155,
          1099.5995385385386,
          1101.6459219219219,
          1103.6923053053054,
          1105.7386886886886,
          1107.7850720720721,
          1109.8314554554554,
          1111.877838838839,
          1113.9242222222222,
          1115.9706056056057,
          1118.016988988989,
          1120.0633723723724,
          1122.1097557557557,
          1124.156139139139,
          1126.2025225225225,
          1128.2489059059058,
          1130.2952892892893,
          1132.3416726726725,
          1134.388056056056,
          1136.4344394394393,
          1138.4808228228228,
          1140.527206206206,
          1142.5735895895896,
          1144.6199729729728,
          1146.6663563563563,
          1148.7127397397396,
          1150.7591231231231,
          1152.8055065065064,
          1154.85188988989,
          1156.8982732732732,
          1158.9446566566567,
          1160.99104004004,
          1163.0374234234234,
          1165.0838068068067,
          1167.1301901901902,
          1169.1765735735735,
          1171.222956956957,
          1173.2693403403402,
          1175.3157237237237,
          1177.362107107107,
          1179.4084904904905,
          1181.4548738738738,
          1183.5012572572573,
          1185.5476406406406,
          1187.594024024024,
          1189.6404074074073,
          1191.6867907907908,
          1193.733174174174,
          1195.7795575575576,
          1197.8259409409409,
          1199.8723243243244,
          1201.9187077077077,
          1203.9650910910912,
          1206.0114744744744,
          1208.057857857858,
          1210.1042412412412,
          1212.1506246246245,
          1214.197008008008,
          1216.2433913913912,
          1218.2897747747747,
          1220.336158158158,
          1222.3825415415415,
          1224.4289249249248,
          1226.4753083083083,
          1228.5216916916916,
          1230.568075075075,
          1232.6144584584583,
          1234.6608418418418,
          1236.707225225225,
          1238.7536086086086,
          1240.7999919919919,
          1242.8463753753754,
          1244.8927587587586,
          1246.9391421421421,
          1248.9855255255254,
          1251.031908908909,
          1253.0782922922922,
          1255.1246756756755,
          1257.171059059059,
          1259.2174424424422,
          1261.2638258258257,
          1263.310209209209,
          1265.3565925925925,
          1267.4029759759758,
          1269.4493593593593,
          1271.4957427427426,
          1273.542126126126,
          1275.5885095095093,
          1277.6348928928928,
          1279.681276276276,
          1281.7276596596596,
          1283.7740430430429,
          1285.8204264264264,
          1287.8668098098096,
          1289.9131931931931,
          1291.9595765765764,
          1294.00595995996,
          1296.0523433433432,
          1298.0987267267267,
          1300.14511011011,
          1302.1914934934935,
          1304.2378768768767,
          1306.2842602602602,
          1308.3306436436435,
          1310.377027027027,
          1312.4234104104103,
          1314.4697937937938,
          1316.516177177177,
          1318.5625605605605,
          1320.6089439439438,
          1322.6553273273273,
          1324.7017107107106,
          1326.748094094094,
          1328.7944774774774,
          1330.8408608608609,
          1332.8872442442441,
          1334.9336276276276,
          1336.980011011011,
          1339.0263943943944,
          1341.0727777777777,
          1343.119161161161,
          1345.1655445445444,
          1347.2119279279277,
          1349.2583113113112,
          1351.3046946946945,
          1353.351078078078,
          1355.3974614614613,
          1357.4438448448448,
          1359.490228228228,
          1361.5366116116115,
          1363.5829949949948,
          1365.6293783783783,
          1367.6757617617616,
          1369.722145145145,
          1371.7685285285283,
          1373.8149119119118,
          1375.8612952952951,
          1377.9076786786786,
          1379.954062062062,
          1382.0004454454454,
          1384.0468288288287,
          1386.0932122122122,
          1388.1395955955954,
          1390.185978978979,
          1392.2323623623622,
          1394.2787457457457,
          1396.325129129129,
          1398.3715125125125,
          1400.4178958958958,
          1402.4642792792793,
          1404.5106626626625,
          1406.557046046046,
          1408.6034294294293,
          1410.6498128128128,
          1412.696196196196,
          1414.7425795795796,
          1416.7889629629628,
          1418.8353463463463,
          1420.8817297297296,
          1422.928113113113,
          1424.9744964964964,
          1427.0208798798799,
          1429.0672632632632,
          1431.1136466466464,
          1433.16003003003,
          1435.2064134134132,
          1437.2527967967967,
          1439.29918018018,
          1441.3455635635635,
          1443.3919469469467,
          1445.4383303303302,
          1447.4847137137135,
          1449.531097097097,
          1451.5774804804803,
          1453.6238638638638,
          1455.670247247247,
          1457.7166306306306,
          1459.7630140140138,
          1461.8093973973973,
          1463.8557807807806,
          1465.902164164164,
          1467.9485475475474,
          1469.9949309309309,
          1472.0413143143141,
          1474.0876976976976,
          1476.134081081081,
          1478.1804644644644,
          1480.2268478478477,
          1482.2732312312312,
          1484.3196146146145,
          1486.365997997998,
          1488.4123813813812,
          1490.4587647647647,
          1492.505148148148,
          1494.5515315315315,
          1496.5979149149148,
          1498.6442982982983,
          1500.6906816816816,
          1502.737065065065,
          1504.7834484484483,
          1506.8298318318318,
          1508.876215215215,
          1510.9225985985986,
          1512.9689819819819,
          1515.0153653653651,
          1517.0617487487486,
          1519.108132132132,
          1521.1545155155154,
          1523.2008988988987,
          1525.2472822822822,
          1527.2936656656655,
          1529.340049049049,
          1531.3864324324322,
          1533.4328158158157,
          1535.479199199199,
          1537.5255825825825,
          1539.5719659659658,
          1541.6183493493493,
          1543.6647327327325,
          1545.711116116116,
          1547.7574994994993,
          1549.8038828828828,
          1551.850266266266,
          1553.8966496496496,
          1555.9430330330329,
          1557.9894164164164,
          1560.0357997997996,
          1562.0821831831831,
          1564.1285665665664,
          1566.17494994995,
          1568.2213333333332,
          1570.2677167167167,
          1572.3141001001,
          1574.3604834834834,
          1576.4068668668667,
          1578.4532502502502,
          1580.4996336336335,
          1582.546017017017,
          1584.5924004004003,
          1586.6387837837838,
          1588.685167167167,
          1590.7315505505505,
          1592.7779339339338,
          1594.8243173173173,
          1596.8707007007006,
          1598.917084084084,
          1600.9634674674674,
          1603.0098508508506,
          1605.0562342342341,
          1607.1026176176174,
          1609.149001001001,
          1611.1953843843842,
          1613.2417677677677,
          1615.288151151151,
          1617.3345345345344,
          1619.3809179179177,
          1621.4273013013012,
          1623.4736846846845,
          1625.520068068068,
          1627.5664514514513,
          1629.6128348348348,
          1631.659218218218,
          1633.7056016016015,
          1635.7519849849848,
          1637.7983683683683,
          1639.8447517517516,
          1641.891135135135,
          1643.9375185185183,
          1645.9839019019018,
          1648.0302852852851,
          1650.0766686686686,
          1652.123052052052,
          1654.1694354354354,
          1656.2158188188187,
          1658.2622022022022,
          1660.3085855855854,
          1662.354968968969,
          1664.4013523523522,
          1666.4477357357357,
          1668.494119119119,
          1670.5405025025025,
          1672.5868858858857,
          1674.6332692692692,
          1676.6796526526525,
          1678.726036036036,
          1680.7724194194193,
          1682.8188028028028,
          1684.865186186186,
          1686.9115695695696,
          1688.9579529529528,
          1691.004336336336,
          1693.0507197197196,
          1695.0971031031029,
          1697.1434864864864,
          1699.1898698698697,
          1701.2362532532532,
          1703.2826366366364,
          1705.32902002002,
          1707.3754034034032,
          1709.4217867867867,
          1711.46817017017,
          1713.5145535535535,
          1715.5609369369367,
          1717.6073203203202,
          1719.6537037037035,
          1721.700087087087,
          1723.7464704704703,
          1725.7928538538538,
          1727.839237237237,
          1729.8856206206206,
          1731.9320040040038,
          1733.9783873873873,
          1736.0247707707706,
          1738.071154154154,
          1740.1175375375374,
          1742.1639209209209,
          1744.2103043043041,
          1746.2566876876876,
          1748.303071071071,
          1750.3494544544544,
          1752.3958378378377,
          1754.4422212212212,
          1756.4886046046045,
          1758.534987987988,
          1760.5813713713712,
          1762.6277547547547,
          1764.674138138138,
          1766.7205215215215,
          1768.7669049049048,
          1770.8132882882883,
          1772.8596716716715,
          1774.906055055055,
          1776.9524384384383,
          1778.9988218218216,
          1781.045205205205,
          1783.0915885885884,
          1785.1379719719719,
          1787.1843553553551,
          1789.2307387387386,
          1791.277122122122,
          1793.3235055055054,
          1795.3698888888887,
          1797.4162722722722,
          1799.4626556556555,
          1801.509039039039,
          1803.5554224224222,
          1805.6018058058057,
          1807.648189189189,
          1809.6945725725725,
          1811.7409559559558,
          1813.7873393393393,
          1815.8337227227225,
          1817.880106106106,
          1819.9264894894893,
          1821.9728728728728,
          1824.019256256256,
          1826.0656396396396,
          1828.1120230230229,
          1830.1584064064064,
          1832.2047897897896,
          1834.2511731731731,
          1836.2975565565564,
          1838.34393993994,
          1840.3903233233232,
          1842.4367067067067,
          1844.48309009009,
          1846.5294734734734,
          1848.5758568568567,
          1850.6222402402402,
          1852.6686236236235,
          1854.715007007007,
          1856.7613903903903,
          1858.8077737737738,
          1860.854157157157,
          1862.9005405405405,
          1864.9469239239238,
          1866.993307307307,
          1869.0396906906906,
          1871.0860740740738,
          1873.1324574574573,
          1875.1788408408406,
          1877.2252242242241,
          1879.2716076076074,
          1881.317990990991,
          1883.3643743743742,
          1885.4107577577577,
          1887.457141141141,
          1889.5035245245244,
          1891.5499079079077,
          1893.5962912912912,
          1895.6426746746745,
          1897.689058058058,
          1899.7354414414413,
          1901.7818248248248,
          1903.828208208208,
          1905.8745915915915,
          1907.9209749749748,
          1909.9673583583583,
          1912.0137417417416,
          1914.060125125125,
          1916.1065085085083,
          1918.1528918918918,
          1920.199275275275,
          1922.2456586586586,
          1924.2920420420419,
          1926.3384254254254,
          1928.3848088088087,
          1930.4311921921922,
          1932.4775755755754,
          1934.523958958959,
          1936.5703423423422,
          1938.6167257257257,
          1940.663109109109,
          1942.7094924924925,
          1944.7558758758757,
          1946.8022592592592,
          1948.8486426426425,
          1950.895026026026,
          1952.9414094094093,
          1954.9877927927926,
          1957.034176176176,
          1959.0805595595593,
          1961.1269429429428,
          1963.173326326326,
          1965.2197097097096,
          1967.2660930930929,
          1969.3124764764764,
          1971.3588598598596,
          1973.4052432432431,
          1975.4516266266264,
          1977.49801001001,
          1979.5443933933932,
          1981.5907767767767,
          1983.63716016016,
          1985.6835435435435,
          1987.7299269269267,
          1989.7763103103102,
          1991.8226936936935,
          1993.869077077077,
          1995.9154604604603,
          1997.9618438438438,
          2000.008227227227,
          2002.0546106106106,
          2004.1009939939938,
          2006.1473773773773,
          2008.1937607607606,
          2010.240144144144,
          2012.2865275275274,
          2014.3329109109109,
          2016.3792942942941,
          2018.4256776776776,
          2020.472061061061,
          2022.5184444444444,
          2024.5648278278277,
          2026.6112112112112,
          2028.6575945945945,
          2030.703977977978,
          2032.7503613613612,
          2034.7967447447447,
          2036.843128128128,
          2038.8895115115115,
          2040.9358948948948,
          2042.982278278278,
          2045.0286616616615,
          2047.0750450450448,
          2049.1214284284283,
          2051.1678118118116,
          2053.2141951951953,
          2055.2605785785786,
          2057.306961961962,
          2059.353345345345,
          2061.399728728729,
          2063.446112112112,
          2065.4924954954954,
          2067.5388788788787,
          2069.5852622622624,
          2071.6316456456457,
          2073.678029029029,
          2075.724412412412,
          2077.770795795796,
          2079.817179179179,
          2081.8635625625625,
          2083.9099459459458,
          2085.9563293293295,
          2088.0027127127128,
          2090.049096096096,
          2092.0954794794793,
          2094.141862862863,
          2096.1882462462463,
          2098.2346296296296,
          2100.281013013013,
          2102.3273963963966,
          2104.37377977978,
          2106.420163163163,
          2108.4665465465464,
          2110.51292992993,
          2112.5593133133134,
          2114.6056966966967,
          2116.65208008008,
          2118.6984634634637,
          2120.744846846847,
          2122.79123023023,
          2124.8376136136135,
          2126.8839969969968,
          2128.9303803803805,
          2130.9767637637638,
          2133.023147147147,
          2135.0695305305303,
          2137.115913913914,
          2139.1622972972973,
          2141.2086806806806,
          2143.255064064064,
          2145.3014474474476,
          2147.347830830831,
          2149.394214214214,
          2151.4405975975974,
          2153.486980980981,
          2155.5333643643644,
          2157.5797477477477,
          2159.626131131131,
          2161.6725145145147,
          2163.718897897898,
          2165.765281281281,
          2167.8116646646645,
          2169.858048048048,
          2171.9044314314315,
          2173.9508148148147,
          2175.997198198198,
          2178.0435815815817,
          2180.089964964965,
          2182.1363483483483,
          2184.1827317317316,
          2186.2291151151153,
          2188.2754984984986,
          2190.321881881882,
          2192.368265265265,
          2194.414648648649,
          2196.461032032032,
          2198.5074154154154,
          2200.5537987987987,
          2202.6001821821824,
          2204.6465655655657,
          2206.692948948949,
          2208.739332332332,
          2210.785715715716,
          2212.832099099099,
          2214.8784824824825,
          2216.9248658658657,
          2218.971249249249,
          2221.0176326326327,
          2223.064016016016,
          2225.1103993993993,
          2227.1567827827826,
          2229.2031661661663,
          2231.2495495495496,
          2233.295932932933,
          2235.342316316316,
          2237.3886996997,
          2239.435083083083,
          2241.4814664664664,
          2243.5278498498496,
          2245.5742332332334,
          2247.6206166166166,
          2249.667
         ],
         "y": [
          0.00018688359093295323,
          0.00018828447077133475,
          0.000189676899415009,
          0.00019106084611935365,
          0.0001924362954006869,
          0.00019380324728869244,
          0.00019516171756689575,
          0.00019651173800079398,
          0.00019785335655326337,
          0.0001991866375868689,
          0.00020051166205271992,
          0.00020182852766552443,
          0.0002031373490645094,
          0.00020443825795988504,
          0.0002057314032645509,
          0.00020701695121074748,
          0.0002082950854513811,
          0.00020956600714575974,
          0.00021082993502949442,
          0.00021208710546833943,
          0.00021333777249575751,
          0.00021458220783401999,
          0.00021582070089866065,
          0.00021705355878612865,
          0.00021828110624449957,
          0.00021950368562712215,
          0.00022072165682910053,
          0.00022193539720652742,
          0.00022314530147840607,
          0.00022435178161121674,
          0.0002255552666861036,
          0.0002267562027486792,
          0.00022795505264146308,
          0.00022915229581899,
          0.00023034842814564734,
          0.0002315439616763167,
          0.00023273942441992098,
          0.00023393536008599173,
          0.0002351323278143998,
          0.00023633090188840503,
          0.00023753167143120707,
          0.0002387352400861958,
          0.00023994222568112078,
          0.00024115325987641997,
          0.00024236898779796565,
          0.00024359006765450569,
          0.0002448171703400991,
          0.0002460509790218586,
          0.0002472921887133369,
          0.00024854150583390977,
          0.00024979964775452074,
          0.0002510673423301825,
          0.0002523453274196308,
          0.00025363435039255685,
          0.00025493516762485255,
          0.0002562485439823185,
          0.00025757525229330285,
          0.0002589160728107502,
          0.00026027179266415704,
          0.0002616432053019369,
          0.00026303110992471776,
          0.0002644363109101028,
          0.00026585961722943604,
          0.0002673018418571261,
          0.00026876380117309205,
          0.00027024631435890113,
          0.00027175020278818,
          0.0002732762894118871,
          0.0002748253981390417,
          0.00027639835321350756,
          0.00027799597858743993,
          0.00027961909729200843,
          0.0002812685308060036,
          0.0002829450984229546,
          0.0002846496166173682,
          0.00028638289841071665,
          0.00028814575273779545,
          0.0002899389838140714,
          0.00029176339050464154,
          0.0002936197656954245,
          0.00029550889566720077,
          0.0002974315594731109,
          0.0002993885283202289,
          0.00030138056495580595,
          0.0003034084230587929,
          0.0003054728466372254,
          0.0003075745694320633,
          0.0003097143143280593,
          0.00031189279277222376,
          0.0003141107042004503,
          0.0003163687354728473,
          0.00031866756031831596,
          0.0003210078387889034,
          0.00032339021672444336,
          0.0003258153252279917,
          0.00032828378015254176,
          0.000330796181599501,
          0.000333353113429384,
          0.00033595514278517266,
          0.0003386028196287745,
          0.0003412966762909917,
          0.00034403722703540176,
          0.0003468249676365296,
          0.00034966037497267683,
          0.000352543906633755,
          0.0003554760005444481,
          0.0003584570746030197,
          0.0003614875263360502,
          0.00036456773256937923,
          0.00036769804911550703,
          0.00037087881047768377,
          0.0003741103295709029,
          0.0003773928974599929,
          0.00038072678311497577,
          0.00038411223318384955,
          0.0003875494717829253,
          0.00039103870030482907,
          0.0003945800972442629,
          0.0003981738180415934,
          0.0004018199949443183,
          0.0004055187368864425,
          0.0004092701293857704,
          0.00041307423445910576,
          0.00041693109055532636,
          0.0004208407125062838,
          0.0004248030914954549,
          0.0004288181950442581,
          0.0004328859670159197,
          0.00043700632763676547,
          0.0004411791735347863,
          0.00044540437779531185,
          0.00044968179003360907,
          0.0004540112364841999,
          0.0004583925201066786,
          0.000462825420707795,
          0.0004673096950795418,
          0.00047184507715298266,
          0.0004764312781675312,
          0.0004810679868553785,
          0.00048575486964075565,
          0.0004904915708536976,
          0.0004952777129579622,
          0.0005001128967927541,
          0.0005049967018278688,
          0.00050992868643189,
          0.000514908388153031,
          0.0005199353240122241,
          0.0005250089908080363,
          0.0005301288654329889,
          0.0005352944052008422,
          0.0005405050481844033,
          0.000545760213563407,
          0.0005510593019820031,
          0.0005564016959153966,
          0.0005617867600451533,
          0.0005672138416427078,
          0.0005726822709605805,
          0.0005781913616308282,
          0.000583740411070222,
          0.0005893287008916819,
          0.0005949554973214488,
          0.0006006200516215211,
          0.0006063216005168407,
          0.000612059366626738,
          0.0006178325589001402,
          0.0006236403730540426,
          0.0006294819920147535,
          0.0006353565863614135,
          0.000641263314771305,
          0.0006472013244664683,
          0.0006531697516611295,
          0.0006591677220094826,
          0.0006651943510533365,
          0.0006712487446691694,
          0.0006773299995141258,
          0.0006834372034705127,
          0.0006895694360883333,
          0.0006957257690254358,
          0.0007019052664848388,
          0.0007081069856488175,
          0.0007143299771093333,
          0.0007205732852944191,
          0.0007268359488901051,
          0.0007331170012575376,
          0.0007394154708448891,
          0.0007457303815937254,
          0.0007520607533394729,
          0.000758405602205654,
          0.000764763940991573,
          0.0007711347795531411,
          0.0007775171251765504,
          0.0007839099829445066,
          0.0007903123560947686,
          0.0007967232463707237,
          0.0008031416543637747,
          0.0008095665798473076,
          0.0008159970221020305,
          0.0008224319802324914,
          0.0008288704534745962,
          0.0008353114414939609,
          0.0008417539446749459,
          0.0008481969644002545,
          0.0008546395033209542,
          0.000861080565616847,
          0.0008675191572470733,
          0.000873954286190908,
          0.0008803849626786727,
          0.0008868101994127388,
          0.0008932290117785944,
          0.0008996404180459658,
          0.0009060434395600061,
          0.0009124371009225786,
          0.0009188204301636665,
          0.0009251924589029748,
          0.0009315522225017852,
          0.0009378987602051632,
          0.0009442311152746008,
          0.000950548335111232,
          0.0009568494713697343,
          0.0009631335800630747,
          0.0009693997216582435,
          0.0009756469611631728,
          0.0009818743682049995,
          0.0009880810170998981,
          0.000994265986914678,
          0.001000428361520383,
          0.0010065672296381274,
          0.0010126816848774138,
          0.0010187708257672137,
          0.001024833755780055,
          0.0010308695833494304,
          0.001036877421880802,
          0.0010428563897565137,
          0.0010488056103349294,
          0.0010547242119441115,
          0.0010606113278703836,
          0.0010664660963421028,
          0.0010722876605090048,
          0.0010780751684174683,
          0.0010838277729820604,
          0.001089544631953731,
          0.0010952249078850368,
          0.0011008677680927538,
          0.001106472384618286,
          0.001112037934186235,
          0.0011175635981615307,
          0.0011230485625055094,
          0.001128492017731337,
          0.0011338931588591686,
          0.0011392511853714408,
          0.0011445653011686924,
          0.0011498347145263107,
          0.0011550586380525874,
          0.0011602362886484912,
          0.0011653668874695323,
          0.0011704496598901036,
          0.0011754838354706993,
          0.0011804686479283634,
          0.0011854033351107528,
          0.001190287138974188,
          0.0011951193055660286,
          0.00119989908501175,
          0.0012046257315070526,
          0.0012092985033153407,
          0.001213916662770899,
          0.0012184794762880875,
          0.0012229862143768532,
          0.0012274361516648642,
          0.0012318285669265412,
          0.0012361627431192658,
          0.0012404379674270155,
          0.001244653531311684,
          0.00124880873057231,
          0.0012529028654124283,
          0.0012569352405157564,
          0.0012609051651303982,
          0.0012648119531617353,
          0.001268654923274159,
          0.0012724333990017888,
          0.0012761467088682904,
          0.0012797941865158946,
          0.0012833751708437168,
          0.001286889006155422,
          0.0012903350423163027,
          0.001293712634919787,
          0.0012970211454633928,
          0.0013002599415341159,
          0.0013034283970032184,
          0.001306525892230377,
          0.0013095518142771244,
          0.0013125055571294709,
          0.0013153865219296269,
          0.0013181941172166814,
          0.0013209277591760826,
          0.0013235868718977598,
          0.0013261708876426922,
          0.001328679247117712,
          0.001331111399758313,
          0.0013334668040192183,
          0.0013357449276724233,
          0.0013379452481124478,
          0.0013400672526684627,
          0.0013421104389229816,
          0.0013440743150367703,
          0.0013459584000795964,
          0.0013477622243664535,
          0.0013494853297988582,
          0.0013511272702107907,
          0.0013526876117188654,
          0.0013541659330762732,
          0.0013555618260300347,
          0.001356874895681095,
          0.0013581047608467519,
          0.0013592510544249345,
          0.001360313423759797,
          0.001361291531008118,
          0.001362185053505949,
          0.0013629936841349798,
          0.0013637171316880452,
          0.0013643551212332192,
          0.001364907394475925,
          0.0013653737101184716,
          0.001365753844216422,
          0.0013660475905312385,
          0.0013662547608785658,
          0.0013663751854715795,
          0.0013664087132588029,
          0.00136635521225578,
          0.001366214569870013,
          0.0013659866932185605,
          0.0013656715094377098,
          0.0013652689659841182,
          0.001364779030926847,
          0.0013642016932297002,
          0.0013635369630232853,
          0.001362784871866246,
          0.0013619454729950815,
          0.0013610188415620326,
          0.0013600050748604634,
          0.001358904292537238,
          0.0013577166367915556,
          0.001356442272559768,
          0.00135508138768566,
          0.0013536341930757603,
          0.0013521009228391865,
          0.001350481834411634,
          0.00134877720866305,
          0.0013469873499886195,
          0.001345112586382676,
          0.0013431532694951774,
          0.0013411097746704214,
          0.0013389825009676752,
          0.0013367718711634318,
          0.001334478331735049,
          0.0013321023528254877,
          0.0013296444281889778,
          0.00132710507511739,
          0.0013244848343471698,
          0.001321784269946683,
          0.0013190039691838701,
          0.0013161445423741293,
          0.0013132066227083635,
          0.0013101908660611793,
          0.0013070979507792287,
          0.0013039285774497304,
          0.0013006834686492346,
          0.0012973633686727032,
          0.0012939690432430474,
          0.0012905012792012516,
          0.0012869608841772626,
          0.0012833486862418567,
          0.001279665533539702,
          0.001275912293903895,
          0.0012720898544522556,
          0.0012681991211656756,
          0.0012642410184489081,
          0.0012602164886741322,
          0.001256126491707708,
          0.0012519720044205417,
          0.00124775402018251,
          0.001243473548341429,
          0.0012391316136870407,
          0.001234729255900575,
          0.0012302675289903944,
          0.001225747500714318,
          0.001221170251989197,
          0.0012165368762883512,
          0.001211848479027503,
          0.001207106176939839,
          0.0012023110974408772,
          0.001197464377983811,
          0.001192567165406028,
          0.0011876206152675072,
          0.0011826258911818261,
          0.001177584164140502,
          0.0011724966118314198,
          0.0011673644179520974,
          0.0011621887715185513,
          0.0011569708661705337,
          0.0011517118994739187,
          0.001146413072221022,
          0.0011410755877296263,
          0.0011357006511415189,
          0.0011302894687213127,
          0.0011248432471563455,
          0.0011193631928584564,
          0.0011138505112683959,
          0.0011083064061636811,
          0.00110273207897065,
          0.0010971287280814904,
          0.0010914975481770156,
          0.0010858397295559143,
          0.0010801564574712515,
          0.0010744489114749168,
          0.0010687182647707743,
          0.0010629656835771913,
          0.0010571923264996585,
          0.0010513993439141638,
          0.0010455878773619979,
          0.0010397590589566064,
          0.0010339140108031482,
          0.0010280538444313318,
          0.00102217966024214,
          0.0010162925469689849,
          0.0010103935811538603,
          0.001004483826638984,
          0.0009985643340744397,
          0.000992636140442295,
          0.0009867002685976331,
          0.0009807577268269156,
          0.0009748095084240898,
          0.0009688565912847896,
          0.0009628999375189894,
          0.0009569404930824113,
          0.0009509791874269912,
          0.0009450169331706402,
          0.0009390546257865575,
          0.0009330931433122801,
          0.0009271333460786561,
          0.0009211760764588769,
          0.0009152221586376999,
          0.0009092723984009343,
          0.0009033275829452723,
          0.000897388480708469,
          0.0008914558412199047,
          0.0008855303949714872,
          0.0008796128533088477,
          0.000873703908342743,
          0.0008678042328805791,
          0.0008619144803778917,
          0.0008560352849096493,
          0.0008501672611611794,
          0.0008443110044385107,
          0.0008384670906978982,
          0.0008326360765942561,
          0.0008268184995482424,
          0.0008210148778316549,
          0.0008152257106708332,
          0.0008094514783677086,
          0.0008036926424381261,
          0.0007979496457670519,
          0.0007922229127802523,
          0.0007865128496320199,
          0.0007808198444084897,
          0.0007751442673460969,
          0.0007694864710646835,
          0.0007638467908147669,
          0.0007582255447384644,
          0.0007526230341435443,
          0.0007470395437900875,
          0.0007414753421891927,
          0.0007359306819132015,
          0.0007304057999168484,
          0.0007249009178688,
          0.0007194162424929732,
          0.0007139519659190774,
          0.0007085082660417703,
          0.000703085306887856,
          0.0006976832389909073,
          0.0006923021997727425,
          0.0006869423139311274,
          0.0006816036938331375,
          0.00067628643991355,
          0.0006709906410776985,
          0.0006657163751081793,
          0.0006604637090748265,
          0.00065523269974737,
          0.0006500233940101978,
          0.0006448358292786461,
          0.0006396700339162564,
          0.0006345260276524275,
          0.0006294038219999377,
          0.0006243034206717595,
          0.0006192248199966702,
          0.0006141680093331215,
          0.000609132971480848,
          0.0006041196830897463,
          0.000599128115065506,
          0.0005941582329715527,
          0.0005892099974268131,
          0.0005842833644988818,
          0.0005793782860921477,
          0.000574494710330474,
          0.0005696325819340089,
          0.0005647918425897838,
          0.0005599724313156809,
          0.0005551742848174645,
          0.0005503973378385035,
          0.0005456415235018959,
          0.0005409067736446661,
          0.0005361930191437785,
          0.0005315001902336716,
          0.0005268282168150857,
          0.0005221770287549383,
          0.0005175465561770357,
          0.0005129367297434235,
          0.0005083474809261904,
          0.0005037787422695731,
          0.0004992304476421978,
          0.0004947025324793545,
          0.0004901949340151623,
          0.00048570759150456,
          0.00048124044643501604,
          0.00047679344272791985,
          0.00047236652692958595,
          0.00046795964839185924,
          0.00046357275944229175,
          0.0004592058155439032,
          0.0004548587754445267,
          0.00045053160131578585,
          0.0004462242588817272,
          0.000441936717537188,
          0.0004376689504559468,
          0.00043342093468876086,
          0.00042919265125137136,
          0.0004249840852025945,
          0.00042079522571261354,
          0.0004166260661216029,
          0.0004124766039888299,
          0.00040834684113238154,
          0.0004042367836596772,
          0.0004001464419889457,
          0.0003960758308618349,
          0.00039202496934735373,
          0.0003879938808373289,
          0.0003839825930335931,
          0.00037999113792710007,
          0.0003760195517691958,
          0.00037206787503525217,
          0.00036813615238090556,
          0.00036422443259111746,
          0.00036033276852230416,
          0.00035646121703776393,
          0.0003526098389366542,
          0.00034877869887675524,
          0.000344967865291279,
          0.0003411774102999563,
          0.0003374074096146717,
          0.000333657942439887,
          0.00032992909136810554,
          0.0003262209422706379,
          0.00032253358418391235,
          0.00031886710919159237,
          0.00031522161230274087,
          0.00031159719132628987,
          0.0003079939467420617,
          0.00030441198156858464,
          0.00030085140122794804,
          0.000297312313407943,
          0.0002937948279217158,
          0.00029029905656518374,
          0.0002868251129724293,
          0.0002833731124693133,
          0.00027994317192552026,
          0.0002765354096052677,
          0.00027314994501687734,
          0.00026978689876143804,
          0.00026644639238075044,
          0.00026312854820476495,
          0.0002598334891986992,
          0.0002565613388100371,
          0.00025331222081558,
          0.0002500862591687481,
          0.00024688357784728433,
          0.00024370430070155328,
          0.00024054855130357388,
          0.00023741645279696586,
          0.0002343081277479424,
          0.00023122369799750646,
          0.00022816328451498753,
          0.00022512700725305055,
          0.00022211498500430637,
          0.00021912733525964945,
          0.00021616417406843238,
          0.00021322561590059796,
          0.00021031177351086208,
          0.00020742275780506026,
          0.00020455867770873812,
          0.00020171964003808907,
          0.00019890574937330807,
          0.00019611710793444965,
          0.00019335381545985963,
          0.0001906159690872457,
          0.00018790366323745512,
          0.0001852169895010084,
          0.00018255603652745414,
          0.00017992088991757957,
          0.00017731163211853404,
          0.0001747283423218919,
          0.0001721710963647035,
          0.00016963996663355095,
          0.00016713502197164966,
          0.00016465632758900709,
          0.0001622039449756681,
          0.00015977793181805468,
          0.00015737834191841907,
          0.0001550052251174163,
          0.00015265862721980432,
          0.0001503385899232717,
          0.0001480451507504003,
          0.00014577834298375197,
          0.00014353819560408417,
          0.0001413247332316784,
          0.0001391379760707815,
          0.00013697793985713937,
          0.0001348446358086192,
          0.0001327380705788966,
          0.00013065824621419876,
          0.00012860516011307886,
          0.00012657880498920886,
          0.00012457916883716177,
          0.00012260623490117028,
          0.00012065998164683025,
          0.00011874038273573273,
          0.00011684740700299232,
          0.00011498101843765332,
          0.00011314117616594006,
          0.00011132783443733271,
          0.00010954094261343347,
          0.00010778044515960045,
          0.00010604628163932106,
          0.0001043383867112933,
          0.00010265669012919187,
          0.00010100111674408431,
          0.00009937158650947627,
          0.00009776801448894997,
          0.00009619031086637469,
          0.00009463838095865398,
          0.00009311212523098957,
          0.00009161143931462598,
          0.00009013621402705585,
          0.0000886863353946527,
          0.00008726168467770877,
          0.00008586213839784818,
          0.00008448756836779199,
          0.00008313784172344526,
          0.00008181282095828584,
          0.00008051236396002392,
          0.00007923632404951342,
          0.00007798455002188435,
          0.00007675688618987851,
          0.00007555317242935833,
          0.00007437324422697099,
          0.00007321693272993955,
          0.00007208406479796208,
          0.000070974463057193,
          0.00006988794595628655,
          0.0000688243278244767,
          0.00006778341893167537,
          0.00006676502555056228,
          0.00006576895002064845,
          0.00006479499081428701,
          0.00006384294260461366,
          0.00006291259633538953,
          0.00006200373929272904,
          0.00006111615517868548,
          0.00006024962418667576,
          0.00005940392307871718,
          0.0000585788252644565,
          0.00005777410088196462,
          0.000056989516880274875,
          0.000056224837103637536,
          0.00005547982237746874,
          0.00005475423059596419,
          0.000054047816811354075,
          0.00005336033332477084,
          0.00005269152977870068,
          0.00005204115325099271,
          0.00005140894835039267,
          0.000050794657313574,
          0.000050198020103631985,
          0.00004961877451001013,
          0.00004905665624982432,
          0.000048511399070550894,
          0.00004798273485404115,
          0.00004747039372182758,
          0.00004697410414168128,
          0.000046493593035383066,
          0.000046028585887665606,
          0.00004557880685628631,
          0.000045143978883185736,
          0.00004472382380668851,
          0.00004431806247469857,
          0.000043926414858842896,
          0.00004354860016951333,
          0.000043184336971756805,
          0.00004283334330196119,
          0.000042495336785284054,
          0.00004217003475376876,
          0.00004185715436509208,
          0.00004155641272188456,
          0.00004126752699156536,
          0.00004099021452662959,
          0.00004072419298532693,
          0.0000404691804526668,
          0.000040224895561685824,
          0.00003999105761491042,
          0.00003976738670594721,
          0.00003955360384113117,
          0.000039349431061162146,
          0.000039154591562656755,
          0.00003896880981954379,
          0.00003879181170422783,
          0.00003862332460844679,
          0.00003846307756374607,
          0.000038310801361492746,
          0.00003816622867235051,
          0.00003802909416513683,
          0.00003789913462498179,
          0.0000377760890707076,
          0.00003765969887134746,
          0.000037549707861721085,
          0.000037445862456984435,
          0.00003734791176607004,
          0.00003725560770393431,
          0.00003716870510252761,
          0.000037086961820403166,
          0.00003701013885087974,
          0.00003693800042867417,
          0.0000368703141349188,
          0.000036806851000479665,
          0.000036747385607491236,
          0.00003669169618902356,
          0.00003663956472679887,
          0.000036590777046874104,
          0.00003654512291320723,
          0.00003650239611902573,
          0.00003646239457591612,
          0.0000364249204005547,
          0.00003638977999900031,
          0.00003635678414847134,
          0.000036325748076529964,
          0.00003629649153759849,
          0.00003626883888673339,
          0.00003624261915058462,
          0.000036217666095469095,
          0.00003619381829248904,
          0.00003617091917962756,
          0.000036148817120755783,
          0.00003612736546148772,
          0.00003610642258182126,
          0.0000360858519455056,
          0.00003606552214607772,
          0.000036045306949513114,
          0.00003602508533343765,
          0.000036004741522850856,
          0.000035984165022312675,
          0.00003596325064454868,
          0.00003594189853543161,
          0.00003592001419529947,
          0.000035897508496573446,
          0.00003587429769764204,
          0.0000358503034529802,
          0.00003582545281947583,
          0.00003579967825893867,
          0.00003577291763677012,
          0.000035745114216775026,
          0.000035716216652100694,
          0.000035686178972290415,
          0.0000356549605664432,
          0.00003562252616247392,
          0.00003558884580247196,
          0.00003555389481415919,
          0.000035517653778452334,
          0.00003548010849313741,
          0.00003544124993266774,
          0.00003540107420410033,
          0.00003535958249918914,
          0.00003531678104265636,
          0.000035272681036667514,
          0.00003522729860153833,
          0.00003518065471270585,
          0.000035132775133998507,
          0.00003508369034724457,
          0.000035033435478260435,
          0.00003498205021926466,
          0.00003492957874776588,
          0.00003487606964197729,
          0.00003482157579281209,
          0.00003476615431251909,
          0.00003470986644001921,
          0.000034652777443008204,
          0.0000345949565168929,
          0.00003453647668063176,
          0.00003447741466955324,
          0.000034417850825228894,
          0.00003435786898247989,
          0.000034297556353599773,
          0.000034237003409877575,
          0.00003417630376050926,
          0.00003411555402898692,
          0.000034054853727058736,
          0.000033994305126353946,
          0.00003393401312777045,
          0.00003387408512872415,
          0.00003381463088836165,
          0.000033755762390840046,
          0.0000336975937067791,
          0.00003364024085299377,
          0.00003358382165061587,
          0.00003352845558171637,
          0.00003347426364454055,
          0.000033421368207470574,
          0.00003336989286183081,
          0.000033319962273652976,
          0.00003327170203451929,
          0.000033225238511603074,
          0.00003318069869702694,
          0.000033138210056660244,
          0.000033097900378477706,
          0.00003305989762060236,
          0.00003302432975915632,
          0.00003299132463604357,
          0.00003296100980678928,
          0.00003293351238856076,
          0.00003290895890849508,
          0.000032887475152458766,
          0.00003286918601436508,
          0.00003285421534617392,
          0.00003284268580869978,
          0.000032834718723352674,
          0.00003283043392493626,
          0.00003282994961562777,
          0.00003283338222026282,
          0.00003284084624304817,
          0.00003285245412582467,
          0.00003286831610800139,
          0.00003288854008828144,
          0.000032913231488298644,
          0.00003294249311828316,
          0.00003297642504487302,
          0.00003301512446118684,
          0.000033058685559272045,
          0.000033107199405041056,
          0.000033160753815806137,
          0.00003321943324052243,
          0.000033283318642846334,
          0.00003335248738711464,
          0.00003342701312734816,
          0.00003350696569938083,
          0.00003359241101621389,
          0.000033683410966691866,
          0.00003378002331759488,
          0.00003388230161923963,
          0.00003399029511467864,
          0.000034104048652584475,
          0.000034223602603903864,
          0.00003434899278236266,
          0.00003448025036890082,
          0.00003461740184011291,
          0.00003476046890076701,
          0.000034909468420471615,
          0.000035064412374557375,
          0.00003522530778923637,
          0.000035392156691099714,
          0.000035564956061009034,
          0.000035743697792436415,
          0.000035928368654300784,
          0.000036118950258348485,
          0.00003631541903111909,
          0.000036517746190536236,
          0.00003672589772715769,
          0.00003693983439011647,
          0.000037159511677779494,
          0.00003738487983314845,
          0.00003761588384402048,
          0.00003785246344792595,
          0.00003809455314185307,
          0.00003834208219676769,
          0.00003859497467693052,
          0.000038853149464011394,
          0.00003911652028599446,
          0.000039384995750865586,
          0.00003965847938506747,
          0.00003993686967670452,
          0.00004022006012347514,
          0.00004050793928530498,
          0.00004080039084164896,
          0.00004109729365342798,
          0.00004139852182955962,
          0.000041703944798038596,
          0.000042013427381519395,
          0.00004232682987734684,
          0.00004264400814197885,
          0.00004296481367973845,
          0.000043289093735830673,
          0.00004361669139355308,
          0.00004394744567562633,
          0.000044281191649565675,
          0.000044617760537011864,
          0.00004495697982693306,
          0.000045298673392608384,
          0.00004564266161229685,
          0.000045988761493494564,
          0.00004633678680067578,
          0.00004668654818641219,
          0.00004703785332575985,
          0.00004739050705380038,
          0.00004774431150621793,
          0.00004809906626279164,
          0.00004845456849367867,
          0.00004881061310836087,
          0.000049166992907123155,
          0.0000495234987349303,
          0.000049879919637564635,
          0.00005023604301988608,
          0.00005059165480607006,
          0.00005094653960167991,
          0.000051300480857424855,
          0.0000516532610344553,
          0.00005200466177104146,
          0.000052354464050482604,
          0.00005270244837009016,
          0.00005304839491108785,
          0.00005339208370926853,
          0.00005373329482624788,
          0.0000540718085211524,
          0.000054407405422579964,
          0.000054739866700667295,
          0.00005506897423910143,
          0.00005539451080690937,
          0.00005571626022986006,
          0.00005603400756131454,
          0.00005634753925235695,
          0.00005665664332104228,
          0.000056961109520594944,
          0.000057260729506395034,
          0.00005755529700158718,
          0.00005784460796115048,
          0.0000581284607342672,
          0.000058406656224831144,
          0.000058678998049935994,
          0.00005894529269618742,
          0.000059205349673683746,
          0.00005945898166751303,
          0.000059706004686615144,
          0.0000599462382098614,
          0.00006017950532920639,
          0.00006040563288976985,
          0.0000606244516267084,
          0.000060835796298741914,
          0.00006103950581820093,
          0.00006123542337746712,
          0.00006142339657167949,
          0.00006160327751758695,
          0.00006177492296842786,
          0.00006193819442472472,
          0.00006209295824088427,
          0.00006223908572749888,
          0.00006237645324924936,
          0.00006250494231831476,
          0.00006262443968319815,
          0.00006273483741288436,
          0.00006283603297624907,
          0.00006292792931664527,
          0.00006301043492159702,
          0.0000630834638875376,
          0.00006314693597953291,
          0.0000632007766859383,
          0.00006324491726794098,
          0.00006327929480394731,
          0.00006330385222877972,
          0.00006331853836765275,
          0.00006332330796490578,
          0.0000633181217074735,
          0.00006330294624308326,
          0.00006327775419317262,
          0.00006324252416052785,
          0.00006319724073164913,
          0.00006314189447385433,
          0.00006307648192713987,
          0.00006300100559082171,
          0.00006291547390498705,
          0.00006281990122679183,
          0.00006271430780164506,
          0.00006259871972932795,
          0.00006247316892509954,
          0.00006233769307584763,
          0.00006219233559134873,
          0.00006203714555070566
         ]
        }
       ],
       "layout": {
        "template": {
         "data": {
          "bar": [
           {
            "error_x": {
             "color": "#2a3f5f"
            },
            "error_y": {
             "color": "#2a3f5f"
            },
            "marker": {
             "line": {
              "color": "#E5ECF6",
              "width": 0.5
             },
             "pattern": {
              "fillmode": "overlay",
              "size": 10,
              "solidity": 0.2
             }
            },
            "type": "bar"
           }
          ],
          "barpolar": [
           {
            "marker": {
             "line": {
              "color": "#E5ECF6",
              "width": 0.5
             },
             "pattern": {
              "fillmode": "overlay",
              "size": 10,
              "solidity": 0.2
             }
            },
            "type": "barpolar"
           }
          ],
          "carpet": [
           {
            "aaxis": {
             "endlinecolor": "#2a3f5f",
             "gridcolor": "white",
             "linecolor": "white",
             "minorgridcolor": "white",
             "startlinecolor": "#2a3f5f"
            },
            "baxis": {
             "endlinecolor": "#2a3f5f",
             "gridcolor": "white",
             "linecolor": "white",
             "minorgridcolor": "white",
             "startlinecolor": "#2a3f5f"
            },
            "type": "carpet"
           }
          ],
          "choropleth": [
           {
            "colorbar": {
             "outlinewidth": 0,
             "ticks": ""
            },
            "type": "choropleth"
           }
          ],
          "contour": [
           {
            "colorbar": {
             "outlinewidth": 0,
             "ticks": ""
            },
            "colorscale": [
             [
              0,
              "#0d0887"
             ],
             [
              0.1111111111111111,
              "#46039f"
             ],
             [
              0.2222222222222222,
              "#7201a8"
             ],
             [
              0.3333333333333333,
              "#9c179e"
             ],
             [
              0.4444444444444444,
              "#bd3786"
             ],
             [
              0.5555555555555556,
              "#d8576b"
             ],
             [
              0.6666666666666666,
              "#ed7953"
             ],
             [
              0.7777777777777778,
              "#fb9f3a"
             ],
             [
              0.8888888888888888,
              "#fdca26"
             ],
             [
              1,
              "#f0f921"
             ]
            ],
            "type": "contour"
           }
          ],
          "contourcarpet": [
           {
            "colorbar": {
             "outlinewidth": 0,
             "ticks": ""
            },
            "type": "contourcarpet"
           }
          ],
          "heatmap": [
           {
            "colorbar": {
             "outlinewidth": 0,
             "ticks": ""
            },
            "colorscale": [
             [
              0,
              "#0d0887"
             ],
             [
              0.1111111111111111,
              "#46039f"
             ],
             [
              0.2222222222222222,
              "#7201a8"
             ],
             [
              0.3333333333333333,
              "#9c179e"
             ],
             [
              0.4444444444444444,
              "#bd3786"
             ],
             [
              0.5555555555555556,
              "#d8576b"
             ],
             [
              0.6666666666666666,
              "#ed7953"
             ],
             [
              0.7777777777777778,
              "#fb9f3a"
             ],
             [
              0.8888888888888888,
              "#fdca26"
             ],
             [
              1,
              "#f0f921"
             ]
            ],
            "type": "heatmap"
           }
          ],
          "heatmapgl": [
           {
            "colorbar": {
             "outlinewidth": 0,
             "ticks": ""
            },
            "colorscale": [
             [
              0,
              "#0d0887"
             ],
             [
              0.1111111111111111,
              "#46039f"
             ],
             [
              0.2222222222222222,
              "#7201a8"
             ],
             [
              0.3333333333333333,
              "#9c179e"
             ],
             [
              0.4444444444444444,
              "#bd3786"
             ],
             [
              0.5555555555555556,
              "#d8576b"
             ],
             [
              0.6666666666666666,
              "#ed7953"
             ],
             [
              0.7777777777777778,
              "#fb9f3a"
             ],
             [
              0.8888888888888888,
              "#fdca26"
             ],
             [
              1,
              "#f0f921"
             ]
            ],
            "type": "heatmapgl"
           }
          ],
          "histogram": [
           {
            "marker": {
             "pattern": {
              "fillmode": "overlay",
              "size": 10,
              "solidity": 0.2
             }
            },
            "type": "histogram"
           }
          ],
          "histogram2d": [
           {
            "colorbar": {
             "outlinewidth": 0,
             "ticks": ""
            },
            "colorscale": [
             [
              0,
              "#0d0887"
             ],
             [
              0.1111111111111111,
              "#46039f"
             ],
             [
              0.2222222222222222,
              "#7201a8"
             ],
             [
              0.3333333333333333,
              "#9c179e"
             ],
             [
              0.4444444444444444,
              "#bd3786"
             ],
             [
              0.5555555555555556,
              "#d8576b"
             ],
             [
              0.6666666666666666,
              "#ed7953"
             ],
             [
              0.7777777777777778,
              "#fb9f3a"
             ],
             [
              0.8888888888888888,
              "#fdca26"
             ],
             [
              1,
              "#f0f921"
             ]
            ],
            "type": "histogram2d"
           }
          ],
          "histogram2dcontour": [
           {
            "colorbar": {
             "outlinewidth": 0,
             "ticks": ""
            },
            "colorscale": [
             [
              0,
              "#0d0887"
             ],
             [
              0.1111111111111111,
              "#46039f"
             ],
             [
              0.2222222222222222,
              "#7201a8"
             ],
             [
              0.3333333333333333,
              "#9c179e"
             ],
             [
              0.4444444444444444,
              "#bd3786"
             ],
             [
              0.5555555555555556,
              "#d8576b"
             ],
             [
              0.6666666666666666,
              "#ed7953"
             ],
             [
              0.7777777777777778,
              "#fb9f3a"
             ],
             [
              0.8888888888888888,
              "#fdca26"
             ],
             [
              1,
              "#f0f921"
             ]
            ],
            "type": "histogram2dcontour"
           }
          ],
          "mesh3d": [
           {
            "colorbar": {
             "outlinewidth": 0,
             "ticks": ""
            },
            "type": "mesh3d"
           }
          ],
          "parcoords": [
           {
            "line": {
             "colorbar": {
              "outlinewidth": 0,
              "ticks": ""
             }
            },
            "type": "parcoords"
           }
          ],
          "pie": [
           {
            "automargin": true,
            "type": "pie"
           }
          ],
          "scatter": [
           {
            "fillpattern": {
             "fillmode": "overlay",
             "size": 10,
             "solidity": 0.2
            },
            "type": "scatter"
           }
          ],
          "scatter3d": [
           {
            "line": {
             "colorbar": {
              "outlinewidth": 0,
              "ticks": ""
             }
            },
            "marker": {
             "colorbar": {
              "outlinewidth": 0,
              "ticks": ""
             }
            },
            "type": "scatter3d"
           }
          ],
          "scattercarpet": [
           {
            "marker": {
             "colorbar": {
              "outlinewidth": 0,
              "ticks": ""
             }
            },
            "type": "scattercarpet"
           }
          ],
          "scattergeo": [
           {
            "marker": {
             "colorbar": {
              "outlinewidth": 0,
              "ticks": ""
             }
            },
            "type": "scattergeo"
           }
          ],
          "scattergl": [
           {
            "marker": {
             "colorbar": {
              "outlinewidth": 0,
              "ticks": ""
             }
            },
            "type": "scattergl"
           }
          ],
          "scattermapbox": [
           {
            "marker": {
             "colorbar": {
              "outlinewidth": 0,
              "ticks": ""
             }
            },
            "type": "scattermapbox"
           }
          ],
          "scatterpolar": [
           {
            "marker": {
             "colorbar": {
              "outlinewidth": 0,
              "ticks": ""
             }
            },
            "type": "scatterpolar"
           }
          ],
          "scatterpolargl": [
           {
            "marker": {
             "colorbar": {
              "outlinewidth": 0,
              "ticks": ""
             }
            },
            "type": "scatterpolargl"
           }
          ],
          "scatterternary": [
           {
            "marker": {
             "colorbar": {
              "outlinewidth": 0,
              "ticks": ""
             }
            },
            "type": "scatterternary"
           }
          ],
          "surface": [
           {
            "colorbar": {
             "outlinewidth": 0,
             "ticks": ""
            },
            "colorscale": [
             [
              0,
              "#0d0887"
             ],
             [
              0.1111111111111111,
              "#46039f"
             ],
             [
              0.2222222222222222,
              "#7201a8"
             ],
             [
              0.3333333333333333,
              "#9c179e"
             ],
             [
              0.4444444444444444,
              "#bd3786"
             ],
             [
              0.5555555555555556,
              "#d8576b"
             ],
             [
              0.6666666666666666,
              "#ed7953"
             ],
             [
              0.7777777777777778,
              "#fb9f3a"
             ],
             [
              0.8888888888888888,
              "#fdca26"
             ],
             [
              1,
              "#f0f921"
             ]
            ],
            "type": "surface"
           }
          ],
          "table": [
           {
            "cells": {
             "fill": {
              "color": "#EBF0F8"
             },
             "line": {
              "color": "white"
             }
            },
            "header": {
             "fill": {
              "color": "#C8D4E3"
             },
             "line": {
              "color": "white"
             }
            },
            "type": "table"
           }
          ]
         },
         "layout": {
          "annotationdefaults": {
           "arrowcolor": "#2a3f5f",
           "arrowhead": 0,
           "arrowwidth": 1
          },
          "autotypenumbers": "strict",
          "coloraxis": {
           "colorbar": {
            "outlinewidth": 0,
            "ticks": ""
           }
          },
          "colorscale": {
           "diverging": [
            [
             0,
             "#8e0152"
            ],
            [
             0.1,
             "#c51b7d"
            ],
            [
             0.2,
             "#de77ae"
            ],
            [
             0.3,
             "#f1b6da"
            ],
            [
             0.4,
             "#fde0ef"
            ],
            [
             0.5,
             "#f7f7f7"
            ],
            [
             0.6,
             "#e6f5d0"
            ],
            [
             0.7,
             "#b8e186"
            ],
            [
             0.8,
             "#7fbc41"
            ],
            [
             0.9,
             "#4d9221"
            ],
            [
             1,
             "#276419"
            ]
           ],
           "sequential": [
            [
             0,
             "#0d0887"
            ],
            [
             0.1111111111111111,
             "#46039f"
            ],
            [
             0.2222222222222222,
             "#7201a8"
            ],
            [
             0.3333333333333333,
             "#9c179e"
            ],
            [
             0.4444444444444444,
             "#bd3786"
            ],
            [
             0.5555555555555556,
             "#d8576b"
            ],
            [
             0.6666666666666666,
             "#ed7953"
            ],
            [
             0.7777777777777778,
             "#fb9f3a"
            ],
            [
             0.8888888888888888,
             "#fdca26"
            ],
            [
             1,
             "#f0f921"
            ]
           ],
           "sequentialminus": [
            [
             0,
             "#0d0887"
            ],
            [
             0.1111111111111111,
             "#46039f"
            ],
            [
             0.2222222222222222,
             "#7201a8"
            ],
            [
             0.3333333333333333,
             "#9c179e"
            ],
            [
             0.4444444444444444,
             "#bd3786"
            ],
            [
             0.5555555555555556,
             "#d8576b"
            ],
            [
             0.6666666666666666,
             "#ed7953"
            ],
            [
             0.7777777777777778,
             "#fb9f3a"
            ],
            [
             0.8888888888888888,
             "#fdca26"
            ],
            [
             1,
             "#f0f921"
            ]
           ]
          },
          "colorway": [
           "#636efa",
           "#EF553B",
           "#00cc96",
           "#ab63fa",
           "#FFA15A",
           "#19d3f3",
           "#FF6692",
           "#B6E880",
           "#FF97FF",
           "#FECB52"
          ],
          "font": {
           "color": "#2a3f5f"
          },
          "geo": {
           "bgcolor": "white",
           "lakecolor": "white",
           "landcolor": "#E5ECF6",
           "showlakes": true,
           "showland": true,
           "subunitcolor": "white"
          },
          "hoverlabel": {
           "align": "left"
          },
          "hovermode": "closest",
          "mapbox": {
           "style": "light"
          },
          "paper_bgcolor": "white",
          "plot_bgcolor": "#E5ECF6",
          "polar": {
           "angularaxis": {
            "gridcolor": "white",
            "linecolor": "white",
            "ticks": ""
           },
           "bgcolor": "#E5ECF6",
           "radialaxis": {
            "gridcolor": "white",
            "linecolor": "white",
            "ticks": ""
           }
          },
          "scene": {
           "xaxis": {
            "backgroundcolor": "#E5ECF6",
            "gridcolor": "white",
            "gridwidth": 2,
            "linecolor": "white",
            "showbackground": true,
            "ticks": "",
            "zerolinecolor": "white"
           },
           "yaxis": {
            "backgroundcolor": "#E5ECF6",
            "gridcolor": "white",
            "gridwidth": 2,
            "linecolor": "white",
            "showbackground": true,
            "ticks": "",
            "zerolinecolor": "white"
           },
           "zaxis": {
            "backgroundcolor": "#E5ECF6",
            "gridcolor": "white",
            "gridwidth": 2,
            "linecolor": "white",
            "showbackground": true,
            "ticks": "",
            "zerolinecolor": "white"
           }
          },
          "shapedefaults": {
           "line": {
            "color": "#2a3f5f"
           }
          },
          "ternary": {
           "aaxis": {
            "gridcolor": "white",
            "linecolor": "white",
            "ticks": ""
           },
           "baxis": {
            "gridcolor": "white",
            "linecolor": "white",
            "ticks": ""
           },
           "bgcolor": "#E5ECF6",
           "caxis": {
            "gridcolor": "white",
            "linecolor": "white",
            "ticks": ""
           }
          },
          "title": {
           "x": 0.05
          },
          "xaxis": {
           "automargin": true,
           "gridcolor": "white",
           "linecolor": "white",
           "ticks": "",
           "title": {
            "standoff": 15
           },
           "zerolinecolor": "white",
           "zerolinewidth": 2
          },
          "yaxis": {
           "automargin": true,
           "gridcolor": "white",
           "linecolor": "white",
           "ticks": "",
           "title": {
            "standoff": 15
           },
           "zerolinecolor": "white",
           "zerolinewidth": 2
          }
         }
        },
        "updatemenus": [
         {
          "buttons": [
           {
            "args": [
             {
              "visible": [
               true,
               true,
               false,
               false
              ]
             },
             {
              "title": "None"
             }
            ],
            "label": "None",
            "method": "update"
           },
           {
            "args": [
             {
              "visible": [
               true,
               true,
               true,
               false
              ]
             },
             {
              "title": "Gaussian KDE (scott)"
             }
            ],
            "label": "scott",
            "method": "update"
           },
           {
            "args": [
             {
              "visible": [
               true,
               true,
               false,
               true
              ]
             },
             {
              "title": "Gaussian KDE (silverman)"
             }
            ],
            "label": "silverman",
            "method": "update"
           }
          ],
          "direction": "down",
          "showactive": true,
          "type": "dropdown",
          "x": 0.7,
          "y": 1.15
         }
        ]
       }
      }
     },
     "metadata": {},
     "output_type": "display_data"
    }
   ],
   "source": [
    "import plotly.graph_objects as go\n",
    "import numpy as np\n",
    "from scipy.stats import norm, gaussian_kde\n",
    "\n",
    "cur_data = data.health_3q2023\n",
    "cur_min = cur_data.min()\n",
    "cur_max = cur_data.max()\n",
    "\n",
    "# Create histogram\n",
    "hist = go.Histogram(x=cur_data, histnorm='probability density', name='Histogram', nbinsx=30)\n",
    "bw_methods = [\"scott\", \"silverman\"]\n",
    "\n",
    "x_vals = np.linspace(cur_min, cur_max, 1000)\n",
    "\n",
    "\n",
    "# KDE traces\n",
    "kde_traces = []\n",
    "for method in bw_methods:\n",
    "\n",
    "    kde = gaussian_kde(cur_data, bw_method=method)\n",
    "    \n",
    "    kde_trace = go.Scatter(\n",
    "        x=x_vals,\n",
    "        y = kde.evaluate(x_vals), # Placeholder for actual KDE\n",
    "        mode='lines',\n",
    "        name=f'KDE ({method})',\n",
    "        visible=False\n",
    "    )\n",
    "    kde_traces.append(kde_trace)\n",
    "\n",
    "# Normal distribution trace\n",
    "normal_trace = go.Scatter(\n",
    "    x=x_vals,\n",
    "    y=norm.pdf(x_vals, loc=np.mean(cur_data), scale=np.std(cur_data)),\n",
    "    mode='lines',\n",
    "    name='Normal Distribution',\n",
    "    line=dict(dash='dash')\n",
    ")\n",
    "\n",
    "# Add all traces\n",
    "fig = go.Figure(data=[hist, normal_trace] + kde_traces)\n",
    "\n",
    "# Update layout with selector\n",
    "fig.update_layout(\n",
    "    updatemenus=[\n",
    "        dict(\n",
    "            type=\"dropdown\",\n",
    "            direction=\"down\",\n",
    "            x=0.7,\n",
    "            y=1.15,\n",
    "            showactive=True,\n",
    "            buttons=list([\n",
    "                dict(label=\"None\",\n",
    "                     method=\"update\",\n",
    "                     args=[{\"visible\": [True, True] + [False] * len(bw_methods)},\n",
    "                           {\"title\": \"None\"}]),\n",
    "                dict(label=\"scott\",\n",
    "                     method=\"update\",\n",
    "                     args=[{\"visible\": [True, True] + [method == 'scott' for method in bw_methods]},\n",
    "                           {\"title\": \"Gaussian KDE (scott)\"}]),\n",
    "                dict(label=\"silverman\",\n",
    "                     method=\"update\",\n",
    "                     args=[{\"visible\": [True, True] + [method == 'silverman' for method in bw_methods]},\n",
    "                           {\"title\": \"Gaussian KDE (silverman)\"}]),\n",
    "\n",
    "            ]),\n",
    "        )\n",
    "    ]\n",
    ")\n",
    "\n",
    "fig.show()\n"
   ]
  },
  {
   "cell_type": "code",
   "execution_count": null,
   "metadata": {},
   "outputs": [],
   "source": []
  }
 ],
 "metadata": {
  "kernelspec": {
   "display_name": "venv",
   "language": "python",
   "name": "python3"
  },
  "language_info": {
   "codemirror_mode": {
    "name": "ipython",
    "version": 3
   },
   "file_extension": ".py",
   "mimetype": "text/x-python",
   "name": "python",
   "nbconvert_exporter": "python",
   "pygments_lexer": "ipython3",
   "version": "3.10.11"
  }
 },
 "nbformat": 4,
 "nbformat_minor": 2
}
